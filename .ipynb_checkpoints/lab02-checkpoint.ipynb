{
 "cells": [
  {
   "cell_type": "markdown",
   "metadata": {},
   "source": [
    "# Lab 02 - numpy\n",
    "\n",
    "Name: Andrew Hawk  \n",
    "Class: CSCI 349 - Intro to Data Mining  \n",
    "Semester: 2020SP  \n",
    "Instructor: Brain King  "
   ]
  },
  {
   "cell_type": "code",
   "execution_count": 1,
   "metadata": {},
   "outputs": [],
   "source": [
    "# Setting things up\n",
    "import sys\n",
    "import numpy as np"
   ]
  },
  {
   "cell_type": "markdown",
   "metadata": {},
   "source": [
    "### 1. Create an 52500 x 75 matrix of zeros, stored as X. Then, print out the shape of the matrix, the base data type, the individual item size in the array, and the total size of the array in bytes (as an integer). Also, print out the total size in megabytes with 3 places of significance."
   ]
  },
  {
   "cell_type": "code",
   "execution_count": 28,
   "metadata": {},
   "outputs": [
    {
     "name": "stdout",
     "output_type": "stream",
     "text": [
      "Shape: (52500, 75)\n",
      "Base data type: float64\n",
      "Individual item size: 8\n",
      "Total size in bytes: 31500000\n",
      "Total size in megabytes:31.500\n"
     ]
    }
   ],
   "source": [
    "X = np.zeros((52500,75))\n",
    "print(\"Shape:\", X.shape)\n",
    "print(\"Base data type:\", X.dtype)\n",
    "print(\"Individual item size:\", X.itemsize)\n",
    "print(\"Total size in bytes:\", X.size*X.itemsize)\n",
    "print(\"Total size in megabytes:{:.3f}\".format((X.size*X.itemsize)/1000000))\n"
   ]
  },
  {
   "cell_type": "markdown",
   "metadata": {},
   "source": [
    "### 2. Resize X to have the same number of elements, but with 100 rows. Show the shape. Show the number of bytes (which should be the same as the previous answer)"
   ]
  },
  {
   "cell_type": "code",
   "execution_count": 29,
   "metadata": {},
   "outputs": [
    {
     "name": "stdout",
     "output_type": "stream",
     "text": [
      "Shape: (100, 39375)\n",
      "Total size in bytes: 31500000\n"
     ]
    }
   ],
   "source": [
    "X = X.reshape(100,-1) # -1 means that row dimension is automatically calculated\n",
    "print(\"Shape:\", X.shape)\n",
    "print(\"Total size in bytes:\", X.size*X.itemsize)"
   ]
  },
  {
   "cell_type": "markdown",
   "metadata": {},
   "source": [
    "### 3. Redo #1, but use a base datatype of 16-bit integers."
   ]
  },
  {
   "cell_type": "code",
   "execution_count": 30,
   "metadata": {},
   "outputs": [
    {
     "name": "stdout",
     "output_type": "stream",
     "text": [
      "Shape: (52500, 75)\n",
      "Base data type: int16\n",
      "Individual item size: 2\n",
      "Total size in bytes: 7875000\n",
      "Total size in megabytes:7.875\n"
     ]
    }
   ],
   "source": [
    "X = np.zeros((52500,75), dtype=np.int16)\n",
    "print(\"Shape:\", X.shape)\n",
    "print(\"Base data type:\", X.dtype)\n",
    "print(\"Individual item size:\", X.itemsize)\n",
    "print(\"Total size in bytes:\", X.size*X.itemsize)\n",
    "print(\"Total size in megabytes:{:.3f}\".format((X.size*X.itemsize)/1000000))"
   ]
  },
  {
   "cell_type": "markdown",
   "metadata": {},
   "source": [
    "### 4. How many dimensions does X have? Answer using the appropriate property of np.ndarray objects."
   ]
  },
  {
   "cell_type": "code",
   "execution_count": 31,
   "metadata": {},
   "outputs": [
    {
     "name": "stdout",
     "output_type": "stream",
     "text": [
      "Number of dimensions: 2\n"
     ]
    }
   ],
   "source": [
    "print(\"Number of dimensions:\", X.ndim)"
   ]
  },
  {
   "cell_type": "markdown",
   "metadata": {},
   "source": [
    "### 5. Enter the following list in your cell: \n",
    "### str_nums = ['2.14', '-9.3', '42']\n",
    "### Convert this to a numpy array named X. What is the base type? Show the contents of X. Then, convert X to an array of single precision floating point numbers. (HINT: use astype). Show X again. "
   ]
  },
  {
   "cell_type": "code",
   "execution_count": 41,
   "metadata": {},
   "outputs": [
    {
     "name": "stdout",
     "output_type": "stream",
     "text": [
      "Base data type: <U4\n",
      "Contents: ['2.14' '-9.3' '42']\n",
      "Contents: [ 2.14 -9.3  42.  ]\n"
     ]
    }
   ],
   "source": [
    "str_nums = ['2.14', '-9.3', '42']\n",
    "X = np.array(str_nums)\n",
    "print(\"Base data type:\", X.dtype)\n",
    "print(\"Contents:\", X)\n",
    "X = X.astype(np.float32)\n",
    "print(\"Contents:\", X)"
   ]
  },
  {
   "cell_type": "markdown",
   "metadata": {},
   "source": [
    "### Let's assume you have two week's worth of quiz scores. Quizzes are out of 10 points, and are given every day. Enter the following in your cell:\n",
    "### days = [\"Mon\",\"Tue\",\"Wed\",\"Thu\",\"Fri\"] <br/> scores_1 = [9.5, 8.75, 8, 10, 7.75] <br/>scores_2 = [9, 8, 10, 8.75, 7.25]"
   ]
  },
  {
   "cell_type": "markdown",
   "metadata": {},
   "source": [
    "### 6. Copy the three definitions above for days, scores_1, and scores_2. Create a numpy array called scores, that has scores_1 as the first row and scores_2 as the second row, using np.concatenate. Then, change days into a np.array from the list days. Show the contents of scores and days, and output their shape. NOT DONE YET!!!!!!!!!!!!!!!!!"
   ]
  },
  {
   "cell_type": "code",
   "execution_count": 176,
   "metadata": {},
   "outputs": [
    {
     "name": "stdout",
     "output_type": "stream",
     "text": [
      "Scores:  [ 9.5   8.75  8.   10.    7.75  9.    8.   10.    8.75  7.25]\n",
      "Scores shape: (10,)\n",
      "Days: ['Mon' 'Tue' 'Wed' 'Thu' 'Fri']\n",
      "Days shape: (5,)\n"
     ]
    }
   ],
   "source": [
    "days = [\"Mon\",\"Tue\",\"Wed\",\"Thu\",\"Fri\"]\n",
    "scores_1 = [9.5, 8.75, 8, 10, 7.75]\n",
    "scores_2 = [9, 8, 10, 8.75, 7.25]\n",
    "\n",
    "scores = np.concatenate((np.array(scores_1),np.array(scores_2)))\n",
    "print(\"Scores: \",scores)\n",
    "print(\"Scores shape:\", scores.shape)\n",
    "days = np.array(days)\n",
    "print(\"Days:\",days)\n",
    "print(\"Days shape:\", days.shape)"
   ]
  },
  {
   "cell_type": "markdown",
   "metadata": {},
   "source": [
    "### 7. Repeat the previous problem with the creation of scores from scores_1 and scores_2, but repeat it with np.vstack. The array should be identical. "
   ]
  },
  {
   "cell_type": "code",
   "execution_count": 177,
   "metadata": {},
   "outputs": [
    {
     "name": "stdout",
     "output_type": "stream",
     "text": [
      "Scores:\n",
      "[[ 9.5   8.75  8.   10.    7.75]\n",
      " [ 9.    8.   10.    8.75  7.25]]\n"
     ]
    }
   ],
   "source": [
    "scores = np.vstack((scores_1, scores_2))\n",
    "print(\"Scores:\")\n",
    "print(scores)"
   ]
  },
  {
   "cell_type": "markdown",
   "metadata": {},
   "source": [
    "### 8. Compare the result of the expression days == \"Fri\" if the variable days was a Python list as entered above, vs. days being a numpy array. What is the difference in the result? In general, how does numpy deal with standard comparison operators? NOT DONE YET!!!!!!!!!!!!!!!!!"
   ]
  },
  {
   "cell_type": "markdown",
   "metadata": {},
   "source": [
    "### 9. Select the scores that fell on Monday. "
   ]
  },
  {
   "cell_type": "code",
   "execution_count": 178,
   "metadata": {},
   "outputs": [
    {
     "data": {
      "text/plain": [
       "array([[9.5],\n",
       "       [9. ]])"
      ]
     },
     "execution_count": 178,
     "metadata": {},
     "output_type": "execute_result"
    }
   ],
   "source": [
    "scores[:, days == \"Mon\"]"
   ]
  },
  {
   "cell_type": "markdown",
   "metadata": {},
   "source": [
    "### 10. Select all of the scores that are NOT on Monday (Hint – look up the ~ operator)"
   ]
  },
  {
   "cell_type": "code",
   "execution_count": 79,
   "metadata": {},
   "outputs": [
    {
     "data": {
      "text/plain": [
       "array([[ 8.75,  8.  , 10.  ,  7.75],\n",
       "       [ 8.  , 10.  ,  8.75,  7.25]])"
      ]
     },
     "execution_count": 79,
     "metadata": {},
     "output_type": "execute_result"
    }
   ],
   "source": [
    "scores[:, ~(days == \"Mon\")]"
   ]
  },
  {
   "cell_type": "markdown",
   "metadata": {},
   "source": [
    "### 11. Select the scores that were on Tuesday or Thursday"
   ]
  },
  {
   "cell_type": "code",
   "execution_count": 156,
   "metadata": {},
   "outputs": [
    {
     "data": {
      "text/plain": [
       "array([[ 8.75, 10.  ],\n",
       "       [ 8.  ,  8.75]])"
      ]
     },
     "execution_count": 156,
     "metadata": {},
     "output_type": "execute_result"
    }
   ],
   "source": [
    "# Reference: https://stackoverflow.com/questions/10062954/valueerror-the-truth-value-of-an-array-with-more-than-one-element-is-ambiguous\n",
    "scores[:, (days == \"Tue\") | (days == \"Thu\")]"
   ]
  },
  {
   "cell_type": "markdown",
   "metadata": {},
   "source": [
    "### 12. Show the minimum and maximum scores for the entire array of scores"
   ]
  },
  {
   "cell_type": "code",
   "execution_count": 124,
   "metadata": {},
   "outputs": [
    {
     "name": "stdout",
     "output_type": "stream",
     "text": [
      "Min: 7.25\n",
      "Max: 10.0\n"
     ]
    }
   ],
   "source": [
    "print(\"Min:\",np.min(scores))\n",
    "print(\"Max:\",np.max(scores))"
   ]
  },
  {
   "cell_type": "markdown",
   "metadata": {},
   "source": [
    "### 13. Show the minimum scores for each week as a new array. The result should have the same dimensions (hint– use the keepdims parameter)."
   ]
  },
  {
   "cell_type": "code",
   "execution_count": 180,
   "metadata": {},
   "outputs": [
    {
     "data": {
      "text/plain": [
       "array([[7.75],\n",
       "       [7.25]])"
      ]
     },
     "execution_count": 180,
     "metadata": {},
     "output_type": "execute_result"
    }
   ],
   "source": [
    "#np.min(scores, keepdims=True)\n",
    "#scores[:, np.argmin(scores, keepdims=True) ]\n",
    "#np.argmin()\n",
    "np.amin(scores, axis=1, keepdims=True)\n",
    "\n"
   ]
  },
  {
   "cell_type": "markdown",
   "metadata": {},
   "source": [
    "### 14. Report the day that the maximum score occurred each week. (HINT: use argmax and use that result to index days.)"
   ]
  },
  {
   "cell_type": "code",
   "execution_count": 190,
   "metadata": {},
   "outputs": [
    {
     "name": "stdout",
     "output_type": "stream",
     "text": [
      "Max score of first week occured on a Thu\n",
      "Max score of second week occured on a Wed\n"
     ]
    }
   ],
   "source": [
    "maxDays = np.argmax(scores, axis=1)\n",
    "print(\"Max score of first week occured on a\", days[maxDays[0]])\n",
    "print(\"Max score of second week occured on a\", days[maxDays[1]])"
   ]
  },
  {
   "cell_type": "markdown",
   "metadata": {},
   "source": [
    "### 15. Report the mean of the scores of each week"
   ]
  },
  {
   "cell_type": "code",
   "execution_count": 192,
   "metadata": {},
   "outputs": [
    {
     "data": {
      "text/plain": [
       "array([8.8, 8.6])"
      ]
     },
     "execution_count": 192,
     "metadata": {},
     "output_type": "execute_result"
    }
   ],
   "source": [
    "np.mean(scores, axis = 1)"
   ]
  },
  {
   "cell_type": "markdown",
   "metadata": {},
   "source": [
    "### 16. Suppose the lowest score was dropped from each week. Report the mean of each week, but without the minimum score for that week."
   ]
  },
  {
   "cell_type": "code",
   "execution_count": 199,
   "metadata": {},
   "outputs": [
    {
     "data": {
      "text/plain": [
       "array([9.0625, 8.9375])"
      ]
     },
     "execution_count": 199,
     "metadata": {},
     "output_type": "execute_result"
    }
   ],
   "source": [
    "np.mean(np.delete(scores, np.argmin(scores,axis=1), axis = 1), axis = 1)\n"
   ]
  },
  {
   "cell_type": "markdown",
   "metadata": {},
   "source": [
    "### 17. Convert the scores to fall on a scale from 0-100 instead of 0-10. Show the result."
   ]
  },
  {
   "cell_type": "code",
   "execution_count": 202,
   "metadata": {},
   "outputs": [
    {
     "data": {
      "text/plain": [
       "array([[ 95. ,  87.5,  80. , 100. ,  77.5],\n",
       "       [ 90. ,  80. , 100. ,  87.5,  72.5]])"
      ]
     },
     "execution_count": 202,
     "metadata": {},
     "output_type": "execute_result"
    }
   ],
   "source": [
    "np.multiply(scores,10)"
   ]
  },
  {
   "cell_type": "code",
   "execution_count": 203,
   "metadata": {},
   "outputs": [
    {
     "data": {
      "text/plain": [
       "array([[48, 84, 39, 54, 77],\n",
       "       [25, 16, 50, 24, 27],\n",
       "       [31, 44, 31, 27, 59],\n",
       "       [93, 70, 81, 74, 48],\n",
       "       [51, 77, 38, 35, 39],\n",
       "       [68, 12,  1, 76, 81],\n",
       "       [ 4,  3, 20, 13, 66],\n",
       "       [76, 82, 15, 72, 61],\n",
       "       [47, 29, 82, 88, 14],\n",
       "       [97, 13, 70, 96, 32]])"
      ]
     },
     "execution_count": 203,
     "metadata": {},
     "output_type": "execute_result"
    }
   ],
   "source": [
    "np.random.seed(1234)\n",
    "X = np.random.randint(1,100,50).reshape((10,5))\n",
    "X"
   ]
  },
  {
   "cell_type": "markdown",
   "metadata": {},
   "source": [
    "### 18. Select the first row of X"
   ]
  },
  {
   "cell_type": "code",
   "execution_count": 204,
   "metadata": {},
   "outputs": [
    {
     "data": {
      "text/plain": [
       "array([48, 84, 39, 54, 77])"
      ]
     },
     "execution_count": 204,
     "metadata": {},
     "output_type": "execute_result"
    }
   ],
   "source": [
    "X[0]"
   ]
  },
  {
   "cell_type": "markdown",
   "metadata": {},
   "source": [
    "### 19. Select the last column of X"
   ]
  },
  {
   "cell_type": "code",
   "execution_count": 207,
   "metadata": {},
   "outputs": [
    {
     "data": {
      "text/plain": [
       "array([77, 27, 59, 48, 39, 81, 66, 61, 14, 32])"
      ]
     },
     "execution_count": 207,
     "metadata": {},
     "output_type": "execute_result"
    }
   ],
   "source": [
    "X[:, 4]"
   ]
  },
  {
   "cell_type": "markdown",
   "metadata": {},
   "source": [
    "### 20. Select the first AND last column of X"
   ]
  },
  {
   "cell_type": "code",
   "execution_count": 210,
   "metadata": {},
   "outputs": [
    {
     "data": {
      "text/plain": [
       "array([[48, 77],\n",
       "       [25, 27],\n",
       "       [31, 59],\n",
       "       [93, 48],\n",
       "       [51, 39],\n",
       "       [68, 81],\n",
       "       [ 4, 66],\n",
       "       [76, 61],\n",
       "       [47, 14],\n",
       "       [97, 32]])"
      ]
     },
     "execution_count": 210,
     "metadata": {},
     "output_type": "execute_result"
    }
   ],
   "source": [
    "X[:, [0,4]]"
   ]
  },
  {
   "cell_type": "markdown",
   "metadata": {},
   "source": [
    "### 21. Select every other row of X"
   ]
  },
  {
   "cell_type": "code",
   "execution_count": null,
   "metadata": {},
   "outputs": [],
   "source": [
    "dfdf"
   ]
  }
 ],
 "metadata": {
  "kernelspec": {
   "display_name": "Python 3",
   "language": "python",
   "name": "python3"
  },
  "language_info": {
   "codemirror_mode": {
    "name": "ipython",
    "version": 3
   },
   "file_extension": ".py",
   "mimetype": "text/x-python",
   "name": "python",
   "nbconvert_exporter": "python",
   "pygments_lexer": "ipython3",
   "version": "3.7.6"
  }
 },
 "nbformat": 4,
 "nbformat_minor": 4
}

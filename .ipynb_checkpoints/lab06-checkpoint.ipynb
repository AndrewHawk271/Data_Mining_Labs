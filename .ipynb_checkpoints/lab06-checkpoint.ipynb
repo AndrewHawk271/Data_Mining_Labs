{
 "cells": [
  {
   "cell_type": "markdown",
   "metadata": {},
   "source": [
    "# Lab 06 - Data preprocessing I\n",
    "\n",
    "Name: Andrew Hawk  \n",
    "Class: CSCI 349 - Intro to Data Mining  \n",
    "Semester: 2020SP  \n",
    "Instructor: Brain King  \n",
    "Time ~4.5 hours"
   ]
  },
  {
   "cell_type": "code",
   "execution_count": 40,
   "metadata": {},
   "outputs": [],
   "source": [
    "import numpy as np\n",
    "import pandas as pd\n",
    "import matplotlib.pyplot as plt\n",
    "import seaborn as sns"
   ]
  },
  {
   "cell_type": "markdown",
   "metadata": {},
   "source": [
    "### 1) [P] Use pandas to read in your CSV data file you downloaded above, which you should have placed in your data directory. Call the data frame df_temps. Read in the entire dataset, however, peek at the dataset first. You'll notice 16 rows of metadata. Ignore the first 16 rows (HINT: Use the skiprows= option!)"
   ]
  },
  {
   "cell_type": "code",
   "execution_count": 41,
   "metadata": {},
   "outputs": [
    {
     "data": {
      "text/html": [
       "<div>\n",
       "<style scoped>\n",
       "    .dataframe tbody tr th:only-of-type {\n",
       "        vertical-align: middle;\n",
       "    }\n",
       "\n",
       "    .dataframe tbody tr th {\n",
       "        vertical-align: top;\n",
       "    }\n",
       "\n",
       "    .dataframe thead th {\n",
       "        text-align: right;\n",
       "    }\n",
       "</style>\n",
       "<table border=\"1\" class=\"dataframe\">\n",
       "  <thead>\n",
       "    <tr style=\"text-align: right;\">\n",
       "      <th></th>\n",
       "      <th>Date/Time (GMT)</th>\n",
       "      <th>Number of Observations (n/a)</th>\n",
       "      <th>Average Temp (F)</th>\n",
       "      <th>Max Temp (F)</th>\n",
       "      <th>Min Temp (F)</th>\n",
       "      <th>Average Dewpoint Temp (F)</th>\n",
       "      <th>1 Hour Precip (in)</th>\n",
       "      <th>Max Wind Gust (mph)</th>\n",
       "      <th>Average Relative Humidity (%)</th>\n",
       "      <th>Average Wind Speed (mph)</th>\n",
       "      <th>Average Station Pressure (mb)</th>\n",
       "      <th>Average Wind Direction (deg)</th>\n",
       "      <th>Max Wind Speed (mph)</th>\n",
       "      <th>Unnamed: 13</th>\n",
       "    </tr>\n",
       "  </thead>\n",
       "  <tbody>\n",
       "    <tr>\n",
       "      <th>0</th>\n",
       "      <td>2000-01-01 00:00:00</td>\n",
       "      <td>1</td>\n",
       "      <td>26.10</td>\n",
       "      <td>26.10</td>\n",
       "      <td>26.10</td>\n",
       "      <td>14.00</td>\n",
       "      <td>NaN</td>\n",
       "      <td>20.70</td>\n",
       "      <td>59.00</td>\n",
       "      <td>17.30</td>\n",
       "      <td>1015.2</td>\n",
       "      <td>280.00</td>\n",
       "      <td>17.30</td>\n",
       "      <td>NaN</td>\n",
       "    </tr>\n",
       "    <tr>\n",
       "      <th>1</th>\n",
       "      <td>2000-01-01 01:00:00</td>\n",
       "      <td>1</td>\n",
       "      <td>26.10</td>\n",
       "      <td>26.10</td>\n",
       "      <td>26.10</td>\n",
       "      <td>14.00</td>\n",
       "      <td>NaN</td>\n",
       "      <td>NaN</td>\n",
       "      <td>59.00</td>\n",
       "      <td>16.10</td>\n",
       "      <td>1015.9</td>\n",
       "      <td>280.00</td>\n",
       "      <td>16.10</td>\n",
       "      <td>NaN</td>\n",
       "    </tr>\n",
       "    <tr>\n",
       "      <th>2</th>\n",
       "      <td>2000-01-01 02:00:00</td>\n",
       "      <td>1</td>\n",
       "      <td>26.10</td>\n",
       "      <td>26.10</td>\n",
       "      <td>26.10</td>\n",
       "      <td>15.10</td>\n",
       "      <td>NaN</td>\n",
       "      <td>NaN</td>\n",
       "      <td>62.00</td>\n",
       "      <td>15.00</td>\n",
       "      <td>1016.3</td>\n",
       "      <td>280.00</td>\n",
       "      <td>15.00</td>\n",
       "      <td>NaN</td>\n",
       "    </tr>\n",
       "    <tr>\n",
       "      <th>3</th>\n",
       "      <td>2000-01-01 03:00:00</td>\n",
       "      <td>1</td>\n",
       "      <td>26.10</td>\n",
       "      <td>26.10</td>\n",
       "      <td>26.10</td>\n",
       "      <td>12.00</td>\n",
       "      <td>NaN</td>\n",
       "      <td>NaN</td>\n",
       "      <td>54.00</td>\n",
       "      <td>16.10</td>\n",
       "      <td>1016.6</td>\n",
       "      <td>270.00</td>\n",
       "      <td>16.10</td>\n",
       "      <td>NaN</td>\n",
       "    </tr>\n",
       "    <tr>\n",
       "      <th>4</th>\n",
       "      <td>2000-01-01 04:00:00</td>\n",
       "      <td>1</td>\n",
       "      <td>26.10</td>\n",
       "      <td>26.10</td>\n",
       "      <td>26.10</td>\n",
       "      <td>14.00</td>\n",
       "      <td>NaN</td>\n",
       "      <td>NaN</td>\n",
       "      <td>59.00</td>\n",
       "      <td>12.70</td>\n",
       "      <td>1017.3</td>\n",
       "      <td>280.00</td>\n",
       "      <td>12.70</td>\n",
       "      <td>NaN</td>\n",
       "    </tr>\n",
       "  </tbody>\n",
       "</table>\n",
       "</div>"
      ],
      "text/plain": [
       "       Date/Time (GMT) Number of Observations (n/a) Average Temp (F)  \\\n",
       "0  2000-01-01 00:00:00                            1            26.10   \n",
       "1  2000-01-01 01:00:00                            1            26.10   \n",
       "2  2000-01-01 02:00:00                            1            26.10   \n",
       "3  2000-01-01 03:00:00                            1            26.10   \n",
       "4  2000-01-01 04:00:00                            1            26.10   \n",
       "\n",
       "  Max Temp (F) Min Temp (F) Average Dewpoint Temp (F) 1 Hour Precip (in)  \\\n",
       "0        26.10        26.10                     14.00                NaN   \n",
       "1        26.10        26.10                     14.00                NaN   \n",
       "2        26.10        26.10                     15.10                NaN   \n",
       "3        26.10        26.10                     12.00                NaN   \n",
       "4        26.10        26.10                     14.00                NaN   \n",
       "\n",
       "  Max Wind Gust (mph) Average Relative Humidity (%) Average Wind Speed (mph)  \\\n",
       "0               20.70                         59.00                    17.30   \n",
       "1                 NaN                         59.00                    16.10   \n",
       "2                 NaN                         62.00                    15.00   \n",
       "3                 NaN                         54.00                    16.10   \n",
       "4                 NaN                         59.00                    12.70   \n",
       "\n",
       "  Average Station Pressure (mb) Average Wind Direction (deg)  \\\n",
       "0                        1015.2                       280.00   \n",
       "1                        1015.9                       280.00   \n",
       "2                        1016.3                       280.00   \n",
       "3                        1016.6                       270.00   \n",
       "4                        1017.3                       280.00   \n",
       "\n",
       "  Max Wind Speed (mph)  Unnamed: 13  \n",
       "0                17.30          NaN  \n",
       "1                16.10          NaN  \n",
       "2                15.00          NaN  \n",
       "3                16.10          NaN  \n",
       "4                12.70          NaN  "
      ]
     },
     "execution_count": 41,
     "metadata": {},
     "output_type": "execute_result"
    }
   ],
   "source": [
    "df_temps = pd.read_csv(\"../data/faa_hourly-KIPT_20000101-20191231_raw.csv\", skiprows=16)\n",
    "df_temps.head()"
   ]
  },
  {
   "cell_type": "markdown",
   "metadata": {},
   "source": [
    "### 2) Report the general structure of the data frame using df_temps.info(). You should notice that almost every variable was read in as a plan object data type. You have a lot of work to do!"
   ]
  },
  {
   "cell_type": "code",
   "execution_count": 42,
   "metadata": {},
   "outputs": [
    {
     "name": "stdout",
     "output_type": "stream",
     "text": [
      "<class 'pandas.core.frame.DataFrame'>\n",
      "RangeIndex: 181914 entries, 0 to 181913\n",
      "Data columns (total 14 columns):\n",
      "Date/Time (GMT)                  181914 non-null object\n",
      "Number of Observations (n/a)     181914 non-null object\n",
      "Average Temp (F)                 180915 non-null object\n",
      "Max Temp (F)                     180915 non-null object\n",
      "Min Temp (F)                     180915 non-null object\n",
      "Average Dewpoint Temp (F)        180809 non-null object\n",
      "1 Hour Precip (in)               37596 non-null object\n",
      "Max Wind Gust (mph)              32206 non-null object\n",
      "Average Relative Humidity (%)    177416 non-null object\n",
      "Average Wind Speed (mph)         181372 non-null object\n",
      "Average Station Pressure (mb)    181636 non-null object\n",
      "Average Wind Direction (deg)     149252 non-null object\n",
      "Max Wind Speed (mph)             181372 non-null object\n",
      "Unnamed: 13                      0 non-null float64\n",
      "dtypes: float64(1), object(13)\n",
      "memory usage: 19.4+ MB\n"
     ]
    }
   ],
   "source": [
    "df_temps.info()"
   ]
  },
  {
   "cell_type": "markdown",
   "metadata": {},
   "source": [
    "### 3) [P] Read about the memory_usage() method of pandas data frames. Then, report the total memory in bytes for each variable of df_temps. Set the parameter deep=True, to get the most accurate assessment of your total memory usage. (NOTE – this could take a bit of time to return an answer.)"
   ]
  },
  {
   "cell_type": "code",
   "execution_count": 43,
   "metadata": {},
   "outputs": [
    {
     "data": {
      "text/plain": [
       "Index                                 128\n",
       "Date/Time (GMT)                  13790816\n",
       "Number of Observations (n/a)     11477885\n",
       "Average Temp (F)                 11342670\n",
       "Max Temp (F)                     11308038\n",
       "Min Temp (F)                     11308017\n",
       "Average Dewpoint Temp (F)        11411051\n",
       "1 Hour Precip (in)                7032800\n",
       "Max Wind Gust (mph)               6907372\n",
       "Average Relative Humidity (%)    11354487\n",
       "Average Wind Speed (mph)         11291210\n",
       "Average Station Pressure (mb)    11647992\n",
       "Average Wind Direction (deg)     10569351\n",
       "Max Wind Speed (mph)             11259415\n",
       "Unnamed: 13                       1455312\n",
       "dtype: int64"
      ]
     },
     "execution_count": 43,
     "metadata": {},
     "output_type": "execute_result"
    }
   ],
   "source": [
    "df_temps.memory_usage(deep=True)"
   ]
  },
  {
   "cell_type": "markdown",
   "metadata": {},
   "source": [
    "### 4) [P] Report the total memory required for the data frame in MB. (Just sum the previous answer.) You should get an answer showing over a hundred megabytes! Also, store the total as a variable called original_memory. We're going to compare memory after we're done."
   ]
  },
  {
   "cell_type": "code",
   "execution_count": 44,
   "metadata": {},
   "outputs": [
    {
     "data": {
      "text/plain": [
       "142.156544"
      ]
     },
     "execution_count": 44,
     "metadata": {},
     "output_type": "execute_result"
    }
   ],
   "source": [
    "original_memory = df_temps.memory_usage(deep=True).sum()/1000000 #megabytes\n",
    "original_memory"
   ]
  },
  {
   "cell_type": "markdown",
   "metadata": {},
   "source": [
    "### 5) [P] Remember those extra column header lines that appeared throughout the entire CSV file? You need to get rid of those. Write the code to eliminated those from df_temps. (This is tricky. Think about it... you are selecting the data that does NOT have columns[0] as the first value in the observation!) HINT – At this point, you should have 173252 observations."
   ]
  },
  {
   "cell_type": "code",
   "execution_count": 45,
   "metadata": {},
   "outputs": [
    {
     "data": {
      "text/plain": [
       "173252"
      ]
     },
     "execution_count": 45,
     "metadata": {},
     "output_type": "execute_result"
    }
   ],
   "source": [
    "remove_name = df_temps.columns[0] # 'Date/Time (GMT)'\n",
    "df_temps = df_temps[df_temps.iloc[:,0] != remove_name]\n",
    "df_temps.shape[0] # observations"
   ]
  },
  {
   "cell_type": "markdown",
   "metadata": {},
   "source": [
    "### 6) [M-P] Examine the last entry of your index (i.e. df_temps.index[-1]). Then, show the number of observations in df_temps. These are unequal. Why?\n",
    "\n",
    "These are unequal since the index of df_temps has not been reset. 181913 is the amount of observations before the deletion of rows in the previous problem."
   ]
  },
  {
   "cell_type": "code",
   "execution_count": 46,
   "metadata": {},
   "outputs": [
    {
     "data": {
      "text/plain": [
       "181913"
      ]
     },
     "metadata": {},
     "output_type": "display_data"
    },
    {
     "data": {
      "text/plain": [
       "173252"
      ]
     },
     "execution_count": 46,
     "metadata": {},
     "output_type": "execute_result"
    }
   ],
   "source": [
    "display(df_temps.index[-1])\n",
    "df_temps.shape[0]"
   ]
  },
  {
   "cell_type": "markdown",
   "metadata": {},
   "source": [
    "### 7) When you permanently delete observations, it's usually a good idea to reset your index, especially if the index is nothing more than a unique number to each observations. Reindex your data, and show that the new index is indeed reset. (There are many ways to do this. I suggest using reset_index(). There is no need to retain the original index, so drop=True is fine.)"
   ]
  },
  {
   "cell_type": "code",
   "execution_count": 47,
   "metadata": {},
   "outputs": [
    {
     "data": {
      "text/plain": [
       "173251"
      ]
     },
     "execution_count": 47,
     "metadata": {},
     "output_type": "execute_result"
    }
   ],
   "source": [
    "df_temps = df_temps.reset_index(drop=True)\n",
    "df_temps.index[-1]"
   ]
  },
  {
   "cell_type": "markdown",
   "metadata": {},
   "source": [
    "### 8) You have a rather annoying extra column that was read in in the last column position. (Look closely at the output of `describe()` above!) You should always confirm that it's garbage before deleting it. Write the single line of code that reports the count of valid values in the last column (HINT: count())"
   ]
  },
  {
   "cell_type": "code",
   "execution_count": 48,
   "metadata": {},
   "outputs": [
    {
     "name": "stdout",
     "output_type": "stream",
     "text": [
      "Valid values in last column: 0\n"
     ]
    }
   ],
   "source": [
    "print(\"Valid values in last column: {}\".format(df_temps.iloc[:,13].count()))"
   ]
  },
  {
   "cell_type": "markdown",
   "metadata": {},
   "source": [
    "### 9) Drop that last column from df_temps."
   ]
  },
  {
   "cell_type": "code",
   "execution_count": 49,
   "metadata": {},
   "outputs": [],
   "source": [
    "df_temps = df_temps.iloc[:,:13]"
   ]
  },
  {
   "cell_type": "markdown",
   "metadata": {},
   "source": [
    "### 10) [P] Convert all numeric data to actual numeric data types. You'll need to look up how to do this. (HINT: pd.to_numeric() is your friend.) Leave the NaN fields alone! The fact that they are missing is IMPORTANT! And, leave the date/time variable in the first column alone. You should output the shape of your data, and show info() to show every variable is a floating point number except the date/time field in the first column, which should still be of type object."
   ]
  },
  {
   "cell_type": "code",
   "execution_count": 50,
   "metadata": {},
   "outputs": [
    {
     "name": "stdout",
     "output_type": "stream",
     "text": [
      "<class 'pandas.core.frame.DataFrame'>\n",
      "RangeIndex: 173252 entries, 0 to 173251\n",
      "Data columns (total 13 columns):\n",
      "Date/Time (GMT)                  173252 non-null object\n",
      "Number of Observations (n/a)     173252 non-null int64\n",
      "Average Temp (F)                 172253 non-null float64\n",
      "Max Temp (F)                     172253 non-null float64\n",
      "Min Temp (F)                     172253 non-null float64\n",
      "Average Dewpoint Temp (F)        172147 non-null float64\n",
      "1 Hour Precip (in)               28934 non-null float64\n",
      "Max Wind Gust (mph)              23544 non-null float64\n",
      "Average Relative Humidity (%)    168754 non-null float64\n",
      "Average Wind Speed (mph)         172710 non-null float64\n",
      "Average Station Pressure (mb)    172974 non-null float64\n",
      "Average Wind Direction (deg)     140590 non-null float64\n",
      "Max Wind Speed (mph)             172710 non-null float64\n",
      "dtypes: float64(11), int64(1), object(1)\n",
      "memory usage: 17.2+ MB\n"
     ]
    }
   ],
   "source": [
    "# Ref: https://stackoverflow.com/questions/34844711/convert-entire-pandas-dataframe-to-integers-in-pandas-0-17-0\n",
    "\n",
    "df_temps = df_temps.apply(pd.to_numeric, errors=\"ignore\")\n",
    "df_temps.info()"
   ]
  },
  {
   "cell_type": "markdown",
   "metadata": {},
   "source": [
    "### 11) [P] How much did our memory footprint improve? (Show the total memory usage using deep=True). Report the total memory usage in MB, and report the percentage improvement."
   ]
  },
  {
   "cell_type": "code",
   "execution_count": 51,
   "metadata": {},
   "outputs": [
    {
     "name": "stdout",
     "output_type": "stream",
     "text": [
      "Total memory usage: 29.799472 MB\n",
      "Percentage Improvement: 79.04%\n"
     ]
    }
   ],
   "source": [
    "improved_memory = df_temps.memory_usage(deep=True).sum()/1000000 #megabytes\n",
    "print(\"Total memory usage: {} MB\".format(improved_memory))\n",
    "print(\"Percentage Improvement: {:.2f}%\".format(100*(original_memory-improved_memory)/original_memory))"
   ]
  },
  {
   "cell_type": "markdown",
   "metadata": {},
   "source": [
    "### 12) [P] Did you notice that to_numeric() has a parameter called downcast? Go back and read about this parameter. By default, most of the time your integer types will be converted to a 64-bit integer, and floating point types will use double precision numbers. You can do far better. Downcast your types accordingly. Report your latest memory usage in MB."
   ]
  },
  {
   "cell_type": "code",
   "execution_count": 52,
   "metadata": {},
   "outputs": [
    {
     "name": "stdout",
     "output_type": "stream",
     "text": [
      "Memory usage: 20.96362 MB\n"
     ]
    }
   ],
   "source": [
    "# The order of downcast does not matter. downcast=\"float\" only applies to floats and ignores integers.\n",
    "df_temps = df_temps.apply(pd.to_numeric, errors=\"ignore\", downcast=\"float\")\n",
    "df_temps = df_temps.apply(pd.to_numeric, errors=\"ignore\", downcast=\"integer\")\n",
    "print(\"Memory usage: {} MB\".format(df_temps.memory_usage(deep=True).sum()/1000000))"
   ]
  },
  {
   "cell_type": "markdown",
   "metadata": {},
   "source": [
    "### 13) At this point, with the exception of the date column, you should have good data to start working with. Verify it by outputting the results of describe(). Every variable should have its basic stats reported!"
   ]
  },
  {
   "cell_type": "code",
   "execution_count": 53,
   "metadata": {},
   "outputs": [
    {
     "data": {
      "text/html": [
       "<div>\n",
       "<style scoped>\n",
       "    .dataframe tbody tr th:only-of-type {\n",
       "        vertical-align: middle;\n",
       "    }\n",
       "\n",
       "    .dataframe tbody tr th {\n",
       "        vertical-align: top;\n",
       "    }\n",
       "\n",
       "    .dataframe thead th {\n",
       "        text-align: right;\n",
       "    }\n",
       "</style>\n",
       "<table border=\"1\" class=\"dataframe\">\n",
       "  <thead>\n",
       "    <tr style=\"text-align: right;\">\n",
       "      <th></th>\n",
       "      <th>Number of Observations (n/a)</th>\n",
       "      <th>Average Temp (F)</th>\n",
       "      <th>Max Temp (F)</th>\n",
       "      <th>Min Temp (F)</th>\n",
       "      <th>Average Dewpoint Temp (F)</th>\n",
       "      <th>1 Hour Precip (in)</th>\n",
       "      <th>Max Wind Gust (mph)</th>\n",
       "      <th>Average Relative Humidity (%)</th>\n",
       "      <th>Average Wind Speed (mph)</th>\n",
       "      <th>Average Station Pressure (mb)</th>\n",
       "      <th>Average Wind Direction (deg)</th>\n",
       "      <th>Max Wind Speed (mph)</th>\n",
       "    </tr>\n",
       "  </thead>\n",
       "  <tbody>\n",
       "    <tr>\n",
       "      <th>count</th>\n",
       "      <td>173252.000000</td>\n",
       "      <td>172253.000000</td>\n",
       "      <td>172253.000000</td>\n",
       "      <td>172253.000000</td>\n",
       "      <td>172147.000000</td>\n",
       "      <td>28934.000000</td>\n",
       "      <td>23544.000000</td>\n",
       "      <td>168754.000000</td>\n",
       "      <td>172710.000000</td>\n",
       "      <td>172974.000000</td>\n",
       "      <td>140590.000000</td>\n",
       "      <td>172710.000000</td>\n",
       "    </tr>\n",
       "    <tr>\n",
       "      <th>mean</th>\n",
       "      <td>1.339915</td>\n",
       "      <td>51.286217</td>\n",
       "      <td>51.399208</td>\n",
       "      <td>51.179626</td>\n",
       "      <td>40.253628</td>\n",
       "      <td>0.030566</td>\n",
       "      <td>22.295341</td>\n",
       "      <td>68.819511</td>\n",
       "      <td>5.904806</td>\n",
       "      <td>1016.741272</td>\n",
       "      <td>176.806366</td>\n",
       "      <td>6.175715</td>\n",
       "    </tr>\n",
       "    <tr>\n",
       "      <th>std</th>\n",
       "      <td>0.854852</td>\n",
       "      <td>18.888988</td>\n",
       "      <td>18.907930</td>\n",
       "      <td>18.881851</td>\n",
       "      <td>19.053423</td>\n",
       "      <td>0.079247</td>\n",
       "      <td>7.581788</td>\n",
       "      <td>19.694031</td>\n",
       "      <td>5.192565</td>\n",
       "      <td>7.640043</td>\n",
       "      <td>118.790619</td>\n",
       "      <td>5.311181</td>\n",
       "    </tr>\n",
       "    <tr>\n",
       "      <th>min</th>\n",
       "      <td>0.000000</td>\n",
       "      <td>-11.900000</td>\n",
       "      <td>-11.900000</td>\n",
       "      <td>-11.900000</td>\n",
       "      <td>-20.900000</td>\n",
       "      <td>0.000000</td>\n",
       "      <td>0.000000</td>\n",
       "      <td>0.000000</td>\n",
       "      <td>0.000000</td>\n",
       "      <td>508.600006</td>\n",
       "      <td>0.000000</td>\n",
       "      <td>0.000000</td>\n",
       "    </tr>\n",
       "    <tr>\n",
       "      <th>25%</th>\n",
       "      <td>1.000000</td>\n",
       "      <td>36.000000</td>\n",
       "      <td>36.000000</td>\n",
       "      <td>36.000000</td>\n",
       "      <td>25.830000</td>\n",
       "      <td>0.000000</td>\n",
       "      <td>19.600000</td>\n",
       "      <td>54.000000</td>\n",
       "      <td>0.000000</td>\n",
       "      <td>1012.200012</td>\n",
       "      <td>70.000000</td>\n",
       "      <td>0.000000</td>\n",
       "    </tr>\n",
       "    <tr>\n",
       "      <th>50%</th>\n",
       "      <td>1.000000</td>\n",
       "      <td>52.000000</td>\n",
       "      <td>52.000000</td>\n",
       "      <td>51.799999</td>\n",
       "      <td>41.000000</td>\n",
       "      <td>0.000000</td>\n",
       "      <td>21.900000</td>\n",
       "      <td>71.000000</td>\n",
       "      <td>5.370000</td>\n",
       "      <td>1016.900024</td>\n",
       "      <td>220.000000</td>\n",
       "      <td>5.800000</td>\n",
       "    </tr>\n",
       "    <tr>\n",
       "      <th>75%</th>\n",
       "      <td>1.000000</td>\n",
       "      <td>66.900002</td>\n",
       "      <td>66.900002</td>\n",
       "      <td>66.900002</td>\n",
       "      <td>57.000000</td>\n",
       "      <td>0.030000</td>\n",
       "      <td>26.500000</td>\n",
       "      <td>86.000000</td>\n",
       "      <td>9.200000</td>\n",
       "      <td>1021.700012</td>\n",
       "      <td>280.000000</td>\n",
       "      <td>9.200000</td>\n",
       "    </tr>\n",
       "    <tr>\n",
       "      <th>max</th>\n",
       "      <td>10.000000</td>\n",
       "      <td>102.000000</td>\n",
       "      <td>102.000000</td>\n",
       "      <td>102.000000</td>\n",
       "      <td>79.000000</td>\n",
       "      <td>2.350000</td>\n",
       "      <td>88.599998</td>\n",
       "      <td>100.000000</td>\n",
       "      <td>76.000000</td>\n",
       "      <td>1044.400024</td>\n",
       "      <td>360.000000</td>\n",
       "      <td>76.000000</td>\n",
       "    </tr>\n",
       "  </tbody>\n",
       "</table>\n",
       "</div>"
      ],
      "text/plain": [
       "       Number of Observations (n/a)  Average Temp (F)   Max Temp (F)  \\\n",
       "count                 173252.000000     172253.000000  172253.000000   \n",
       "mean                       1.339915         51.286217      51.399208   \n",
       "std                        0.854852         18.888988      18.907930   \n",
       "min                        0.000000        -11.900000     -11.900000   \n",
       "25%                        1.000000         36.000000      36.000000   \n",
       "50%                        1.000000         52.000000      52.000000   \n",
       "75%                        1.000000         66.900002      66.900002   \n",
       "max                       10.000000        102.000000     102.000000   \n",
       "\n",
       "        Min Temp (F)  Average Dewpoint Temp (F)  1 Hour Precip (in)  \\\n",
       "count  172253.000000              172147.000000        28934.000000   \n",
       "mean       51.179626                  40.253628            0.030566   \n",
       "std        18.881851                  19.053423            0.079247   \n",
       "min       -11.900000                 -20.900000            0.000000   \n",
       "25%        36.000000                  25.830000            0.000000   \n",
       "50%        51.799999                  41.000000            0.000000   \n",
       "75%        66.900002                  57.000000            0.030000   \n",
       "max       102.000000                  79.000000            2.350000   \n",
       "\n",
       "       Max Wind Gust (mph)  Average Relative Humidity (%)  \\\n",
       "count         23544.000000                  168754.000000   \n",
       "mean             22.295341                      68.819511   \n",
       "std               7.581788                      19.694031   \n",
       "min               0.000000                       0.000000   \n",
       "25%              19.600000                      54.000000   \n",
       "50%              21.900000                      71.000000   \n",
       "75%              26.500000                      86.000000   \n",
       "max              88.599998                     100.000000   \n",
       "\n",
       "       Average Wind Speed (mph)  Average Station Pressure (mb)  \\\n",
       "count             172710.000000                  172974.000000   \n",
       "mean                   5.904806                    1016.741272   \n",
       "std                    5.192565                       7.640043   \n",
       "min                    0.000000                     508.600006   \n",
       "25%                    0.000000                    1012.200012   \n",
       "50%                    5.370000                    1016.900024   \n",
       "75%                    9.200000                    1021.700012   \n",
       "max                   76.000000                    1044.400024   \n",
       "\n",
       "       Average Wind Direction (deg)  Max Wind Speed (mph)  \n",
       "count                 140590.000000         172710.000000  \n",
       "mean                     176.806366              6.175715  \n",
       "std                      118.790619              5.311181  \n",
       "min                        0.000000              0.000000  \n",
       "25%                       70.000000              0.000000  \n",
       "50%                      220.000000              5.800000  \n",
       "75%                      280.000000              9.200000  \n",
       "max                      360.000000             76.000000  "
      ]
     },
     "execution_count": 53,
     "metadata": {},
     "output_type": "execute_result"
    }
   ],
   "source": [
    "df_temps.describe()"
   ]
  },
  {
   "cell_type": "markdown",
   "metadata": {},
   "source": [
    "### 14) [M] There are four primary classes in pandas for working with dates and times? Consider the Scalar Class for each, and state what concept each is representing.\n",
    "\n",
    "**Class ------> Scalar**  \n",
    "Date times ---> Timestamp  \n",
    "Time deltas --> Timedelta  \n",
    "Time spans ---> Period      \n",
    "Date Offsets -> DateOffset     \n",
    "\n",
    "**Timestamp**: The most basic type of time series data that associates values with points in time. Consists of a date and a time.  \n",
    "\n",
    "**Timedelta**: Time delta allows us to compute date/time arithmetic. A Timedelta attribute represents the difference between two dates or times.\n",
    "\n",
    "**Period**: Represents a span of time. Stores a list of dates/times. The frequency of a period can be adjusted using the 'freq' keyword.  \n",
    "\n",
    "**DateOffset**: Frequency strings used in periods map to a DateOffset object and its subclasses. Represents a duration of time but follows specific calendar duration rules. The basic DateOffset shifts a date time by the corresponding calendar duration specified. DateOffset subclasses that are an hour or smaller behave like Timedelta and respect absolute time.\n"
   ]
  },
  {
   "cell_type": "markdown",
   "metadata": {},
   "source": [
    "### 15) [M] For each above, state the primary creation method used to create each type of data"
   ]
  },
  {
   "cell_type": "markdown",
   "metadata": {},
   "source": [
    "**Timestamp**: to_datetime or date_range  \n",
    "**Timedelta**: to_timedelta or timedelta_range  \n",
    "**Period**: Period or period_range  \n",
    "**DateOffset**: DateOffset  "
   ]
  },
  {
   "cell_type": "markdown",
   "metadata": {},
   "source": [
    "### 16) [P] Create a Timestamp object from the string \"07/04/19\", which is a date representing July 4, 2019. Store the object as d1 and show it."
   ]
  },
  {
   "cell_type": "code",
   "execution_count": 54,
   "metadata": {},
   "outputs": [
    {
     "data": {
      "text/plain": [
       "Timestamp('2019-07-04 00:00:00')"
      ]
     },
     "execution_count": 54,
     "metadata": {},
     "output_type": "execute_result"
    }
   ],
   "source": [
    "d1 = pd.to_datetime(\"07/04/19\")\n",
    "d1"
   ]
  },
  {
   "cell_type": "markdown",
   "metadata": {},
   "source": [
    "### 17) [P] Using d1 and string formatting codes, print the string from d1:  \n",
    "\n",
    "\"Today's date is Thursday, July 4, 2019\"."
   ]
  },
  {
   "cell_type": "code",
   "execution_count": 55,
   "metadata": {},
   "outputs": [
    {
     "data": {
      "text/plain": [
       "\"Today's date is July 04, 2019\""
      ]
     },
     "execution_count": 55,
     "metadata": {},
     "output_type": "execute_result"
    }
   ],
   "source": [
    "#Ref: https://www.programiz.com/python-programming/datetime/strftime\n",
    "\n",
    "d1.strftime(\"Today's date is %B %d, %Y\")"
   ]
  },
  {
   "cell_type": "markdown",
   "metadata": {},
   "source": [
    "### 18) [P] Create another Timestamp object representing Sept 7, 2019 at 3pm, called d2. Report it"
   ]
  },
  {
   "cell_type": "code",
   "execution_count": 56,
   "metadata": {},
   "outputs": [
    {
     "data": {
      "text/plain": [
       "Timestamp('2019-09-07 15:00:00')"
      ]
     },
     "execution_count": 56,
     "metadata": {},
     "output_type": "execute_result"
    }
   ],
   "source": [
    "d2 = pd.to_datetime(\"09/7/19 3pm\")\n",
    "d2"
   ]
  },
  {
   "cell_type": "markdown",
   "metadata": {},
   "source": [
    "### 19) [P] Subtract d2 – d1, and report the difference as the number of days and seconds between these two. Also report the difference as total seconds. (NOTE: The difference should be 65 days, 54000 seconds. Or 5670000 total seconds.)"
   ]
  },
  {
   "cell_type": "code",
   "execution_count": 57,
   "metadata": {},
   "outputs": [
    {
     "name": "stdout",
     "output_type": "stream",
     "text": [
      "Days: 65\n",
      "Seconds: 54000\n"
     ]
    }
   ],
   "source": [
    "# Ref: https://docs.python.org/2/library/datetime.html\n",
    "print(\"Days: {}\".format((d2-d1).days))\n",
    "print(\"Seconds: {}\".format((d2-d1).seconds))"
   ]
  },
  {
   "cell_type": "markdown",
   "metadata": {},
   "source": [
    "### 20) [P] Create a new Timestamp object from the string \"2019-07-01 08:30pm\", but, localize the time stamp to represent the time in the US Eastern Time Zone. Store the result as d3 and output it."
   ]
  },
  {
   "cell_type": "code",
   "execution_count": 58,
   "metadata": {},
   "outputs": [
    {
     "data": {
      "text/plain": [
       "Timestamp('2019-07-01 20:30:00-0400', tz='US/Eastern')"
      ]
     },
     "execution_count": 58,
     "metadata": {},
     "output_type": "execute_result"
    }
   ],
   "source": [
    "d3 = pd.to_datetime(\"2019-07-01 8:30pm \").tz_localize(\"US/Eastern\")\n",
    "d3"
   ]
  },
  {
   "cell_type": "markdown",
   "metadata": {},
   "source": [
    "### 21) [P] Show time represented by d3, but converted to the US / Pacific Time Zone. The time reported should be three hours earlier than EST shown in the previous question."
   ]
  },
  {
   "cell_type": "code",
   "execution_count": 59,
   "metadata": {},
   "outputs": [
    {
     "data": {
      "text/plain": [
       "Timestamp('2019-07-01 17:30:00-0700', tz='US/Pacific')"
      ]
     },
     "execution_count": 59,
     "metadata": {},
     "output_type": "execute_result"
    }
   ],
   "source": [
    "d3.tz_convert(\"US/Pacific\")"
   ]
  },
  {
   "cell_type": "markdown",
   "metadata": {},
   "source": [
    "### 22) [P] Create a Timestamp object representing right now, stored as ts_now. Show the result."
   ]
  },
  {
   "cell_type": "code",
   "execution_count": 60,
   "metadata": {},
   "outputs": [
    {
     "data": {
      "text/plain": [
       "Timestamp('2020-02-03 04:50:16.338295')"
      ]
     },
     "execution_count": 60,
     "metadata": {},
     "output_type": "execute_result"
    }
   ],
   "source": [
    "ts_now = pd.to_datetime('now')\n",
    "ts_now"
   ]
  },
  {
   "cell_type": "markdown",
   "metadata": {},
   "source": [
    "### 23) [P] Create a Timedelta object representing 1 hour, stored as td_hour. Show the result."
   ]
  },
  {
   "cell_type": "code",
   "execution_count": 61,
   "metadata": {},
   "outputs": [
    {
     "data": {
      "text/plain": [
       "Timedelta('0 days 01:00:00')"
      ]
     },
     "execution_count": 61,
     "metadata": {},
     "output_type": "execute_result"
    }
   ],
   "source": [
    "td_hour = pd.Timedelta(hours=1)\n",
    "td_hour"
   ]
  },
  {
   "cell_type": "markdown",
   "metadata": {},
   "source": [
    "### 24) [P] Demonstrate how you can do basic mathematical operations by adding 6 hours to ts_now using td_hour and basic math operations. (i.e. No loops or further calculations necessary!)"
   ]
  },
  {
   "cell_type": "code",
   "execution_count": 62,
   "metadata": {},
   "outputs": [
    {
     "data": {
      "text/plain": [
       "Timestamp('2020-02-03 04:50:16.338295')"
      ]
     },
     "metadata": {},
     "output_type": "display_data"
    },
    {
     "data": {
      "text/plain": [
       "Timestamp('2020-02-03 10:50:16.338295')"
      ]
     },
     "metadata": {},
     "output_type": "display_data"
    }
   ],
   "source": [
    "display(ts_now)\n",
    "display(ts_now+6*td_hour)"
   ]
  },
  {
   "cell_type": "markdown",
   "metadata": {},
   "source": [
    "### 25) [P] Create a DatetimeIndex object that represents every hour during the month of January, 2019. The first index should be midnight, January 1, 2020, and the last index should be January 31, 2020 at 11pm. Store the object as dr. (HINT – use the pd.date_range() method!)"
   ]
  },
  {
   "cell_type": "code",
   "execution_count": 63,
   "metadata": {},
   "outputs": [
    {
     "data": {
      "text/plain": [
       "DatetimeIndex(['2020-01-01 00:00:00', '2020-01-01 01:00:00',\n",
       "               '2020-01-01 02:00:00', '2020-01-01 03:00:00',\n",
       "               '2020-01-01 04:00:00', '2020-01-01 05:00:00',\n",
       "               '2020-01-01 06:00:00', '2020-01-01 07:00:00',\n",
       "               '2020-01-01 08:00:00', '2020-01-01 09:00:00',\n",
       "               ...\n",
       "               '2020-12-31 14:00:00', '2020-12-31 15:00:00',\n",
       "               '2020-12-31 16:00:00', '2020-12-31 17:00:00',\n",
       "               '2020-12-31 18:00:00', '2020-12-31 19:00:00',\n",
       "               '2020-12-31 20:00:00', '2020-12-31 21:00:00',\n",
       "               '2020-12-31 22:00:00', '2020-12-31 23:00:00'],\n",
       "              dtype='datetime64[ns]', length=8784, freq='H')"
      ]
     },
     "execution_count": 63,
     "metadata": {},
     "output_type": "execute_result"
    }
   ],
   "source": [
    "# Ref: https://pandas.pydata.org/pandas-docs/stable/reference/api/pandas.date_range.html\n",
    "dr = pd.date_range(start=\"2020\", end=\"12-31-2020 23:00:00\", freq=\"H\")\n",
    "dr"
   ]
  },
  {
   "cell_type": "markdown",
   "metadata": {},
   "source": [
    "### 26) [P] The first variable in our data is currently an object. But, notice the name and its units? It's a date/time in the GMT time zone! Convert the first column of data into an actual time stamp."
   ]
  },
  {
   "cell_type": "code",
   "execution_count": 64,
   "metadata": {},
   "outputs": [],
   "source": [
    "df_temps.iloc[:,0] = pd.to_datetime(df_temps.iloc[:,0])"
   ]
  },
  {
   "cell_type": "markdown",
   "metadata": {},
   "source": [
    "### 27) [P] Confirm that your first column data type is now a timestamp by showing the output of df_temps.info(). (It should show that it is datetime64, to be exact) . Then, show the values of the first column of the first AND last row only."
   ]
  },
  {
   "cell_type": "code",
   "execution_count": 65,
   "metadata": {},
   "outputs": [
    {
     "name": "stdout",
     "output_type": "stream",
     "text": [
      "<class 'pandas.core.frame.DataFrame'>\n",
      "RangeIndex: 173252 entries, 0 to 173251\n",
      "Data columns (total 13 columns):\n",
      "Date/Time (GMT)                  173252 non-null datetime64[ns]\n",
      "Number of Observations (n/a)     173252 non-null int8\n",
      "Average Temp (F)                 172253 non-null float32\n",
      "Max Temp (F)                     172253 non-null float32\n",
      "Min Temp (F)                     172253 non-null float32\n",
      "Average Dewpoint Temp (F)        172147 non-null float32\n",
      "1 Hour Precip (in)               28934 non-null float32\n",
      "Max Wind Gust (mph)              23544 non-null float32\n",
      "Average Relative Humidity (%)    168754 non-null float32\n",
      "Average Wind Speed (mph)         172710 non-null float32\n",
      "Average Station Pressure (mb)    172974 non-null float32\n",
      "Average Wind Direction (deg)     140590 non-null float32\n",
      "Max Wind Speed (mph)             172710 non-null float32\n",
      "dtypes: datetime64[ns](1), float32(11), int8(1)\n",
      "memory usage: 8.8 MB\n"
     ]
    }
   ],
   "source": [
    "df_temps.info()"
   ]
  },
  {
   "cell_type": "markdown",
   "metadata": {},
   "source": [
    "### 28) Finally, let's move that first column to be the new index for your dataframe. Use the set_index method of df_temps to be the first column of data, then use the drop method to eliminate the first column. It is now your index, and thus there is no need to keep this information twice."
   ]
  },
  {
   "cell_type": "code",
   "execution_count": 66,
   "metadata": {},
   "outputs": [
    {
     "data": {
      "text/html": [
       "<div>\n",
       "<style scoped>\n",
       "    .dataframe tbody tr th:only-of-type {\n",
       "        vertical-align: middle;\n",
       "    }\n",
       "\n",
       "    .dataframe tbody tr th {\n",
       "        vertical-align: top;\n",
       "    }\n",
       "\n",
       "    .dataframe thead th {\n",
       "        text-align: right;\n",
       "    }\n",
       "</style>\n",
       "<table border=\"1\" class=\"dataframe\">\n",
       "  <thead>\n",
       "    <tr style=\"text-align: right;\">\n",
       "      <th></th>\n",
       "      <th>Number of Observations (n/a)</th>\n",
       "      <th>Average Temp (F)</th>\n",
       "      <th>Max Temp (F)</th>\n",
       "      <th>Min Temp (F)</th>\n",
       "      <th>Average Dewpoint Temp (F)</th>\n",
       "      <th>1 Hour Precip (in)</th>\n",
       "      <th>Max Wind Gust (mph)</th>\n",
       "      <th>Average Relative Humidity (%)</th>\n",
       "      <th>Average Wind Speed (mph)</th>\n",
       "      <th>Average Station Pressure (mb)</th>\n",
       "      <th>Average Wind Direction (deg)</th>\n",
       "      <th>Max Wind Speed (mph)</th>\n",
       "    </tr>\n",
       "    <tr>\n",
       "      <th>Date/Time (GMT)</th>\n",
       "      <th></th>\n",
       "      <th></th>\n",
       "      <th></th>\n",
       "      <th></th>\n",
       "      <th></th>\n",
       "      <th></th>\n",
       "      <th></th>\n",
       "      <th></th>\n",
       "      <th></th>\n",
       "      <th></th>\n",
       "      <th></th>\n",
       "      <th></th>\n",
       "    </tr>\n",
       "  </thead>\n",
       "  <tbody>\n",
       "    <tr>\n",
       "      <th>2000-01-01 00:00:00</th>\n",
       "      <td>1</td>\n",
       "      <td>26.100000</td>\n",
       "      <td>26.100000</td>\n",
       "      <td>26.100000</td>\n",
       "      <td>14.000000</td>\n",
       "      <td>NaN</td>\n",
       "      <td>20.700001</td>\n",
       "      <td>59.000000</td>\n",
       "      <td>17.299999</td>\n",
       "      <td>1015.200012</td>\n",
       "      <td>280.000000</td>\n",
       "      <td>17.299999</td>\n",
       "    </tr>\n",
       "    <tr>\n",
       "      <th>2000-01-01 01:00:00</th>\n",
       "      <td>1</td>\n",
       "      <td>26.100000</td>\n",
       "      <td>26.100000</td>\n",
       "      <td>26.100000</td>\n",
       "      <td>14.000000</td>\n",
       "      <td>NaN</td>\n",
       "      <td>NaN</td>\n",
       "      <td>59.000000</td>\n",
       "      <td>16.100000</td>\n",
       "      <td>1015.900024</td>\n",
       "      <td>280.000000</td>\n",
       "      <td>16.100000</td>\n",
       "    </tr>\n",
       "    <tr>\n",
       "      <th>2000-01-01 02:00:00</th>\n",
       "      <td>1</td>\n",
       "      <td>26.100000</td>\n",
       "      <td>26.100000</td>\n",
       "      <td>26.100000</td>\n",
       "      <td>15.100000</td>\n",
       "      <td>NaN</td>\n",
       "      <td>NaN</td>\n",
       "      <td>62.000000</td>\n",
       "      <td>15.000000</td>\n",
       "      <td>1016.299988</td>\n",
       "      <td>280.000000</td>\n",
       "      <td>15.000000</td>\n",
       "    </tr>\n",
       "    <tr>\n",
       "      <th>2000-01-01 03:00:00</th>\n",
       "      <td>1</td>\n",
       "      <td>26.100000</td>\n",
       "      <td>26.100000</td>\n",
       "      <td>26.100000</td>\n",
       "      <td>12.000000</td>\n",
       "      <td>NaN</td>\n",
       "      <td>NaN</td>\n",
       "      <td>54.000000</td>\n",
       "      <td>16.100000</td>\n",
       "      <td>1016.599976</td>\n",
       "      <td>270.000000</td>\n",
       "      <td>16.100000</td>\n",
       "    </tr>\n",
       "    <tr>\n",
       "      <th>2000-01-01 04:00:00</th>\n",
       "      <td>1</td>\n",
       "      <td>26.100000</td>\n",
       "      <td>26.100000</td>\n",
       "      <td>26.100000</td>\n",
       "      <td>14.000000</td>\n",
       "      <td>NaN</td>\n",
       "      <td>NaN</td>\n",
       "      <td>59.000000</td>\n",
       "      <td>12.700000</td>\n",
       "      <td>1017.299988</td>\n",
       "      <td>280.000000</td>\n",
       "      <td>12.700000</td>\n",
       "    </tr>\n",
       "    <tr>\n",
       "      <th>...</th>\n",
       "      <td>...</td>\n",
       "      <td>...</td>\n",
       "      <td>...</td>\n",
       "      <td>...</td>\n",
       "      <td>...</td>\n",
       "      <td>...</td>\n",
       "      <td>...</td>\n",
       "      <td>...</td>\n",
       "      <td>...</td>\n",
       "      <td>...</td>\n",
       "      <td>...</td>\n",
       "      <td>...</td>\n",
       "    </tr>\n",
       "    <tr>\n",
       "      <th>2019-12-31 19:00:00</th>\n",
       "      <td>1</td>\n",
       "      <td>42.099998</td>\n",
       "      <td>42.099998</td>\n",
       "      <td>42.099998</td>\n",
       "      <td>30.000000</td>\n",
       "      <td>NaN</td>\n",
       "      <td>21.900000</td>\n",
       "      <td>62.000000</td>\n",
       "      <td>15.000000</td>\n",
       "      <td>1001.700012</td>\n",
       "      <td>260.000000</td>\n",
       "      <td>15.000000</td>\n",
       "    </tr>\n",
       "    <tr>\n",
       "      <th>2019-12-31 20:00:00</th>\n",
       "      <td>1</td>\n",
       "      <td>39.900002</td>\n",
       "      <td>39.900002</td>\n",
       "      <td>39.900002</td>\n",
       "      <td>33.099998</td>\n",
       "      <td>0.00</td>\n",
       "      <td>NaN</td>\n",
       "      <td>76.000000</td>\n",
       "      <td>13.800000</td>\n",
       "      <td>1002.700012</td>\n",
       "      <td>240.000000</td>\n",
       "      <td>13.800000</td>\n",
       "    </tr>\n",
       "    <tr>\n",
       "      <th>2019-12-31 21:00:00</th>\n",
       "      <td>1</td>\n",
       "      <td>39.900002</td>\n",
       "      <td>39.900002</td>\n",
       "      <td>39.900002</td>\n",
       "      <td>30.000000</td>\n",
       "      <td>0.00</td>\n",
       "      <td>25.299999</td>\n",
       "      <td>67.000000</td>\n",
       "      <td>17.299999</td>\n",
       "      <td>1002.700012</td>\n",
       "      <td>220.000000</td>\n",
       "      <td>17.299999</td>\n",
       "    </tr>\n",
       "    <tr>\n",
       "      <th>2019-12-31 22:00:00</th>\n",
       "      <td>3</td>\n",
       "      <td>37.299999</td>\n",
       "      <td>37.900002</td>\n",
       "      <td>37.000000</td>\n",
       "      <td>30.600000</td>\n",
       "      <td>0.01</td>\n",
       "      <td>27.600000</td>\n",
       "      <td>76.330002</td>\n",
       "      <td>16.129999</td>\n",
       "      <td>1003.599976</td>\n",
       "      <td>256.670013</td>\n",
       "      <td>20.700001</td>\n",
       "    </tr>\n",
       "    <tr>\n",
       "      <th>2019-12-31 23:00:00</th>\n",
       "      <td>1</td>\n",
       "      <td>36.000000</td>\n",
       "      <td>36.000000</td>\n",
       "      <td>36.000000</td>\n",
       "      <td>28.900000</td>\n",
       "      <td>0.00</td>\n",
       "      <td>NaN</td>\n",
       "      <td>75.000000</td>\n",
       "      <td>12.700000</td>\n",
       "      <td>1004.400024</td>\n",
       "      <td>250.000000</td>\n",
       "      <td>12.700000</td>\n",
       "    </tr>\n",
       "  </tbody>\n",
       "</table>\n",
       "<p>173252 rows × 12 columns</p>\n",
       "</div>"
      ],
      "text/plain": [
       "                     Number of Observations (n/a)  Average Temp (F)  \\\n",
       "Date/Time (GMT)                                                       \n",
       "2000-01-01 00:00:00                             1         26.100000   \n",
       "2000-01-01 01:00:00                             1         26.100000   \n",
       "2000-01-01 02:00:00                             1         26.100000   \n",
       "2000-01-01 03:00:00                             1         26.100000   \n",
       "2000-01-01 04:00:00                             1         26.100000   \n",
       "...                                           ...               ...   \n",
       "2019-12-31 19:00:00                             1         42.099998   \n",
       "2019-12-31 20:00:00                             1         39.900002   \n",
       "2019-12-31 21:00:00                             1         39.900002   \n",
       "2019-12-31 22:00:00                             3         37.299999   \n",
       "2019-12-31 23:00:00                             1         36.000000   \n",
       "\n",
       "                     Max Temp (F)  Min Temp (F)  Average Dewpoint Temp (F)  \\\n",
       "Date/Time (GMT)                                                              \n",
       "2000-01-01 00:00:00     26.100000     26.100000                  14.000000   \n",
       "2000-01-01 01:00:00     26.100000     26.100000                  14.000000   \n",
       "2000-01-01 02:00:00     26.100000     26.100000                  15.100000   \n",
       "2000-01-01 03:00:00     26.100000     26.100000                  12.000000   \n",
       "2000-01-01 04:00:00     26.100000     26.100000                  14.000000   \n",
       "...                           ...           ...                        ...   \n",
       "2019-12-31 19:00:00     42.099998     42.099998                  30.000000   \n",
       "2019-12-31 20:00:00     39.900002     39.900002                  33.099998   \n",
       "2019-12-31 21:00:00     39.900002     39.900002                  30.000000   \n",
       "2019-12-31 22:00:00     37.900002     37.000000                  30.600000   \n",
       "2019-12-31 23:00:00     36.000000     36.000000                  28.900000   \n",
       "\n",
       "                     1 Hour Precip (in)  Max Wind Gust (mph)  \\\n",
       "Date/Time (GMT)                                                \n",
       "2000-01-01 00:00:00                 NaN            20.700001   \n",
       "2000-01-01 01:00:00                 NaN                  NaN   \n",
       "2000-01-01 02:00:00                 NaN                  NaN   \n",
       "2000-01-01 03:00:00                 NaN                  NaN   \n",
       "2000-01-01 04:00:00                 NaN                  NaN   \n",
       "...                                 ...                  ...   \n",
       "2019-12-31 19:00:00                 NaN            21.900000   \n",
       "2019-12-31 20:00:00                0.00                  NaN   \n",
       "2019-12-31 21:00:00                0.00            25.299999   \n",
       "2019-12-31 22:00:00                0.01            27.600000   \n",
       "2019-12-31 23:00:00                0.00                  NaN   \n",
       "\n",
       "                     Average Relative Humidity (%)  Average Wind Speed (mph)  \\\n",
       "Date/Time (GMT)                                                                \n",
       "2000-01-01 00:00:00                      59.000000                 17.299999   \n",
       "2000-01-01 01:00:00                      59.000000                 16.100000   \n",
       "2000-01-01 02:00:00                      62.000000                 15.000000   \n",
       "2000-01-01 03:00:00                      54.000000                 16.100000   \n",
       "2000-01-01 04:00:00                      59.000000                 12.700000   \n",
       "...                                            ...                       ...   \n",
       "2019-12-31 19:00:00                      62.000000                 15.000000   \n",
       "2019-12-31 20:00:00                      76.000000                 13.800000   \n",
       "2019-12-31 21:00:00                      67.000000                 17.299999   \n",
       "2019-12-31 22:00:00                      76.330002                 16.129999   \n",
       "2019-12-31 23:00:00                      75.000000                 12.700000   \n",
       "\n",
       "                     Average Station Pressure (mb)  \\\n",
       "Date/Time (GMT)                                      \n",
       "2000-01-01 00:00:00                    1015.200012   \n",
       "2000-01-01 01:00:00                    1015.900024   \n",
       "2000-01-01 02:00:00                    1016.299988   \n",
       "2000-01-01 03:00:00                    1016.599976   \n",
       "2000-01-01 04:00:00                    1017.299988   \n",
       "...                                            ...   \n",
       "2019-12-31 19:00:00                    1001.700012   \n",
       "2019-12-31 20:00:00                    1002.700012   \n",
       "2019-12-31 21:00:00                    1002.700012   \n",
       "2019-12-31 22:00:00                    1003.599976   \n",
       "2019-12-31 23:00:00                    1004.400024   \n",
       "\n",
       "                     Average Wind Direction (deg)  Max Wind Speed (mph)  \n",
       "Date/Time (GMT)                                                          \n",
       "2000-01-01 00:00:00                    280.000000             17.299999  \n",
       "2000-01-01 01:00:00                    280.000000             16.100000  \n",
       "2000-01-01 02:00:00                    280.000000             15.000000  \n",
       "2000-01-01 03:00:00                    270.000000             16.100000  \n",
       "2000-01-01 04:00:00                    280.000000             12.700000  \n",
       "...                                           ...                   ...  \n",
       "2019-12-31 19:00:00                    260.000000             15.000000  \n",
       "2019-12-31 20:00:00                    240.000000             13.800000  \n",
       "2019-12-31 21:00:00                    220.000000             17.299999  \n",
       "2019-12-31 22:00:00                    256.670013             20.700001  \n",
       "2019-12-31 23:00:00                    250.000000             12.700000  \n",
       "\n",
       "[173252 rows x 12 columns]"
      ]
     },
     "execution_count": 66,
     "metadata": {},
     "output_type": "execute_result"
    }
   ],
   "source": [
    "df_temps = df_temps.set_index(\"Date/Time (GMT)\", drop=True)\n",
    "df_temps"
   ]
  },
  {
   "cell_type": "markdown",
   "metadata": {},
   "source": [
    "### 29) [P] Give one final report on the total memory usage, and also show the % memory reduction made compared to when you first loaded the data."
   ]
  },
  {
   "cell_type": "code",
   "execution_count": 68,
   "metadata": {},
   "outputs": [
    {
     "name": "stdout",
     "output_type": "stream",
     "text": [
      "Memory usage: 9.182356 MB\n",
      "Percentage Improvement: 93.54%\n"
     ]
    }
   ],
   "source": [
    "improved_memory = df_temps.memory_usage(deep=True).sum()/1000000\n",
    "print(\"Memory usage: {} MB\".format(improved_memory))\n",
    "print(\"Percentage Improvement: {:.2f}%\".format(100*(original_memory-improved_memory)/original_memory))"
   ]
  },
  {
   "cell_type": "markdown",
   "metadata": {},
   "source": [
    "### 30) [P] This dataset has missing observations. But, how many? First, calculate how many observations SHOULD be there. Use the difference between the first and last index value to compute this."
   ]
  },
  {
   "cell_type": "code",
   "execution_count": 166,
   "metadata": {},
   "outputs": [
    {
     "name": "stdout",
     "output_type": "stream",
     "text": [
      "There should be 175320 observations\n",
      "There are 2068 missing observations\n"
     ]
    }
   ],
   "source": [
    "#should = (df_temps.index[-1] - df_temps.index[0]).days*24+24 # multiply number of days by 24 hours and add 24 to account for day lost in subtraction\n",
    "should = pd.date_range(start = df_temps.index[0], end = df_temps.index[-1], freq=\"H\").shape[0]\n",
    "print(\"There should be {} observations\".format(should))\n",
    "print(\"There are {} missing observations\".format(should-df_temps.shape[0]))\n"
   ]
  },
  {
   "cell_type": "markdown",
   "metadata": {},
   "source": [
    "### 31) [P] There are quite a lot! It's time to investigate. Create a data frame called df_missing that has an index of the time stamp of every missing date, with a simple variable called \"missing\" that has a value of 1 for every entry. (i.e. it should only contain the missing dates.) Report the number of rows in df_missing. It should match the number you computed previously."
   ]
  },
  {
   "cell_type": "code",
   "execution_count": 169,
   "metadata": {},
   "outputs": [
    {
     "data": {
      "text/html": [
       "<div>\n",
       "<style scoped>\n",
       "    .dataframe tbody tr th:only-of-type {\n",
       "        vertical-align: middle;\n",
       "    }\n",
       "\n",
       "    .dataframe tbody tr th {\n",
       "        vertical-align: top;\n",
       "    }\n",
       "\n",
       "    .dataframe thead th {\n",
       "        text-align: right;\n",
       "    }\n",
       "</style>\n",
       "<table border=\"1\" class=\"dataframe\">\n",
       "  <thead>\n",
       "    <tr style=\"text-align: right;\">\n",
       "      <th></th>\n",
       "      <th>missing</th>\n",
       "    </tr>\n",
       "  </thead>\n",
       "  <tbody>\n",
       "    <tr>\n",
       "      <th>2000-01-03 18:00:00</th>\n",
       "      <td>1</td>\n",
       "    </tr>\n",
       "    <tr>\n",
       "      <th>2000-01-05 17:00:00</th>\n",
       "      <td>1</td>\n",
       "    </tr>\n",
       "    <tr>\n",
       "      <th>2000-01-06 20:00:00</th>\n",
       "      <td>1</td>\n",
       "    </tr>\n",
       "    <tr>\n",
       "      <th>2000-01-07 14:00:00</th>\n",
       "      <td>1</td>\n",
       "    </tr>\n",
       "    <tr>\n",
       "      <th>2000-01-11 20:00:00</th>\n",
       "      <td>1</td>\n",
       "    </tr>\n",
       "    <tr>\n",
       "      <th>...</th>\n",
       "      <td>...</td>\n",
       "    </tr>\n",
       "    <tr>\n",
       "      <th>2019-11-05 19:00:00</th>\n",
       "      <td>1</td>\n",
       "    </tr>\n",
       "    <tr>\n",
       "      <th>2019-11-18 04:00:00</th>\n",
       "      <td>1</td>\n",
       "    </tr>\n",
       "    <tr>\n",
       "      <th>2019-11-18 05:00:00</th>\n",
       "      <td>1</td>\n",
       "    </tr>\n",
       "    <tr>\n",
       "      <th>2019-11-20 04:00:00</th>\n",
       "      <td>1</td>\n",
       "    </tr>\n",
       "    <tr>\n",
       "      <th>2019-11-20 05:00:00</th>\n",
       "      <td>1</td>\n",
       "    </tr>\n",
       "  </tbody>\n",
       "</table>\n",
       "<p>2068 rows × 1 columns</p>\n",
       "</div>"
      ],
      "text/plain": [
       "                     missing\n",
       "2000-01-03 18:00:00        1\n",
       "2000-01-05 17:00:00        1\n",
       "2000-01-06 20:00:00        1\n",
       "2000-01-07 14:00:00        1\n",
       "2000-01-11 20:00:00        1\n",
       "...                      ...\n",
       "2019-11-05 19:00:00        1\n",
       "2019-11-18 04:00:00        1\n",
       "2019-11-18 05:00:00        1\n",
       "2019-11-20 04:00:00        1\n",
       "2019-11-20 05:00:00        1\n",
       "\n",
       "[2068 rows x 1 columns]"
      ]
     },
     "execution_count": 169,
     "metadata": {},
     "output_type": "execute_result"
    }
   ],
   "source": [
    "# Ref: https://stackoverflow.com/questions/52044348/check-for-any-missing-dates-in-the-index\n",
    "missing = pd.date_range(start = df_temps.index[0], end = df_temps.index[-1], freq=\"H\").difference(df_temps.index)\n",
    "df_missing = pd.DataFrame(index = missing, columns = {\"missing\"})\n",
    "df_missing[\"missing\"] = 1\n",
    "df_missing"
   ]
  },
  {
   "cell_type": "markdown",
   "metadata": {},
   "source": [
    "### 32) [P] Let's get a sense of which years seem to be missing the most data. How? Well, the easiest approach is probably to use the resample() method of data frames. Check out this section: https://pandas.pydata.org/pandas-docs/stable/user_guide/timeseries.html#resampling . This method works phenomenally well for grouping and aggregating your data when you have a datetime index type! We're going to resample our data by year, and perform a count aggregation all in one line: Enter the following: df_missing_by_year = df_missing.resample('Y').count()            There are many, many ways you can resample your data. You need to jump over to the options for dateoffset objects. The letter codes are specified there: https://pandas.pydata.org/pandas-docs/stable/user_guide/timeseries.html#dateoffset-objects                                  Show the result of df_missing_by_year"
   ]
  },
  {
   "cell_type": "code",
   "execution_count": 170,
   "metadata": {},
   "outputs": [
    {
     "data": {
      "text/html": [
       "<div>\n",
       "<style scoped>\n",
       "    .dataframe tbody tr th:only-of-type {\n",
       "        vertical-align: middle;\n",
       "    }\n",
       "\n",
       "    .dataframe tbody tr th {\n",
       "        vertical-align: top;\n",
       "    }\n",
       "\n",
       "    .dataframe thead th {\n",
       "        text-align: right;\n",
       "    }\n",
       "</style>\n",
       "<table border=\"1\" class=\"dataframe\">\n",
       "  <thead>\n",
       "    <tr style=\"text-align: right;\">\n",
       "      <th></th>\n",
       "      <th>missing</th>\n",
       "    </tr>\n",
       "  </thead>\n",
       "  <tbody>\n",
       "    <tr>\n",
       "      <th>2000-12-31</th>\n",
       "      <td>792</td>\n",
       "    </tr>\n",
       "    <tr>\n",
       "      <th>2001-12-31</th>\n",
       "      <td>54</td>\n",
       "    </tr>\n",
       "    <tr>\n",
       "      <th>2002-12-31</th>\n",
       "      <td>30</td>\n",
       "    </tr>\n",
       "    <tr>\n",
       "      <th>2003-12-31</th>\n",
       "      <td>39</td>\n",
       "    </tr>\n",
       "    <tr>\n",
       "      <th>2004-12-31</th>\n",
       "      <td>72</td>\n",
       "    </tr>\n",
       "    <tr>\n",
       "      <th>2005-12-31</th>\n",
       "      <td>119</td>\n",
       "    </tr>\n",
       "    <tr>\n",
       "      <th>2006-12-31</th>\n",
       "      <td>32</td>\n",
       "    </tr>\n",
       "    <tr>\n",
       "      <th>2007-12-31</th>\n",
       "      <td>64</td>\n",
       "    </tr>\n",
       "    <tr>\n",
       "      <th>2008-12-31</th>\n",
       "      <td>193</td>\n",
       "    </tr>\n",
       "    <tr>\n",
       "      <th>2009-12-31</th>\n",
       "      <td>82</td>\n",
       "    </tr>\n",
       "    <tr>\n",
       "      <th>2010-12-31</th>\n",
       "      <td>40</td>\n",
       "    </tr>\n",
       "    <tr>\n",
       "      <th>2011-12-31</th>\n",
       "      <td>32</td>\n",
       "    </tr>\n",
       "    <tr>\n",
       "      <th>2012-12-31</th>\n",
       "      <td>152</td>\n",
       "    </tr>\n",
       "    <tr>\n",
       "      <th>2013-12-31</th>\n",
       "      <td>45</td>\n",
       "    </tr>\n",
       "    <tr>\n",
       "      <th>2014-12-31</th>\n",
       "      <td>38</td>\n",
       "    </tr>\n",
       "    <tr>\n",
       "      <th>2015-12-31</th>\n",
       "      <td>37</td>\n",
       "    </tr>\n",
       "    <tr>\n",
       "      <th>2016-12-31</th>\n",
       "      <td>27</td>\n",
       "    </tr>\n",
       "    <tr>\n",
       "      <th>2017-12-31</th>\n",
       "      <td>119</td>\n",
       "    </tr>\n",
       "    <tr>\n",
       "      <th>2018-12-31</th>\n",
       "      <td>67</td>\n",
       "    </tr>\n",
       "    <tr>\n",
       "      <th>2019-12-31</th>\n",
       "      <td>34</td>\n",
       "    </tr>\n",
       "  </tbody>\n",
       "</table>\n",
       "</div>"
      ],
      "text/plain": [
       "            missing\n",
       "2000-12-31      792\n",
       "2001-12-31       54\n",
       "2002-12-31       30\n",
       "2003-12-31       39\n",
       "2004-12-31       72\n",
       "2005-12-31      119\n",
       "2006-12-31       32\n",
       "2007-12-31       64\n",
       "2008-12-31      193\n",
       "2009-12-31       82\n",
       "2010-12-31       40\n",
       "2011-12-31       32\n",
       "2012-12-31      152\n",
       "2013-12-31       45\n",
       "2014-12-31       38\n",
       "2015-12-31       37\n",
       "2016-12-31       27\n",
       "2017-12-31      119\n",
       "2018-12-31       67\n",
       "2019-12-31       34"
      ]
     },
     "execution_count": 170,
     "metadata": {},
     "output_type": "execute_result"
    }
   ],
   "source": [
    "df_missing_by_year = df_missing.resample('Y').count()\n",
    "df_missing_by_year"
   ]
  },
  {
   "cell_type": "markdown",
   "metadata": {},
   "source": [
    "### 33) [P] You can see that pretty much every year has missing data. Not uncommon. However, one year in particular is really bad. Which one? Write the code to eliminate that entire year from df_year."
   ]
  },
  {
   "cell_type": "code",
   "execution_count": 180,
   "metadata": {},
   "outputs": [
    {
     "data": {
      "text/html": [
       "<div>\n",
       "<style scoped>\n",
       "    .dataframe tbody tr th:only-of-type {\n",
       "        vertical-align: middle;\n",
       "    }\n",
       "\n",
       "    .dataframe tbody tr th {\n",
       "        vertical-align: top;\n",
       "    }\n",
       "\n",
       "    .dataframe thead th {\n",
       "        text-align: right;\n",
       "    }\n",
       "</style>\n",
       "<table border=\"1\" class=\"dataframe\">\n",
       "  <thead>\n",
       "    <tr style=\"text-align: right;\">\n",
       "      <th></th>\n",
       "      <th>Number of Observations (n/a)</th>\n",
       "      <th>Average Temp (F)</th>\n",
       "      <th>Max Temp (F)</th>\n",
       "      <th>Min Temp (F)</th>\n",
       "      <th>Average Dewpoint Temp (F)</th>\n",
       "      <th>1 Hour Precip (in)</th>\n",
       "      <th>Max Wind Gust (mph)</th>\n",
       "      <th>Average Relative Humidity (%)</th>\n",
       "      <th>Average Wind Speed (mph)</th>\n",
       "      <th>Average Station Pressure (mb)</th>\n",
       "      <th>Average Wind Direction (deg)</th>\n",
       "      <th>Max Wind Speed (mph)</th>\n",
       "    </tr>\n",
       "    <tr>\n",
       "      <th>Date/Time (GMT)</th>\n",
       "      <th></th>\n",
       "      <th></th>\n",
       "      <th></th>\n",
       "      <th></th>\n",
       "      <th></th>\n",
       "      <th></th>\n",
       "      <th></th>\n",
       "      <th></th>\n",
       "      <th></th>\n",
       "      <th></th>\n",
       "      <th></th>\n",
       "      <th></th>\n",
       "    </tr>\n",
       "  </thead>\n",
       "  <tbody>\n",
       "    <tr>\n",
       "      <th>2001-01-01 00:00:00</th>\n",
       "      <td>1</td>\n",
       "      <td>21.000000</td>\n",
       "      <td>21.000000</td>\n",
       "      <td>21.000000</td>\n",
       "      <td>6.100000</td>\n",
       "      <td>NaN</td>\n",
       "      <td>NaN</td>\n",
       "      <td>51.000000</td>\n",
       "      <td>12.700000</td>\n",
       "      <td>1019.000000</td>\n",
       "      <td>270.000000</td>\n",
       "      <td>12.700000</td>\n",
       "    </tr>\n",
       "    <tr>\n",
       "      <th>2001-01-01 01:00:00</th>\n",
       "      <td>1</td>\n",
       "      <td>19.900000</td>\n",
       "      <td>19.900000</td>\n",
       "      <td>19.900000</td>\n",
       "      <td>7.000000</td>\n",
       "      <td>NaN</td>\n",
       "      <td>NaN</td>\n",
       "      <td>56.000000</td>\n",
       "      <td>10.400000</td>\n",
       "      <td>1019.000000</td>\n",
       "      <td>270.000000</td>\n",
       "      <td>10.400000</td>\n",
       "    </tr>\n",
       "    <tr>\n",
       "      <th>2001-01-01 02:00:00</th>\n",
       "      <td>1</td>\n",
       "      <td>19.000000</td>\n",
       "      <td>19.000000</td>\n",
       "      <td>19.000000</td>\n",
       "      <td>7.000000</td>\n",
       "      <td>NaN</td>\n",
       "      <td>NaN</td>\n",
       "      <td>58.000000</td>\n",
       "      <td>16.100000</td>\n",
       "      <td>1019.000000</td>\n",
       "      <td>270.000000</td>\n",
       "      <td>16.100000</td>\n",
       "    </tr>\n",
       "    <tr>\n",
       "      <th>2001-01-01 03:00:00</th>\n",
       "      <td>1</td>\n",
       "      <td>19.000000</td>\n",
       "      <td>19.000000</td>\n",
       "      <td>19.000000</td>\n",
       "      <td>7.000000</td>\n",
       "      <td>NaN</td>\n",
       "      <td>NaN</td>\n",
       "      <td>58.000000</td>\n",
       "      <td>15.000000</td>\n",
       "      <td>1018.599976</td>\n",
       "      <td>260.000000</td>\n",
       "      <td>15.000000</td>\n",
       "    </tr>\n",
       "    <tr>\n",
       "      <th>2001-01-01 04:00:00</th>\n",
       "      <td>1</td>\n",
       "      <td>19.000000</td>\n",
       "      <td>19.000000</td>\n",
       "      <td>19.000000</td>\n",
       "      <td>6.100000</td>\n",
       "      <td>NaN</td>\n",
       "      <td>NaN</td>\n",
       "      <td>56.000000</td>\n",
       "      <td>16.100000</td>\n",
       "      <td>1018.599976</td>\n",
       "      <td>280.000000</td>\n",
       "      <td>16.100000</td>\n",
       "    </tr>\n",
       "    <tr>\n",
       "      <th>...</th>\n",
       "      <td>...</td>\n",
       "      <td>...</td>\n",
       "      <td>...</td>\n",
       "      <td>...</td>\n",
       "      <td>...</td>\n",
       "      <td>...</td>\n",
       "      <td>...</td>\n",
       "      <td>...</td>\n",
       "      <td>...</td>\n",
       "      <td>...</td>\n",
       "      <td>...</td>\n",
       "      <td>...</td>\n",
       "    </tr>\n",
       "    <tr>\n",
       "      <th>2019-12-31 19:00:00</th>\n",
       "      <td>1</td>\n",
       "      <td>42.099998</td>\n",
       "      <td>42.099998</td>\n",
       "      <td>42.099998</td>\n",
       "      <td>30.000000</td>\n",
       "      <td>NaN</td>\n",
       "      <td>21.900000</td>\n",
       "      <td>62.000000</td>\n",
       "      <td>15.000000</td>\n",
       "      <td>1001.700012</td>\n",
       "      <td>260.000000</td>\n",
       "      <td>15.000000</td>\n",
       "    </tr>\n",
       "    <tr>\n",
       "      <th>2019-12-31 20:00:00</th>\n",
       "      <td>1</td>\n",
       "      <td>39.900002</td>\n",
       "      <td>39.900002</td>\n",
       "      <td>39.900002</td>\n",
       "      <td>33.099998</td>\n",
       "      <td>0.00</td>\n",
       "      <td>NaN</td>\n",
       "      <td>76.000000</td>\n",
       "      <td>13.800000</td>\n",
       "      <td>1002.700012</td>\n",
       "      <td>240.000000</td>\n",
       "      <td>13.800000</td>\n",
       "    </tr>\n",
       "    <tr>\n",
       "      <th>2019-12-31 21:00:00</th>\n",
       "      <td>1</td>\n",
       "      <td>39.900002</td>\n",
       "      <td>39.900002</td>\n",
       "      <td>39.900002</td>\n",
       "      <td>30.000000</td>\n",
       "      <td>0.00</td>\n",
       "      <td>25.299999</td>\n",
       "      <td>67.000000</td>\n",
       "      <td>17.299999</td>\n",
       "      <td>1002.700012</td>\n",
       "      <td>220.000000</td>\n",
       "      <td>17.299999</td>\n",
       "    </tr>\n",
       "    <tr>\n",
       "      <th>2019-12-31 22:00:00</th>\n",
       "      <td>3</td>\n",
       "      <td>37.299999</td>\n",
       "      <td>37.900002</td>\n",
       "      <td>37.000000</td>\n",
       "      <td>30.600000</td>\n",
       "      <td>0.01</td>\n",
       "      <td>27.600000</td>\n",
       "      <td>76.330002</td>\n",
       "      <td>16.129999</td>\n",
       "      <td>1003.599976</td>\n",
       "      <td>256.670013</td>\n",
       "      <td>20.700001</td>\n",
       "    </tr>\n",
       "    <tr>\n",
       "      <th>2019-12-31 23:00:00</th>\n",
       "      <td>1</td>\n",
       "      <td>36.000000</td>\n",
       "      <td>36.000000</td>\n",
       "      <td>36.000000</td>\n",
       "      <td>28.900000</td>\n",
       "      <td>0.00</td>\n",
       "      <td>NaN</td>\n",
       "      <td>75.000000</td>\n",
       "      <td>12.700000</td>\n",
       "      <td>1004.400024</td>\n",
       "      <td>250.000000</td>\n",
       "      <td>12.700000</td>\n",
       "    </tr>\n",
       "  </tbody>\n",
       "</table>\n",
       "<p>165260 rows × 12 columns</p>\n",
       "</div>"
      ],
      "text/plain": [
       "                     Number of Observations (n/a)  Average Temp (F)  \\\n",
       "Date/Time (GMT)                                                       \n",
       "2001-01-01 00:00:00                             1         21.000000   \n",
       "2001-01-01 01:00:00                             1         19.900000   \n",
       "2001-01-01 02:00:00                             1         19.000000   \n",
       "2001-01-01 03:00:00                             1         19.000000   \n",
       "2001-01-01 04:00:00                             1         19.000000   \n",
       "...                                           ...               ...   \n",
       "2019-12-31 19:00:00                             1         42.099998   \n",
       "2019-12-31 20:00:00                             1         39.900002   \n",
       "2019-12-31 21:00:00                             1         39.900002   \n",
       "2019-12-31 22:00:00                             3         37.299999   \n",
       "2019-12-31 23:00:00                             1         36.000000   \n",
       "\n",
       "                     Max Temp (F)  Min Temp (F)  Average Dewpoint Temp (F)  \\\n",
       "Date/Time (GMT)                                                              \n",
       "2001-01-01 00:00:00     21.000000     21.000000                   6.100000   \n",
       "2001-01-01 01:00:00     19.900000     19.900000                   7.000000   \n",
       "2001-01-01 02:00:00     19.000000     19.000000                   7.000000   \n",
       "2001-01-01 03:00:00     19.000000     19.000000                   7.000000   \n",
       "2001-01-01 04:00:00     19.000000     19.000000                   6.100000   \n",
       "...                           ...           ...                        ...   \n",
       "2019-12-31 19:00:00     42.099998     42.099998                  30.000000   \n",
       "2019-12-31 20:00:00     39.900002     39.900002                  33.099998   \n",
       "2019-12-31 21:00:00     39.900002     39.900002                  30.000000   \n",
       "2019-12-31 22:00:00     37.900002     37.000000                  30.600000   \n",
       "2019-12-31 23:00:00     36.000000     36.000000                  28.900000   \n",
       "\n",
       "                     1 Hour Precip (in)  Max Wind Gust (mph)  \\\n",
       "Date/Time (GMT)                                                \n",
       "2001-01-01 00:00:00                 NaN                  NaN   \n",
       "2001-01-01 01:00:00                 NaN                  NaN   \n",
       "2001-01-01 02:00:00                 NaN                  NaN   \n",
       "2001-01-01 03:00:00                 NaN                  NaN   \n",
       "2001-01-01 04:00:00                 NaN                  NaN   \n",
       "...                                 ...                  ...   \n",
       "2019-12-31 19:00:00                 NaN            21.900000   \n",
       "2019-12-31 20:00:00                0.00                  NaN   \n",
       "2019-12-31 21:00:00                0.00            25.299999   \n",
       "2019-12-31 22:00:00                0.01            27.600000   \n",
       "2019-12-31 23:00:00                0.00                  NaN   \n",
       "\n",
       "                     Average Relative Humidity (%)  Average Wind Speed (mph)  \\\n",
       "Date/Time (GMT)                                                                \n",
       "2001-01-01 00:00:00                      51.000000                 12.700000   \n",
       "2001-01-01 01:00:00                      56.000000                 10.400000   \n",
       "2001-01-01 02:00:00                      58.000000                 16.100000   \n",
       "2001-01-01 03:00:00                      58.000000                 15.000000   \n",
       "2001-01-01 04:00:00                      56.000000                 16.100000   \n",
       "...                                            ...                       ...   \n",
       "2019-12-31 19:00:00                      62.000000                 15.000000   \n",
       "2019-12-31 20:00:00                      76.000000                 13.800000   \n",
       "2019-12-31 21:00:00                      67.000000                 17.299999   \n",
       "2019-12-31 22:00:00                      76.330002                 16.129999   \n",
       "2019-12-31 23:00:00                      75.000000                 12.700000   \n",
       "\n",
       "                     Average Station Pressure (mb)  \\\n",
       "Date/Time (GMT)                                      \n",
       "2001-01-01 00:00:00                    1019.000000   \n",
       "2001-01-01 01:00:00                    1019.000000   \n",
       "2001-01-01 02:00:00                    1019.000000   \n",
       "2001-01-01 03:00:00                    1018.599976   \n",
       "2001-01-01 04:00:00                    1018.599976   \n",
       "...                                            ...   \n",
       "2019-12-31 19:00:00                    1001.700012   \n",
       "2019-12-31 20:00:00                    1002.700012   \n",
       "2019-12-31 21:00:00                    1002.700012   \n",
       "2019-12-31 22:00:00                    1003.599976   \n",
       "2019-12-31 23:00:00                    1004.400024   \n",
       "\n",
       "                     Average Wind Direction (deg)  Max Wind Speed (mph)  \n",
       "Date/Time (GMT)                                                          \n",
       "2001-01-01 00:00:00                    270.000000             12.700000  \n",
       "2001-01-01 01:00:00                    270.000000             10.400000  \n",
       "2001-01-01 02:00:00                    270.000000             16.100000  \n",
       "2001-01-01 03:00:00                    260.000000             15.000000  \n",
       "2001-01-01 04:00:00                    280.000000             16.100000  \n",
       "...                                           ...                   ...  \n",
       "2019-12-31 19:00:00                    260.000000             15.000000  \n",
       "2019-12-31 20:00:00                    240.000000             13.800000  \n",
       "2019-12-31 21:00:00                    220.000000             17.299999  \n",
       "2019-12-31 22:00:00                    256.670013             20.700001  \n",
       "2019-12-31 23:00:00                    250.000000             12.700000  \n",
       "\n",
       "[165260 rows x 12 columns]"
      ]
     },
     "execution_count": 180,
     "metadata": {},
     "output_type": "execute_result"
    }
   ],
   "source": [
    "# Year 2000 has the most missing observations by far\n",
    "df_temps = df_temps[df_temps.index.year != 2000]\n",
    "df_temps"
   ]
  }
 ],
 "metadata": {
  "kernelspec": {
   "display_name": "Python 3",
   "language": "python",
   "name": "python3"
  },
  "language_info": {
   "codemirror_mode": {
    "name": "ipython",
    "version": 3
   },
   "file_extension": ".py",
   "mimetype": "text/x-python",
   "name": "python",
   "nbconvert_exporter": "python",
   "pygments_lexer": "ipython3",
   "version": "3.7.6"
  }
 },
 "nbformat": 4,
 "nbformat_minor": 4
}

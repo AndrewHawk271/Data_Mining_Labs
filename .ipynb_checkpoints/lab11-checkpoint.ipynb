{
 "cells": [
  {
   "cell_type": "markdown",
   "metadata": {},
   "source": [
    "# Lab 11 - Keras\n",
    "Name: Andrew Hawk  \n",
    "Class: CSCI 349 - Intro to Data Mining  \n",
    "Semester: 2020SP  \n",
    "Instructor: Brain King  "
   ]
  },
  {
   "cell_type": "markdown",
   "metadata": {},
   "source": [
    "## Exercise 1 - Interview questions about deep learning and keras"
   ]
  },
  {
   "cell_type": "markdown",
   "metadata": {},
   "source": [
    "#### 1) What is an artificial neural network (ANN)?\n",
    "An ANN is an information processing paradigm that is inspired by the way the biological nervous system such as the brain processes information. It is composed of a large number of highly interconnected processing elements (neurons) working in usion to solve a specific problem.\n",
    "\n",
    "#### 2) What is deep learning? How does it relate to an ANN?\n",
    "Deep learning is a powerful branch of machine learning. In deep learning, a computer model learns to perform classification tasks directly from images, text, or sound. Deep learning can be used with ANNs for regression and classification tasks.\n",
    "#### 3) Name a couple of examples where deep learning has made a tremendous impact.\n",
    "It is the key technology behind driverless cars, enabling them to recognize a stop sign or to distibguish a pedestrian from a lamppost. IT also has an impact in the medical field, where it helps doctors identify cancer cells of patients. \n",
    "#### 4) Briefly, what is the feedforward algorithm with a neural net?\n",
    "It consists of a simple neuron-like processing units, organized in layers. Each unit (node) in a layer is connected with all the units in the previous layer, and each connection has a weight. Data enters at the inputs and passes through the network, layer by layer, until it arrives at the outputs. There is NO FEEDBACK between layers. \n",
    "#### 5) In the context of machine learning, what is a loss function?\n",
    "It is a method of evaluating how well a specific algorithm models the given data. If predictions deviate too much from the actual results, the loss function will spit out a large value. There are many loss functions: MSE, MAE, MBE, SVM Loss, Cross Entropy Loss, ... The simplest loss function is the difference between the activated output and the target output. \n",
    "#### 6) What is gradient descent? And how is the loss function a critical part of gradient descent?\n",
    "Gradient descent is an optimaization algorithm used to minimize some function by iteratively moving in the direction of steepest descent. In machine learning, we use gradient descent to update the parameters (weights) of our model. The loss function computes the error for a single training example, while the cost function is the average of the loss functions for all the training examples. We use gradient descent to minimize this cost function.\n",
    "\n",
    "#### 7) Training a neural net involves the backpropagation algorithm. In a few sentences, describe what this algorithm does.\n",
    "The backpropogation algorithm is a method for training the weights in a multilayer feed-forward netural network, where the error is backpropogated to adjust the weights. First, werror is calculated between the expected outputs and the outputs forward propogated from the network. These errors are then propogated backward through the network from the output layer to the hidden layer, assigning blame for the error and updating weights as they go.\n",
    "\n",
    "#### 8) What is the difference between batch gradient descent and stochastic gradient descent?\n",
    "Batch-gradient descent is a first-order iterative optimization algorithm. Instead of going through every weights one at a time, and removing every wrong weight off as you go, we instead look at the angle (slope) of the function line. Batch gradient descent processes ALL the training examples and is computationally expensive. Stochastic gradient descent (SGD) only looks at a few random samples rather than the whole data set. SGD helps us avoid the problem of local minima, and it is much faster than batch gradient descent. However, SGD is noiser and takes more iterations due to the randomness in its descent, but it is still computationally much less expensive. \n",
    "\n",
    "#### 9) In the context of neural network training, explain the terms epoch and batch.\n",
    "One epoch is when an ENTIRE dataset is passed forward and backward through a neural network ONCE. Since one epoch is too big to feed to the computer at once, we divide it in to several smaller batches. A batch is a subset of the training data that is fed into the neural network. \n",
    "\n",
    "#### 10) In the context of machine learning, what is a hyperparameter?\n",
    "A model hypterparameter is a configuration that is external to the model and whose value cannot be estimated from the data. They are adjustable parameters that must be tuned in order to obtain a model with optimal performance. \n",
    "\n",
    "#### 11) In the context of neural nets training, what are examples of hyperparameters that can affect model performance?\n",
    "Examples of hyperparameters: depth of a tree, learning rate, number of hidden layers, number of epochs, test/train split of data.\n",
    "\n",
    "#### 12) What is an activation function?\n",
    "The activation function is a mathematical \"gate\" in between the input feeding the current neuron and its output going to the next layer. It can be as simple as a step function that turns the neuron on and off, depending on a rule of threshold.\n",
    "\n",
    "#### 13) Most agree that the most popular activation functions are sigmoid, hyperbolic tangent (tanh), softmax, and ReLu (rectified linear unit). Compare and contrast each, using whatever resources you want. Again, 1-2 sentences for each Is sufficient.\n",
    "Sigmoid: Range is (0,1). Suffers from vanishing gradients where network will refuse to learn or learn very slowly.  \n",
    "Tanh: A scaled sigmoid function. tanh(x) = 2*sigmoid(2x)-1. Gradients are stronger than sigmoid. Range is (-1,1).\n",
    "ReLu: A(x) = max(0,x). Non-linear so we can stack layers. \n",
    "Softmax: form of logistic regression that normalizes an input value into a vector of values that follows a probability distribution whose total sums up to 1. Range is (0,1)\n",
    "\n",
    "#### 14) Why is ReLu so popular for large, deep learning networks?\n",
    "There is a sparse activation and the network is lighter/less costly. About 50% of the neurons do not fire, which save a lot of computational power. \n",
    "#### 15) Why is softmax most appropriate for the output layer, especially for classification problems?\n",
    "The softmax determines the probability of multiple classes at once. So, for classification problems, the probability of each class if computed. We can then use these probabilities to output the most probable class.\n",
    "\n",
    "#### 16) What does ReLu sometimes suffer from, and how does a Leaky ReLu activation address it? \n",
    "ReLu sometimes suffers from the dying ReLu problem: several neurons do not respond since their gradient goes towards zero. To fix this, the Leaky ReLu sets outputs to a non-zero values such as 0.01x for x<0. This means that the gradient is slightly slspoed instead of horizontal. This non-zero gradient will try to recover in training eventually.\n",
    "\n",
    "#### The next few questions are focused around Keras and Tensorflow:\n",
    "\n",
    "#### 17) What is Tensorflow? Who created it?\n",
    "Tensorflow is an open source Deep Learning library developed by Google. It is used to perform complex numerical operations and several other tasks to model Deep Learning models. \n",
    "\n",
    "#### 18) What are tensors?\n",
    "A tensor is an umbrella for vectors and matrices. The dimensionality of a tensor does not have a ceiling and is called a rank. A rank-1 tensor is a vector, and a rank-2 tensor is a matrix. The mathematical definition is \"an algebraic object that describes a multilinear relationship b/w sets of algebraic objects related to a vector space. \n",
    "\n",
    "#### 19) What is keras? Who created it?\n",
    "Keras is a high-level neural networks API, written in Python and capable of running on top of TensorFlow, CNTK, or Theano. It was developed with a focus on enabling fast experimentation. Keras was developed as part of the research effort of project ONEIROS (Open-ended Neuro-Electronic Intelligent Robot Operating System). It's primary author and maintainer is Francois Chollet, a Google engineer.\n",
    "\n",
    "#### 20) Explain the relationship between keras and tensorflow. How are they similar? Different? \n",
    "Keras is much more beginner friendly than TensorFlow. Keras runs on top of TensorFlow, so TensorFlow does all the complex math in the background. TensorFlow offers both high and low level APIs. \n",
    "\n",
    "#### The remaining questions all pertain specifically to specific classes or critical methods in Keras. Most of these you can get directly from the Keras documentation. https://keras.io/\n",
    "\n",
    "#### 21) Describe what the Sequential class represents\n",
    "The sequential class allows us to create Keras models layer-by-layer. Each layer has one input and output. \n",
    "\n",
    "#### 22) What is a layer? How is a layer added to a model?\n",
    "Layers are the fundamental building blocks of Keras models. A layer is a collection of nodes. A layer is added using add().\n",
    "#### 23) What is a Dense layer?\n",
    "It is the most common and frequently used layer. Each neuron receives input from ALL the nuerons in the previous layer, thus DENSELY CONNECTED. It performs the following operation on the input and returns the output: output = activation(dot(input, weight_data) + bias). \n",
    "#### 24) What does the compile method do for a model, and what two parameters are required to compile every model?\n",
    "The compile method configures a Keras model for training. An optimizer, such as sgd, and a loss function, such as 'mean_squared_error', are required to compile a model. "
   ]
  },
  {
   "cell_type": "markdown",
   "metadata": {},
   "source": [
    "## Exercise 2: The return of iris"
   ]
  },
  {
   "cell_type": "code",
   "execution_count": 1,
   "metadata": {},
   "outputs": [
    {
     "name": "stderr",
     "output_type": "stream",
     "text": [
      "Using TensorFlow backend.\n"
     ]
    }
   ],
   "source": [
    "import numpy as np\n",
    "import pandas as pd\n",
    "import matplotlib.pyplot as plt\n",
    "import seaborn as sns\n",
    "from scipy.stats import zscore\n",
    "from sklearn.model_selection import train_test_split, KFold\n",
    "from sklearn.metrics import classification_report, confusion_matrix\n",
    "from keras.models import Sequential\n",
    "from keras.layers.core import Dense, Activation"
   ]
  },
  {
   "cell_type": "markdown",
   "metadata": {},
   "source": [
    "### 1) [P] Copy over your code from the previous lab that read in and pre-processed the iris dataset from seaborn. You should have a pandas dataframe that contains four numeric variables and one categorical variable representing the target class. You should have one dataframe X and a dataframe y representing the target class. Do not split your data into training and testing data yet. Standardize data in X dataframe using z-score standardization. (All variables are numeric, so this is quite straightforward)."
   ]
  },
  {
   "cell_type": "code",
   "execution_count": 2,
   "metadata": {},
   "outputs": [],
   "source": [
    "df_iris = sns.load_dataset('iris')\n",
    "df_iris.species = pd.Categorical(df_iris.species)\n",
    "df_iris_x = df_iris.iloc[:,0:4].apply(zscore)\n",
    "df_iris_y = df_iris.iloc[:,4:]"
   ]
  },
  {
   "cell_type": "markdown",
   "metadata": {},
   "source": [
    "### 2) [P] Shuffle your data in your data frames. This will be important for later exercises. Read about the shuffle() function in sklearn.utils. Import it, and use it to shuffle your X and y data frames. Use random_state=0. Remember – it returns the shuffled data! So, be sure to reassign X and y."
   ]
  },
  {
   "cell_type": "code",
   "execution_count": 3,
   "metadata": {},
   "outputs": [],
   "source": [
    "from sklearn.utils import shuffle\n",
    "df_iris_x, df_iris_y = shuffle(df_iris_x, df_iris_y, random_state=0)"
   ]
  },
  {
   "cell_type": "markdown",
   "metadata": {},
   "source": [
    "### 3) [P] Use train_test_split to split your data, but this time, let's use an even smaller split, using a 50/50 split, initializing with a random state of 0. (Why? This is a relatively simple dataset. Let's make the problem a bit more challenging by introducing a smaller training data size.)   \n",
    "\n",
    "### Completing this will result in X_train, X_test, y_train and y_test data frames, both with 75 instances."
   ]
  },
  {
   "cell_type": "code",
   "execution_count": 4,
   "metadata": {},
   "outputs": [
    {
     "data": {
      "text/plain": [
       "'X_train shape: (75, 4)'"
      ]
     },
     "metadata": {},
     "output_type": "display_data"
    },
    {
     "data": {
      "text/plain": [
       "'X_test shape: (75, 4)'"
      ]
     },
     "metadata": {},
     "output_type": "display_data"
    },
    {
     "data": {
      "text/plain": [
       "'Y_train shape: (75, 1)'"
      ]
     },
     "metadata": {},
     "output_type": "display_data"
    },
    {
     "data": {
      "text/plain": [
       "'Y_test shape: (75, 1)'"
      ]
     },
     "metadata": {},
     "output_type": "display_data"
    }
   ],
   "source": [
    "X_train, X_test, Y_train, Y_test = train_test_split(df_iris_x,df_iris_y,test_size=0.5, train_size=0.5, random_state=0)\n",
    "display(\"X_train shape: {}\".format(X_train.shape)) # 75*4 = 300 entries\n",
    "display(\"X_test shape: {}\".format(X_test.shape)) # 75*4 = 300 entries\n",
    "display(\"Y_train shape: {}\".format(Y_train.shape)) # 75*1 = 75 entries\n",
    "display(\"Y_test shape: {}\".format(Y_test.shape)) # 75*1 = 75 entries"
   ]
  },
  {
   "cell_type": "markdown",
   "metadata": {},
   "source": [
    "### 4) [M] How many inputs will your network need to have?"
   ]
  },
  {
   "cell_type": "markdown",
   "metadata": {},
   "source": [
    "The network will need 4 inputs --> one for each column in df_iris_x: sepal_length, sepal_width, petal_length, petal_width"
   ]
  },
  {
   "cell_type": "markdown",
   "metadata": {},
   "source": [
    "### 5) [M] Consider the outputs required for a neural network. Remember that the iris dataset is a multi-class dataset. It has to predict three different, categorical values. How do you represent a multi-class target variable in a model like a neural net? For the iris data, what does the final layer of your neural net structure need to look like?"
   ]
  },
  {
   "cell_type": "markdown",
   "metadata": {},
   "source": [
    "We need to convert the categorical data into numerical data. Each class will have a number assigned to it. The final layer will contain three nodes, one node for each class. "
   ]
  },
  {
   "cell_type": "markdown",
   "metadata": {},
   "source": [
    "### 6) [P] Write the code to convert the iris target variables (i.e. y_train and y_test) to a set of binarized variables derived from the target class variable (why? Hopefully you figured out why based on your previous answer!)  \n",
    "\n",
    "### With iris, this means that the \"species\" variable should be converted to a data frame (or numpy array) of three variables, one representing each species. (HINT: as usual, there are many ways to do this. I like pandas get_dummies() or scikit-learn's OneHotEncoder.)"
   ]
  },
  {
   "cell_type": "code",
   "execution_count": 5,
   "metadata": {},
   "outputs": [],
   "source": [
    "from sklearn.preprocessing import OneHotEncoder\n",
    "\n",
    "enc = OneHotEncoder(handle_unknown=\"ignore\", dtype = np.int)\n",
    "#pd.get_dummies(df_iris.species)\n",
    "enc.fit(df_iris[[\"species\"]])\n",
    "\n",
    "Y_test_bin = pd.DataFrame(enc.transform(Y_test).toarray(), columns = enc.categories_)\n",
    "Y_train_bin = pd.DataFrame(enc.transform(Y_train).toarray(), columns = enc.categories_)"
   ]
  },
  {
   "cell_type": "markdown",
   "metadata": {},
   "source": [
    "### OK. You are now going to build a very basic ANN structure with only one hidden layer."
   ]
  },
  {
   "cell_type": "markdown",
   "metadata": {},
   "source": [
    "### 7) Create an instance of Sequential() called model."
   ]
  },
  {
   "cell_type": "code",
   "execution_count": 6,
   "metadata": {},
   "outputs": [],
   "source": [
    "model = Sequential()"
   ]
  },
  {
   "cell_type": "markdown",
   "metadata": {},
   "source": [
    "### 8) Now, we will sequentially add layers, starting with the hidden layer that receives the input, then you continue adding layers until you get to the output layer. We will keep it simple: one hidden layer, and one output layer.  \n",
    "\n",
    "\n",
    "### Add a Dense layer representing the hidden layer. The first layer you add always needs to specify the number of inputs. And, you also need to specify the number of units in the layer (e.g. 9-12 is a good start for these simple data.) Specify an activation function of your choosing. Most basic nets use a 'sigmoid' or 'tanh' activation, though deep learning emphasizes 'relu'. (Be sure you understand why at some point in your near future!) Any of the above is fine."
   ]
  },
  {
   "cell_type": "code",
   "execution_count": 7,
   "metadata": {},
   "outputs": [],
   "source": [
    "# units is dimensionality of output space --> 9\n",
    "# model will take input arrays of shape (*,4)\n",
    "model.add(Dense(units=9, activation='relu', input_shape=(4,))) # hidden layer"
   ]
  },
  {
   "cell_type": "markdown",
   "metadata": {},
   "source": [
    "### 9) Add one more layer representing the output layer. Be sure to specify the correct number of outputs. Remember, use a 'softmax' activation here. (NOTE – after you specify your first layer, the number of inputs in further layers added are implied, and thus do not need to be specified.)"
   ]
  },
  {
   "cell_type": "code",
   "execution_count": 8,
   "metadata": {},
   "outputs": [],
   "source": [
    "# Dimensionality of output space is 3\n",
    "model.add(Dense(units=3, activation='softmax')) # output layer"
   ]
  },
  {
   "cell_type": "code",
   "execution_count": 9,
   "metadata": {},
   "outputs": [
    {
     "name": "stdout",
     "output_type": "stream",
     "text": [
      "Model: \"sequential_1\"\n",
      "_________________________________________________________________\n",
      "Layer (type)                 Output Shape              Param #   \n",
      "=================================================================\n",
      "dense_1 (Dense)              (None, 9)                 45        \n",
      "_________________________________________________________________\n",
      "dense_2 (Dense)              (None, 3)                 30        \n",
      "=================================================================\n",
      "Total params: 75\n",
      "Trainable params: 75\n",
      "Non-trainable params: 0\n",
      "_________________________________________________________________\n"
     ]
    }
   ],
   "source": [
    "model.summary()"
   ]
  },
  {
   "cell_type": "markdown",
   "metadata": {},
   "source": [
    "### 10) OK. Now compile your model. Look at the documentation for the compile() method. You'll need to specify the following parameters:  \n",
    "\n",
    "#### a) Choose an optimizer – This is a GREATLY HEATED TOPIC on deep learning and ANN blogs. The facts: Stochastic Gradient Descent (SGD) is the quintessential standard. It is the basis of neural net learning. It is mathematically sound, though it can suffer from the worst computational performance (i.e. timing to convergence.) All enhancements and newer methods are based on SGD. For SGD, an appropriate selection a momentum parameter makes a huge difference, and papers have come out demonstrating that SGD + a good momentum parameter are as effective as the most hyped optimization techniques, if you can identify good parameters. (For example: https://arxiv.org/abs/1705.08292 ) Selecting good learning rates, momentum and other parameters is not easy. Theoretically, there are an infinite number of combinations you could choose. So, several other methods have come out to help address the challenges of selecting good parameters. Adam is most commonly used optimizer in practice for deep learning. So, use optimizer='sgd' to start, but then go back and set it to optimizer = 'adam'.  \n",
    "\n",
    "#### b) Choose the loss function – This is the function that gives you the error that is backpropagated. Use loss='categorical_crossentropy' for this problem.  \n",
    "\n",
    "#### c) Choose the performance metrics – Typically, you will stick with metrics=['accuracy'] here. You can do far more with your predictions later."
   ]
  },
  {
   "cell_type": "code",
   "execution_count": 10,
   "metadata": {},
   "outputs": [],
   "source": [
    "model.compile(optimizer='sgd', loss='categorical_crossentropy', metrics=['accuracy'])"
   ]
  },
  {
   "cell_type": "markdown",
   "metadata": {},
   "source": [
    "### 11) OK, your structure is set. Now you need to train the model. Look at the documentation for the fit() method. Use fit to train your model with X_train and your binarized y_train data. There are many additional parameters available that basically control how you perform weight updates. This is where, depending on your data size and your selection of parameters, you could be waiting a while. This is a SIMPLE dataset, and should take no more than a 5-10 seconds to get good results.  \n",
    "### You can start with the following:  \n",
    "\n",
    "#### a) epochs = number of epochs to train the model. An epoch is an iteration over all your training data. You will need to experiment. Start with a value of 100.  \n",
    "\n",
    "#### b) batch_size = number of samples per gradient update. Updating every instance will usually converge the earliest, but with high variance. At the other extreme, batch_size using the entire dataset is slow, but very smooth convergence. Experiment. Use 1, 5, 15. You'll need to select the number of epochs in conjunction with this parameter. For this simple problem, batch_size = 1 will likely work just fine.  \n",
    "\n",
    "#### c) verbose = 1 will show output as training progresses. Very useful!\n",
    "\n",
    "#### d) Use validation_data to pass your test data. This will make it easy to understand if your model is overfitting your data. (This slows things down a bit more, but it's so important to capture how your model is doing on BOTH training and test data!)"
   ]
  },
  {
   "cell_type": "code",
   "execution_count": 11,
   "metadata": {
    "collapsed": true,
    "jupyter": {
     "outputs_hidden": true
    }
   },
   "outputs": [
    {
     "name": "stdout",
     "output_type": "stream",
     "text": [
      "Train on 75 samples, validate on 75 samples\n",
      "Epoch 1/100\n",
      "75/75 [==============================] - 0s 4ms/step - loss: 1.0743 - accuracy: 0.3333 - val_loss: 0.8778 - val_accuracy: 0.6000\n",
      "Epoch 2/100\n",
      "75/75 [==============================] - 0s 2ms/step - loss: 0.7442 - accuracy: 0.7333 - val_loss: 0.6807 - val_accuracy: 0.7600\n",
      "Epoch 3/100\n",
      "75/75 [==============================] - 0s 2ms/step - loss: 0.5845 - accuracy: 0.8667 - val_loss: 0.5799 - val_accuracy: 0.7733\n",
      "Epoch 4/100\n",
      "75/75 [==============================] - 0s 1ms/step - loss: 0.4950 - accuracy: 0.8800 - val_loss: 0.5214 - val_accuracy: 0.8000\n",
      "Epoch 5/100\n",
      "75/75 [==============================] - 0s 2ms/step - loss: 0.4338 - accuracy: 0.8800 - val_loss: 0.4787 - val_accuracy: 0.8133\n",
      "Epoch 6/100\n",
      "75/75 [==============================] - 0s 2ms/step - loss: 0.3871 - accuracy: 0.8933 - val_loss: 0.4520 - val_accuracy: 0.8000\n",
      "Epoch 7/100\n",
      "75/75 [==============================] - 0s 2ms/step - loss: 0.3493 - accuracy: 0.8933 - val_loss: 0.4229 - val_accuracy: 0.8133\n",
      "Epoch 8/100\n",
      "75/75 [==============================] - 0s 2ms/step - loss: 0.3186 - accuracy: 0.9200 - val_loss: 0.4070 - val_accuracy: 0.8000\n",
      "Epoch 9/100\n",
      "75/75 [==============================] - 0s 2ms/step - loss: 0.2929 - accuracy: 0.9067 - val_loss: 0.3918 - val_accuracy: 0.8000\n",
      "Epoch 10/100\n",
      "75/75 [==============================] - 0s 2ms/step - loss: 0.2703 - accuracy: 0.9067 - val_loss: 0.3768 - val_accuracy: 0.8000\n",
      "Epoch 11/100\n",
      "75/75 [==============================] - 0s 2ms/step - loss: 0.2512 - accuracy: 0.9200 - val_loss: 0.3663 - val_accuracy: 0.8133\n",
      "Epoch 12/100\n",
      "75/75 [==============================] - 0s 2ms/step - loss: 0.2345 - accuracy: 0.9200 - val_loss: 0.3565 - val_accuracy: 0.8267\n",
      "Epoch 13/100\n",
      "75/75 [==============================] - 0s 2ms/step - loss: 0.2196 - accuracy: 0.9200 - val_loss: 0.3470 - val_accuracy: 0.8267\n",
      "Epoch 14/100\n",
      "75/75 [==============================] - 0s 2ms/step - loss: 0.2060 - accuracy: 0.9333 - val_loss: 0.3364 - val_accuracy: 0.8267\n",
      "Epoch 15/100\n",
      "75/75 [==============================] - 0s 2ms/step - loss: 0.1942 - accuracy: 0.9333 - val_loss: 0.3279 - val_accuracy: 0.8267\n",
      "Epoch 16/100\n",
      "75/75 [==============================] - 0s 2ms/step - loss: 0.1821 - accuracy: 0.9467 - val_loss: 0.3271 - val_accuracy: 0.8267\n",
      "Epoch 17/100\n",
      "75/75 [==============================] - 0s 2ms/step - loss: 0.1730 - accuracy: 0.9467 - val_loss: 0.3137 - val_accuracy: 0.8133\n",
      "Epoch 18/100\n",
      "75/75 [==============================] - 0s 2ms/step - loss: 0.1636 - accuracy: 0.9467 - val_loss: 0.3106 - val_accuracy: 0.8133\n",
      "Epoch 19/100\n",
      "75/75 [==============================] - 0s 2ms/step - loss: 0.1558 - accuracy: 0.9467 - val_loss: 0.3004 - val_accuracy: 0.8133\n",
      "Epoch 20/100\n",
      "75/75 [==============================] - 0s 2ms/step - loss: 0.1465 - accuracy: 0.9467 - val_loss: 0.2869 - val_accuracy: 0.8800\n",
      "Epoch 21/100\n",
      "75/75 [==============================] - 0s 2ms/step - loss: 0.1408 - accuracy: 0.9467 - val_loss: 0.2809 - val_accuracy: 0.8800\n",
      "Epoch 22/100\n",
      "75/75 [==============================] - 0s 2ms/step - loss: 0.1339 - accuracy: 0.9600 - val_loss: 0.2763 - val_accuracy: 0.8933\n",
      "Epoch 23/100\n",
      "75/75 [==============================] - 0s 2ms/step - loss: 0.1271 - accuracy: 0.9600 - val_loss: 0.2691 - val_accuracy: 0.9067\n",
      "Epoch 24/100\n",
      "75/75 [==============================] - 0s 2ms/step - loss: 0.1209 - accuracy: 0.9733 - val_loss: 0.2606 - val_accuracy: 0.9067\n",
      "Epoch 25/100\n",
      "75/75 [==============================] - 0s 2ms/step - loss: 0.1156 - accuracy: 0.9733 - val_loss: 0.2570 - val_accuracy: 0.9067\n",
      "Epoch 26/100\n",
      "75/75 [==============================] - 0s 2ms/step - loss: 0.1106 - accuracy: 0.9733 - val_loss: 0.2520 - val_accuracy: 0.9200\n",
      "Epoch 27/100\n",
      "75/75 [==============================] - 0s 2ms/step - loss: 0.1057 - accuracy: 0.9733 - val_loss: 0.2454 - val_accuracy: 0.9200\n",
      "Epoch 28/100\n",
      "75/75 [==============================] - 0s 1ms/step - loss: 0.1013 - accuracy: 0.9733 - val_loss: 0.2396 - val_accuracy: 0.9200\n",
      "Epoch 29/100\n",
      "75/75 [==============================] - 0s 2ms/step - loss: 0.0964 - accuracy: 0.9733 - val_loss: 0.2391 - val_accuracy: 0.9200\n",
      "Epoch 30/100\n",
      "75/75 [==============================] - 0s 2ms/step - loss: 0.0930 - accuracy: 0.9867 - val_loss: 0.2330 - val_accuracy: 0.9200\n",
      "Epoch 31/100\n",
      "75/75 [==============================] - 0s 2ms/step - loss: 0.0894 - accuracy: 0.9867 - val_loss: 0.2286 - val_accuracy: 0.9200\n",
      "Epoch 32/100\n",
      "75/75 [==============================] - 0s 2ms/step - loss: 0.0860 - accuracy: 0.9867 - val_loss: 0.2232 - val_accuracy: 0.9200\n",
      "Epoch 33/100\n",
      "75/75 [==============================] - 0s 2ms/step - loss: 0.0828 - accuracy: 0.9733 - val_loss: 0.2180 - val_accuracy: 0.9200\n",
      "Epoch 34/100\n",
      "75/75 [==============================] - 0s 1ms/step - loss: 0.0798 - accuracy: 0.9867 - val_loss: 0.2132 - val_accuracy: 0.9200\n",
      "Epoch 35/100\n",
      "75/75 [==============================] - 0s 1ms/step - loss: 0.0768 - accuracy: 0.9867 - val_loss: 0.2114 - val_accuracy: 0.9200\n",
      "Epoch 36/100\n",
      "75/75 [==============================] - 0s 1ms/step - loss: 0.0738 - accuracy: 0.9867 - val_loss: 0.2035 - val_accuracy: 0.9333\n",
      "Epoch 37/100\n",
      "75/75 [==============================] - 0s 1ms/step - loss: 0.0719 - accuracy: 0.9867 - val_loss: 0.2001 - val_accuracy: 0.9333\n",
      "Epoch 38/100\n",
      "75/75 [==============================] - 0s 2ms/step - loss: 0.0697 - accuracy: 0.9867 - val_loss: 0.1980 - val_accuracy: 0.9333\n",
      "Epoch 39/100\n",
      "75/75 [==============================] - 0s 2ms/step - loss: 0.0674 - accuracy: 0.9867 - val_loss: 0.1947 - val_accuracy: 0.9333\n",
      "Epoch 40/100\n",
      "75/75 [==============================] - 0s 2ms/step - loss: 0.0653 - accuracy: 0.9867 - val_loss: 0.1904 - val_accuracy: 0.9333\n",
      "Epoch 41/100\n",
      "75/75 [==============================] - 0s 2ms/step - loss: 0.0633 - accuracy: 0.9867 - val_loss: 0.1886 - val_accuracy: 0.9333\n",
      "Epoch 42/100\n",
      "75/75 [==============================] - 0s 1ms/step - loss: 0.0614 - accuracy: 0.9867 - val_loss: 0.1866 - val_accuracy: 0.9333\n",
      "Epoch 43/100\n",
      "75/75 [==============================] - 0s 1ms/step - loss: 0.0597 - accuracy: 0.9867 - val_loss: 0.1858 - val_accuracy: 0.9333\n",
      "Epoch 44/100\n",
      "75/75 [==============================] - 0s 1ms/step - loss: 0.0582 - accuracy: 0.9867 - val_loss: 0.1801 - val_accuracy: 0.9200\n",
      "Epoch 45/100\n",
      "75/75 [==============================] - 0s 1ms/step - loss: 0.0568 - accuracy: 0.9867 - val_loss: 0.1794 - val_accuracy: 0.9333\n",
      "Epoch 46/100\n",
      "75/75 [==============================] - 0s 2ms/step - loss: 0.0554 - accuracy: 0.9867 - val_loss: 0.1756 - val_accuracy: 0.9200\n",
      "Epoch 47/100\n",
      "75/75 [==============================] - 0s 2ms/step - loss: 0.0541 - accuracy: 0.9867 - val_loss: 0.1725 - val_accuracy: 0.9200\n",
      "Epoch 48/100\n",
      "75/75 [==============================] - 0s 2ms/step - loss: 0.0527 - accuracy: 0.9867 - val_loss: 0.1699 - val_accuracy: 0.9200\n",
      "Epoch 49/100\n",
      "75/75 [==============================] - 0s 2ms/step - loss: 0.0514 - accuracy: 0.9867 - val_loss: 0.1704 - val_accuracy: 0.9200\n",
      "Epoch 50/100\n",
      "75/75 [==============================] - 0s 2ms/step - loss: 0.0506 - accuracy: 0.9867 - val_loss: 0.1686 - val_accuracy: 0.9200\n",
      "Epoch 51/100\n",
      "75/75 [==============================] - 0s 2ms/step - loss: 0.0495 - accuracy: 0.9867 - val_loss: 0.1671 - val_accuracy: 0.9200\n",
      "Epoch 52/100\n",
      "75/75 [==============================] - 0s 2ms/step - loss: 0.0483 - accuracy: 0.9867 - val_loss: 0.1667 - val_accuracy: 0.9200\n",
      "Epoch 53/100\n",
      "75/75 [==============================] - 0s 2ms/step - loss: 0.0475 - accuracy: 0.9867 - val_loss: 0.1633 - val_accuracy: 0.9200\n",
      "Epoch 54/100\n",
      "75/75 [==============================] - 0s 2ms/step - loss: 0.0464 - accuracy: 0.9867 - val_loss: 0.1610 - val_accuracy: 0.9200\n",
      "Epoch 55/100\n",
      "75/75 [==============================] - 0s 2ms/step - loss: 0.0456 - accuracy: 0.9867 - val_loss: 0.1593 - val_accuracy: 0.9200\n",
      "Epoch 56/100\n",
      "75/75 [==============================] - 0s 2ms/step - loss: 0.0447 - accuracy: 0.9867 - val_loss: 0.1577 - val_accuracy: 0.9200\n",
      "Epoch 57/100\n",
      "75/75 [==============================] - 0s 2ms/step - loss: 0.0441 - accuracy: 0.9867 - val_loss: 0.1562 - val_accuracy: 0.9200\n",
      "Epoch 58/100\n",
      "75/75 [==============================] - 0s 2ms/step - loss: 0.0434 - accuracy: 0.9867 - val_loss: 0.1551 - val_accuracy: 0.9200\n",
      "Epoch 59/100\n",
      "75/75 [==============================] - 0s 2ms/step - loss: 0.0425 - accuracy: 0.9867 - val_loss: 0.1540 - val_accuracy: 0.9200\n",
      "Epoch 60/100\n",
      "75/75 [==============================] - 0s 1ms/step - loss: 0.0418 - accuracy: 0.9867 - val_loss: 0.1529 - val_accuracy: 0.9200\n",
      "Epoch 61/100\n",
      "75/75 [==============================] - 0s 2ms/step - loss: 0.0411 - accuracy: 0.9867 - val_loss: 0.1524 - val_accuracy: 0.9200\n",
      "Epoch 62/100\n",
      "75/75 [==============================] - 0s 2ms/step - loss: 0.0405 - accuracy: 0.9867 - val_loss: 0.1514 - val_accuracy: 0.9200\n",
      "Epoch 63/100\n",
      "75/75 [==============================] - 0s 2ms/step - loss: 0.0399 - accuracy: 0.9867 - val_loss: 0.1501 - val_accuracy: 0.9200\n",
      "Epoch 64/100\n",
      "75/75 [==============================] - 0s 2ms/step - loss: 0.0392 - accuracy: 0.9867 - val_loss: 0.1485 - val_accuracy: 0.9200\n",
      "Epoch 65/100\n",
      "75/75 [==============================] - 0s 1ms/step - loss: 0.0387 - accuracy: 0.9867 - val_loss: 0.1481 - val_accuracy: 0.9200\n",
      "Epoch 66/100\n",
      "75/75 [==============================] - 0s 2ms/step - loss: 0.0381 - accuracy: 0.9867 - val_loss: 0.1469 - val_accuracy: 0.9200\n",
      "Epoch 67/100\n",
      "75/75 [==============================] - 0s 1ms/step - loss: 0.0375 - accuracy: 0.9867 - val_loss: 0.1466 - val_accuracy: 0.9200\n",
      "Epoch 68/100\n",
      "75/75 [==============================] - 0s 1ms/step - loss: 0.0371 - accuracy: 0.9867 - val_loss: 0.1458 - val_accuracy: 0.9200\n",
      "Epoch 69/100\n",
      "75/75 [==============================] - 0s 2ms/step - loss: 0.0365 - accuracy: 0.9867 - val_loss: 0.1446 - val_accuracy: 0.9200\n",
      "Epoch 70/100\n",
      "75/75 [==============================] - 0s 2ms/step - loss: 0.0361 - accuracy: 0.9867 - val_loss: 0.1442 - val_accuracy: 0.9200\n",
      "Epoch 71/100\n",
      "75/75 [==============================] - 0s 2ms/step - loss: 0.0357 - accuracy: 0.9867 - val_loss: 0.1433 - val_accuracy: 0.9200\n",
      "Epoch 72/100\n",
      "75/75 [==============================] - 0s 2ms/step - loss: 0.0352 - accuracy: 0.9867 - val_loss: 0.1426 - val_accuracy: 0.9200\n",
      "Epoch 73/100\n",
      "75/75 [==============================] - 0s 2ms/step - loss: 0.0348 - accuracy: 0.9867 - val_loss: 0.1419 - val_accuracy: 0.9200\n",
      "Epoch 74/100\n",
      "75/75 [==============================] - 0s 2ms/step - loss: 0.0343 - accuracy: 0.9867 - val_loss: 0.1415 - val_accuracy: 0.9200\n",
      "Epoch 75/100\n",
      "75/75 [==============================] - 0s 2ms/step - loss: 0.0340 - accuracy: 0.9867 - val_loss: 0.1406 - val_accuracy: 0.9200\n",
      "Epoch 76/100\n",
      "75/75 [==============================] - 0s 2ms/step - loss: 0.0334 - accuracy: 0.9867 - val_loss: 0.1401 - val_accuracy: 0.9200\n",
      "Epoch 77/100\n",
      "75/75 [==============================] - 0s 2ms/step - loss: 0.0331 - accuracy: 0.9867 - val_loss: 0.1388 - val_accuracy: 0.9200\n",
      "Epoch 78/100\n",
      "75/75 [==============================] - 0s 2ms/step - loss: 0.0328 - accuracy: 0.9867 - val_loss: 0.1379 - val_accuracy: 0.9200\n",
      "Epoch 79/100\n",
      "75/75 [==============================] - 0s 2ms/step - loss: 0.0325 - accuracy: 0.9867 - val_loss: 0.1374 - val_accuracy: 0.9200\n",
      "Epoch 80/100\n",
      "75/75 [==============================] - 0s 2ms/step - loss: 0.0321 - accuracy: 0.9867 - val_loss: 0.1368 - val_accuracy: 0.9333\n",
      "Epoch 81/100\n",
      "75/75 [==============================] - 0s 2ms/step - loss: 0.0318 - accuracy: 0.9867 - val_loss: 0.1364 - val_accuracy: 0.9333\n",
      "Epoch 82/100\n",
      "75/75 [==============================] - 0s 2ms/step - loss: 0.0314 - accuracy: 0.9867 - val_loss: 0.1360 - val_accuracy: 0.9200\n",
      "Epoch 83/100\n",
      "75/75 [==============================] - 0s 1ms/step - loss: 0.0311 - accuracy: 0.9867 - val_loss: 0.1356 - val_accuracy: 0.9200\n",
      "Epoch 84/100\n",
      "75/75 [==============================] - 0s 2ms/step - loss: 0.0307 - accuracy: 0.9867 - val_loss: 0.1348 - val_accuracy: 0.9333\n",
      "Epoch 85/100\n",
      "75/75 [==============================] - 0s 2ms/step - loss: 0.0306 - accuracy: 0.9867 - val_loss: 0.1343 - val_accuracy: 0.9333\n",
      "Epoch 86/100\n",
      "75/75 [==============================] - 0s 2ms/step - loss: 0.0302 - accuracy: 0.9867 - val_loss: 0.1338 - val_accuracy: 0.9333\n",
      "Epoch 87/100\n",
      "75/75 [==============================] - 0s 1ms/step - loss: 0.0299 - accuracy: 0.9867 - val_loss: 0.1334 - val_accuracy: 0.9333\n",
      "Epoch 88/100\n",
      "75/75 [==============================] - 0s 2ms/step - loss: 0.0297 - accuracy: 0.9867 - val_loss: 0.1330 - val_accuracy: 0.9333\n",
      "Epoch 89/100\n",
      "75/75 [==============================] - 0s 2ms/step - loss: 0.0294 - accuracy: 0.9867 - val_loss: 0.1325 - val_accuracy: 0.9333\n",
      "Epoch 90/100\n",
      "75/75 [==============================] - 0s 1ms/step - loss: 0.0290 - accuracy: 0.9867 - val_loss: 0.1320 - val_accuracy: 0.9333\n",
      "Epoch 91/100\n",
      "75/75 [==============================] - 0s 2ms/step - loss: 0.0288 - accuracy: 0.9867 - val_loss: 0.1317 - val_accuracy: 0.9333\n",
      "Epoch 92/100\n",
      "75/75 [==============================] - 0s 2ms/step - loss: 0.0285 - accuracy: 0.9867 - val_loss: 0.1312 - val_accuracy: 0.9333\n",
      "Epoch 93/100\n",
      "75/75 [==============================] - 0s 2ms/step - loss: 0.0283 - accuracy: 0.9867 - val_loss: 0.1310 - val_accuracy: 0.9333\n",
      "Epoch 94/100\n",
      "75/75 [==============================] - 0s 2ms/step - loss: 0.0280 - accuracy: 0.9867 - val_loss: 0.1306 - val_accuracy: 0.9333\n",
      "Epoch 95/100\n",
      "75/75 [==============================] - 0s 2ms/step - loss: 0.0278 - accuracy: 0.9867 - val_loss: 0.1301 - val_accuracy: 0.9333\n",
      "Epoch 96/100\n",
      "75/75 [==============================] - 0s 2ms/step - loss: 0.0275 - accuracy: 0.9867 - val_loss: 0.1299 - val_accuracy: 0.9333\n",
      "Epoch 97/100\n",
      "75/75 [==============================] - 0s 2ms/step - loss: 0.0274 - accuracy: 0.9867 - val_loss: 0.1293 - val_accuracy: 0.9333\n",
      "Epoch 98/100\n",
      "75/75 [==============================] - 0s 2ms/step - loss: 0.0271 - accuracy: 0.9867 - val_loss: 0.1291 - val_accuracy: 0.9333\n",
      "Epoch 99/100\n",
      "75/75 [==============================] - 0s 2ms/step - loss: 0.0269 - accuracy: 0.9867 - val_loss: 0.1287 - val_accuracy: 0.9333\n",
      "Epoch 100/100\n",
      "75/75 [==============================] - 0s 2ms/step - loss: 0.0267 - accuracy: 0.9867 - val_loss: 0.1285 - val_accuracy: 0.9333\n"
     ]
    }
   ],
   "source": [
    "model_history = model.fit(X_train, Y_train_bin, epochs=100, batch_size=1, verbose=1, validation_data=(X_test,Y_test_bin))"
   ]
  },
  {
   "cell_type": "markdown",
   "metadata": {},
   "source": [
    "### 12) [P] It's important to understand your accuracy and loss rates as your model proceeds through training. Visualize the loss on training and test data. Look at the code presented here: https://keras.io/visualization/. You may copy it, or make it more fancy if you choose to do so. Pay attention to the section of code that shows Training history visualization. You may also include the code that visualizes the model, as it may be good to know for your future."
   ]
  },
  {
   "cell_type": "code",
   "execution_count": 12,
   "metadata": {},
   "outputs": [
    {
     "data": {
      "image/png": "[encoded data removed]",
      "text/plain": [
       "<Figure size 432x288 with 1 Axes>"
      ]
     },
     "metadata": {
      "needs_background": "light"
     },
     "output_type": "display_data"
    },
    {
     "data": {
      "image/png": "[encoded data removed]",
      "text/plain": [
       "<Figure size 432x288 with 1 Axes>"
      ]
     },
     "metadata": {
      "needs_background": "light"
     },
     "output_type": "display_data"
    }
   ],
   "source": [
    "# Plot training & validation accuracy values\n",
    "plt.plot(model_history.history['accuracy'])\n",
    "plt.plot(model_history.history['val_accuracy'])\n",
    "plt.title('Model accuracy')\n",
    "plt.ylabel('Accuracy')\n",
    "plt.xlabel('Epoch')\n",
    "plt.legend(['Train', 'Test'], loc='upper left')\n",
    "plt.show()\n",
    "\n",
    "# Plot training & validation loss values\n",
    "plt.plot(model_history.history['loss'])\n",
    "plt.plot(model_history.history['val_loss'])\n",
    "plt.title('Model loss')\n",
    "plt.ylabel('Loss')\n",
    "plt.xlabel('Epoch')\n",
    "plt.legend(['Train', 'Test'], loc='upper left')\n",
    "plt.show()"
   ]
  },
  {
   "cell_type": "markdown",
   "metadata": {},
   "source": [
    "### 13) Try to change some parameters with the model. However, instead of copying and pasting each individual line you wrote above, follow the approach of creating the entire structure in a single line. Use the example laid out in the Keras documention https://keras.io/getting-started/sequential-model-guide/ This will get you started: \n",
    "\n",
    "### Clearly, you need to finish the rest. And, you'll need to compile and build your model. However, change the parameters in some way from what you did above. Clearly, as given above, you need 4 inputs, and 3 outputs. Beyond that, you have countless ways to create a different approach! Different structure? An additional hidden layer? Different activation? Or, use the same structure, and use different batch_size for training? Different optimization algorithm? More epochs? Etc. The choices are quite vast! Generate the same two plots. Compare and contrast your findings.\n",
    "\n",
    "\n",
    "\n",
    "Both plots use the same model. This model is comprised of an input layer, a hidden layer, and an output layer. The model also used the 'tanh' activation function, which is more computationally expensive than 'relu'. \n",
    "\n",
    "The first plot uses a batch size of 5 with 150 total epochs. Originally, I used 100 epochs. However, the loss functions were not stabilized, so I increased the total number of epochs to 150. The validation accuracy is 92% and the train accuracy is ~98.5%.\n",
    "\n",
    "The second plot uses a batch size of 1 with 100 total epochs. The validation accuracy is ~94.5% and the train accuracy is 100%. An interesting result is that the valiation loss seems to be increasing during the last 5 or so epochs. \n",
    "\n",
    "From my research, I found that increasing the batch size usually decreases the quality of a model. The first plot has a larger batch size and a lower validation and train accuracy than the second plot."
   ]
  },
  {
   "cell_type": "code",
   "execution_count": 26,
   "metadata": {},
   "outputs": [],
   "source": [
    "model = Sequential([Dense(9, input_shape=(4,)), Activation('tanh'), Dense(15), Activation('tanh'), Dense(3), Activation('softmax')]) # use tanh activation function and an extra hidden layer"
   ]
  },
  {
   "cell_type": "code",
   "execution_count": 27,
   "metadata": {
    "collapsed": true,
    "jupyter": {
     "outputs_hidden": true
    }
   },
   "outputs": [
    {
     "name": "stdout",
     "output_type": "stream",
     "text": [
      "Train on 75 samples, validate on 75 samples\n",
      "Epoch 1/150\n",
      "75/75 [==============================] - 0s 3ms/step - loss: 1.2605 - accuracy: 0.2000 - val_loss: 1.1307 - val_accuracy: 0.4000\n",
      "Epoch 2/150\n",
      "75/75 [==============================] - 0s 452us/step - loss: 1.0321 - accuracy: 0.4800 - val_loss: 0.9567 - val_accuracy: 0.5467\n",
      "Epoch 3/150\n",
      "75/75 [==============================] - 0s 452us/step - loss: 0.8773 - accuracy: 0.5467 - val_loss: 0.8360 - val_accuracy: 0.6000\n",
      "Epoch 4/150\n",
      "75/75 [==============================] - 0s 465us/step - loss: 0.7649 - accuracy: 0.6400 - val_loss: 0.7498 - val_accuracy: 0.7733\n",
      "Epoch 5/150\n",
      "75/75 [==============================] - 0s 425us/step - loss: 0.6822 - accuracy: 0.9200 - val_loss: 0.6862 - val_accuracy: 0.9067\n",
      "Epoch 6/150\n",
      "75/75 [==============================] - 0s 439us/step - loss: 0.6186 - accuracy: 0.9600 - val_loss: 0.6372 - val_accuracy: 0.8933\n",
      "Epoch 7/150\n",
      "75/75 [==============================] - 0s 426us/step - loss: 0.5690 - accuracy: 0.9067 - val_loss: 0.5999 - val_accuracy: 0.8667\n",
      "Epoch 8/150\n",
      "75/75 [==============================] - 0s 452us/step - loss: 0.5285 - accuracy: 0.9333 - val_loss: 0.5702 - val_accuracy: 0.8533\n",
      "Epoch 9/150\n",
      "75/75 [==============================] - 0s 439us/step - loss: 0.4956 - accuracy: 0.9067 - val_loss: 0.5461 - val_accuracy: 0.8533\n",
      "Epoch 10/150\n",
      "75/75 [==============================] - 0s 465us/step - loss: 0.4683 - accuracy: 0.8933 - val_loss: 0.5261 - val_accuracy: 0.8533\n",
      "Epoch 11/150\n",
      "75/75 [==============================] - 0s 452us/step - loss: 0.4451 - accuracy: 0.8933 - val_loss: 0.5097 - val_accuracy: 0.8667\n",
      "Epoch 12/150\n",
      "75/75 [==============================] - 0s 385us/step - loss: 0.4245 - accuracy: 0.8933 - val_loss: 0.4956 - val_accuracy: 0.8667\n",
      "Epoch 13/150\n",
      "75/75 [==============================] - 0s 399us/step - loss: 0.4066 - accuracy: 0.8933 - val_loss: 0.4837 - val_accuracy: 0.8400\n",
      "Epoch 14/150\n",
      "75/75 [==============================] - 0s 359us/step - loss: 0.3906 - accuracy: 0.8933 - val_loss: 0.4735 - val_accuracy: 0.8533\n",
      "Epoch 15/150\n",
      "75/75 [==============================] - 0s 439us/step - loss: 0.3763 - accuracy: 0.8933 - val_loss: 0.4641 - val_accuracy: 0.8533\n",
      "Epoch 16/150\n",
      "75/75 [==============================] - 0s 399us/step - loss: 0.3642 - accuracy: 0.8933 - val_loss: 0.4561 - val_accuracy: 0.8533\n",
      "Epoch 17/150\n",
      "75/75 [==============================] - 0s 359us/step - loss: 0.3535 - accuracy: 0.8933 - val_loss: 0.4488 - val_accuracy: 0.8400\n",
      "Epoch 18/150\n",
      "75/75 [==============================] - 0s 331us/step - loss: 0.3426 - accuracy: 0.8933 - val_loss: 0.4420 - val_accuracy: 0.8400\n",
      "Epoch 19/150\n",
      "75/75 [==============================] - 0s 332us/step - loss: 0.3338 - accuracy: 0.9067 - val_loss: 0.4372 - val_accuracy: 0.8267\n",
      "Epoch 20/150\n",
      "75/75 [==============================] - 0s 372us/step - loss: 0.3243 - accuracy: 0.8933 - val_loss: 0.4318 - val_accuracy: 0.8267\n",
      "Epoch 21/150\n",
      "75/75 [==============================] - 0s 465us/step - loss: 0.3159 - accuracy: 0.8933 - val_loss: 0.4272 - val_accuracy: 0.8267\n",
      "Epoch 22/150\n",
      "75/75 [==============================] - 0s 426us/step - loss: 0.3086 - accuracy: 0.8933 - val_loss: 0.4218 - val_accuracy: 0.8267\n",
      "Epoch 23/150\n",
      "75/75 [==============================] - 0s 399us/step - loss: 0.3018 - accuracy: 0.8933 - val_loss: 0.4182 - val_accuracy: 0.8267\n",
      "Epoch 24/150\n",
      "75/75 [==============================] - 0s 379us/step - loss: 0.2945 - accuracy: 0.8933 - val_loss: 0.4141 - val_accuracy: 0.8267\n",
      "Epoch 25/150\n",
      "75/75 [==============================] - 0s 346us/step - loss: 0.2885 - accuracy: 0.8933 - val_loss: 0.4104 - val_accuracy: 0.8267\n",
      "Epoch 26/150\n",
      "75/75 [==============================] - 0s 346us/step - loss: 0.2831 - accuracy: 0.8933 - val_loss: 0.4063 - val_accuracy: 0.8267\n",
      "Epoch 27/150\n",
      "75/75 [==============================] - 0s 346us/step - loss: 0.2767 - accuracy: 0.9067 - val_loss: 0.4030 - val_accuracy: 0.8267\n",
      "Epoch 28/150\n",
      "75/75 [==============================] - 0s 332us/step - loss: 0.2717 - accuracy: 0.8933 - val_loss: 0.3998 - val_accuracy: 0.8267\n",
      "Epoch 29/150\n",
      "75/75 [==============================] - 0s 359us/step - loss: 0.2665 - accuracy: 0.8933 - val_loss: 0.3967 - val_accuracy: 0.8267\n",
      "Epoch 30/150\n",
      "75/75 [==============================] - 0s 372us/step - loss: 0.2617 - accuracy: 0.8933 - val_loss: 0.3932 - val_accuracy: 0.8267\n",
      "Epoch 31/150\n",
      "75/75 [==============================] - 0s 412us/step - loss: 0.2566 - accuracy: 0.9067 - val_loss: 0.3892 - val_accuracy: 0.8267\n",
      "Epoch 32/150\n",
      "75/75 [==============================] - 0s 386us/step - loss: 0.2515 - accuracy: 0.9067 - val_loss: 0.3867 - val_accuracy: 0.8267\n",
      "Epoch 33/150\n",
      "75/75 [==============================] - 0s 359us/step - loss: 0.2464 - accuracy: 0.9200 - val_loss: 0.3835 - val_accuracy: 0.8267\n",
      "Epoch 34/150\n",
      "75/75 [==============================] - 0s 386us/step - loss: 0.2419 - accuracy: 0.9200 - val_loss: 0.3805 - val_accuracy: 0.8267\n",
      "Epoch 35/150\n",
      "75/75 [==============================] - 0s 386us/step - loss: 0.2381 - accuracy: 0.9200 - val_loss: 0.3772 - val_accuracy: 0.8267\n",
      "Epoch 36/150\n",
      "75/75 [==============================] - 0s 372us/step - loss: 0.2338 - accuracy: 0.9200 - val_loss: 0.3742 - val_accuracy: 0.8267\n",
      "Epoch 37/150\n",
      "75/75 [==============================] - 0s 359us/step - loss: 0.2298 - accuracy: 0.9200 - val_loss: 0.3711 - val_accuracy: 0.8267\n",
      "Epoch 38/150\n",
      "75/75 [==============================] - 0s 372us/step - loss: 0.2253 - accuracy: 0.9200 - val_loss: 0.3681 - val_accuracy: 0.8267\n",
      "Epoch 39/150\n",
      "75/75 [==============================] - 0s 399us/step - loss: 0.2217 - accuracy: 0.9200 - val_loss: 0.3654 - val_accuracy: 0.8267\n",
      "Epoch 40/150\n",
      "75/75 [==============================] - 0s 386us/step - loss: 0.2186 - accuracy: 0.9200 - val_loss: 0.3620 - val_accuracy: 0.8267\n",
      "Epoch 41/150\n",
      "75/75 [==============================] - 0s 359us/step - loss: 0.2144 - accuracy: 0.9200 - val_loss: 0.3596 - val_accuracy: 0.8267\n",
      "Epoch 42/150\n",
      "75/75 [==============================] - 0s 372us/step - loss: 0.2111 - accuracy: 0.9200 - val_loss: 0.3562 - val_accuracy: 0.8267\n",
      "Epoch 43/150\n",
      "75/75 [==============================] - 0s 359us/step - loss: 0.2070 - accuracy: 0.9200 - val_loss: 0.3536 - val_accuracy: 0.8267\n",
      "Epoch 44/150\n",
      "75/75 [==============================] - 0s 359us/step - loss: 0.2027 - accuracy: 0.9333 - val_loss: 0.3507 - val_accuracy: 0.8267\n",
      "Epoch 45/150\n",
      "75/75 [==============================] - 0s 386us/step - loss: 0.2001 - accuracy: 0.9200 - val_loss: 0.3479 - val_accuracy: 0.8400\n",
      "Epoch 46/150\n",
      "75/75 [==============================] - 0s 372us/step - loss: 0.1966 - accuracy: 0.9333 - val_loss: 0.3446 - val_accuracy: 0.8667\n",
      "Epoch 47/150\n",
      "75/75 [==============================] - 0s 372us/step - loss: 0.1930 - accuracy: 0.9333 - val_loss: 0.3410 - val_accuracy: 0.8667\n",
      "Epoch 48/150\n",
      "75/75 [==============================] - 0s 505us/step - loss: 0.1891 - accuracy: 0.9333 - val_loss: 0.3376 - val_accuracy: 0.8667\n",
      "Epoch 49/150\n",
      "75/75 [==============================] - 0s 372us/step - loss: 0.1861 - accuracy: 0.9333 - val_loss: 0.3340 - val_accuracy: 0.8667\n",
      "Epoch 50/150\n",
      "75/75 [==============================] - 0s 372us/step - loss: 0.1822 - accuracy: 0.9333 - val_loss: 0.3312 - val_accuracy: 0.8667\n",
      "Epoch 51/150\n",
      "75/75 [==============================] - 0s 386us/step - loss: 0.1788 - accuracy: 0.9333 - val_loss: 0.3279 - val_accuracy: 0.8667\n",
      "Epoch 52/150\n",
      "75/75 [==============================] - 0s 386us/step - loss: 0.1758 - accuracy: 0.9333 - val_loss: 0.3250 - val_accuracy: 0.8667\n",
      "Epoch 53/150\n",
      "75/75 [==============================] - 0s 465us/step - loss: 0.1735 - accuracy: 0.9467 - val_loss: 0.3221 - val_accuracy: 0.8667\n",
      "Epoch 54/150\n",
      "75/75 [==============================] - 0s 486us/step - loss: 0.1695 - accuracy: 0.9467 - val_loss: 0.3194 - val_accuracy: 0.8667\n",
      "Epoch 55/150\n",
      "75/75 [==============================] - 0s 412us/step - loss: 0.1669 - accuracy: 0.9600 - val_loss: 0.3163 - val_accuracy: 0.8667\n",
      "Epoch 56/150\n",
      "75/75 [==============================] - 0s 545us/step - loss: 0.1631 - accuracy: 0.9467 - val_loss: 0.3127 - val_accuracy: 0.8667\n",
      "Epoch 57/150\n",
      "75/75 [==============================] - 0s 519us/step - loss: 0.1600 - accuracy: 0.9600 - val_loss: 0.3095 - val_accuracy: 0.8667\n",
      "Epoch 58/150\n",
      "75/75 [==============================] - 0s 359us/step - loss: 0.1572 - accuracy: 0.9600 - val_loss: 0.3065 - val_accuracy: 0.8800\n",
      "Epoch 59/150\n",
      "75/75 [==============================] - ETA: 0s - loss: 0.0619 - accuracy: 1.00 - 0s 412us/step - loss: 0.1545 - accuracy: 0.9600 - val_loss: 0.3037 - val_accuracy: 0.8800\n",
      "Epoch 60/150\n",
      "75/75 [==============================] - 0s 399us/step - loss: 0.1515 - accuracy: 0.9600 - val_loss: 0.2994 - val_accuracy: 0.8933\n",
      "Epoch 61/150\n",
      "75/75 [==============================] - 0s 412us/step - loss: 0.1487 - accuracy: 0.9600 - val_loss: 0.2969 - val_accuracy: 0.8933\n",
      "Epoch 62/150\n",
      "75/75 [==============================] - 0s 399us/step - loss: 0.1456 - accuracy: 0.9600 - val_loss: 0.2933 - val_accuracy: 0.9067\n",
      "Epoch 63/150\n",
      "75/75 [==============================] - 0s 426us/step - loss: 0.1430 - accuracy: 0.9600 - val_loss: 0.2900 - val_accuracy: 0.9067\n",
      "Epoch 64/150\n",
      "75/75 [==============================] - 0s 399us/step - loss: 0.1403 - accuracy: 0.9600 - val_loss: 0.2874 - val_accuracy: 0.9067\n",
      "Epoch 65/150\n",
      "75/75 [==============================] - 0s 423us/step - loss: 0.1379 - accuracy: 0.9733 - val_loss: 0.2838 - val_accuracy: 0.9067\n",
      "Epoch 66/150\n",
      "75/75 [==============================] - 0s 399us/step - loss: 0.1350 - accuracy: 0.9733 - val_loss: 0.2809 - val_accuracy: 0.9067\n",
      "Epoch 67/150\n",
      "75/75 [==============================] - 0s 426us/step - loss: 0.1325 - accuracy: 0.9733 - val_loss: 0.2780 - val_accuracy: 0.9067\n",
      "Epoch 68/150\n",
      "75/75 [==============================] - 0s 439us/step - loss: 0.1297 - accuracy: 0.9733 - val_loss: 0.2745 - val_accuracy: 0.9067\n",
      "Epoch 69/150\n",
      "75/75 [==============================] - 0s 505us/step - loss: 0.1275 - accuracy: 0.9733 - val_loss: 0.2717 - val_accuracy: 0.9067\n",
      "Epoch 70/150\n",
      "75/75 [==============================] - 0s 465us/step - loss: 0.1254 - accuracy: 0.9733 - val_loss: 0.2688 - val_accuracy: 0.9067\n",
      "Epoch 71/150\n",
      "75/75 [==============================] - 0s 392us/step - loss: 0.1231 - accuracy: 0.9733 - val_loss: 0.2655 - val_accuracy: 0.9067\n",
      "Epoch 72/150\n",
      "75/75 [==============================] - 0s 452us/step - loss: 0.1211 - accuracy: 0.9733 - val_loss: 0.2627 - val_accuracy: 0.9067\n",
      "Epoch 73/150\n",
      "75/75 [==============================] - 0s 426us/step - loss: 0.1185 - accuracy: 0.9733 - val_loss: 0.2605 - val_accuracy: 0.9200\n",
      "Epoch 74/150\n",
      "75/75 [==============================] - 0s 392us/step - loss: 0.1161 - accuracy: 0.9733 - val_loss: 0.2576 - val_accuracy: 0.9200\n",
      "Epoch 75/150\n",
      "75/75 [==============================] - 0s 412us/step - loss: 0.1143 - accuracy: 0.9733 - val_loss: 0.2550 - val_accuracy: 0.9200\n",
      "Epoch 76/150\n",
      "75/75 [==============================] - 0s 426us/step - loss: 0.1128 - accuracy: 0.9733 - val_loss: 0.2519 - val_accuracy: 0.9200\n",
      "Epoch 77/150\n",
      "75/75 [==============================] - 0s 366us/step - loss: 0.1101 - accuracy: 0.9733 - val_loss: 0.2488 - val_accuracy: 0.9200\n",
      "Epoch 78/150\n",
      "75/75 [==============================] - 0s 399us/step - loss: 0.1077 - accuracy: 0.9733 - val_loss: 0.2462 - val_accuracy: 0.9200\n",
      "Epoch 79/150\n",
      "75/75 [==============================] - 0s 372us/step - loss: 0.1065 - accuracy: 0.9733 - val_loss: 0.2443 - val_accuracy: 0.9200\n",
      "Epoch 80/150\n",
      "75/75 [==============================] - 0s 359us/step - loss: 0.1049 - accuracy: 0.9733 - val_loss: 0.2415 - val_accuracy: 0.9200\n",
      "Epoch 81/150\n",
      "75/75 [==============================] - 0s 346us/step - loss: 0.1023 - accuracy: 0.9867 - val_loss: 0.2384 - val_accuracy: 0.9200\n",
      "Epoch 82/150\n",
      "75/75 [==============================] - 0s 346us/step - loss: 0.1010 - accuracy: 0.9867 - val_loss: 0.2360 - val_accuracy: 0.9200\n",
      "Epoch 83/150\n",
      "75/75 [==============================] - 0s 372us/step - loss: 0.0989 - accuracy: 0.9867 - val_loss: 0.2332 - val_accuracy: 0.9200\n",
      "Epoch 84/150\n",
      "75/75 [==============================] - 0s 399us/step - loss: 0.0977 - accuracy: 0.9733 - val_loss: 0.2314 - val_accuracy: 0.9200\n",
      "Epoch 85/150\n",
      "75/75 [==============================] - 0s 372us/step - loss: 0.0955 - accuracy: 0.9867 - val_loss: 0.2290 - val_accuracy: 0.9200\n",
      "Epoch 86/150\n",
      "75/75 [==============================] - 0s 399us/step - loss: 0.0940 - accuracy: 0.9867 - val_loss: 0.2270 - val_accuracy: 0.9200\n",
      "Epoch 87/150\n",
      "75/75 [==============================] - 0s 372us/step - loss: 0.0928 - accuracy: 0.9867 - val_loss: 0.2250 - val_accuracy: 0.9200\n",
      "Epoch 88/150\n",
      "75/75 [==============================] - 0s 439us/step - loss: 0.0914 - accuracy: 0.9867 - val_loss: 0.2228 - val_accuracy: 0.9200\n",
      "Epoch 89/150\n",
      "75/75 [==============================] - 0s 399us/step - loss: 0.0898 - accuracy: 0.9867 - val_loss: 0.2206 - val_accuracy: 0.9200\n",
      "Epoch 90/150\n",
      "75/75 [==============================] - 0s 452us/step - loss: 0.0882 - accuracy: 0.9867 - val_loss: 0.2188 - val_accuracy: 0.9200\n",
      "Epoch 91/150\n",
      "75/75 [==============================] - 0s 399us/step - loss: 0.0869 - accuracy: 0.9867 - val_loss: 0.2166 - val_accuracy: 0.9200\n",
      "Epoch 92/150\n",
      "75/75 [==============================] - 0s 465us/step - loss: 0.0854 - accuracy: 0.9867 - val_loss: 0.2142 - val_accuracy: 0.9200\n",
      "Epoch 93/150\n",
      "75/75 [==============================] - 0s 399us/step - loss: 0.0842 - accuracy: 0.9867 - val_loss: 0.2124 - val_accuracy: 0.9200\n",
      "Epoch 94/150\n",
      "75/75 [==============================] - 0s 359us/step - loss: 0.0828 - accuracy: 0.9867 - val_loss: 0.2102 - val_accuracy: 0.9200\n",
      "Epoch 95/150\n",
      "75/75 [==============================] - 0s 359us/step - loss: 0.0814 - accuracy: 0.9867 - val_loss: 0.2082 - val_accuracy: 0.9200\n",
      "Epoch 96/150\n",
      "75/75 [==============================] - 0s 372us/step - loss: 0.0803 - accuracy: 0.9867 - val_loss: 0.2065 - val_accuracy: 0.9200\n",
      "Epoch 97/150\n",
      "75/75 [==============================] - 0s 372us/step - loss: 0.0793 - accuracy: 0.9867 - val_loss: 0.2045 - val_accuracy: 0.9200\n",
      "Epoch 98/150\n",
      "75/75 [==============================] - 0s 372us/step - loss: 0.0781 - accuracy: 0.9867 - val_loss: 0.2027 - val_accuracy: 0.9200\n",
      "Epoch 99/150\n",
      "75/75 [==============================] - 0s 399us/step - loss: 0.0773 - accuracy: 0.9867 - val_loss: 0.2012 - val_accuracy: 0.9200\n",
      "Epoch 100/150\n",
      "75/75 [==============================] - 0s 426us/step - loss: 0.0760 - accuracy: 0.9867 - val_loss: 0.1998 - val_accuracy: 0.9200\n",
      "Epoch 101/150\n",
      "75/75 [==============================] - 0s 359us/step - loss: 0.0752 - accuracy: 0.9867 - val_loss: 0.1980 - val_accuracy: 0.9200\n",
      "Epoch 102/150\n",
      "75/75 [==============================] - 0s 346us/step - loss: 0.0743 - accuracy: 0.9867 - val_loss: 0.1962 - val_accuracy: 0.9200\n",
      "Epoch 103/150\n",
      "75/75 [==============================] - 0s 359us/step - loss: 0.0731 - accuracy: 0.9867 - val_loss: 0.1946 - val_accuracy: 0.9067\n",
      "Epoch 104/150\n",
      "75/75 [==============================] - 0s 359us/step - loss: 0.0716 - accuracy: 0.9867 - val_loss: 0.1931 - val_accuracy: 0.9067\n",
      "Epoch 105/150\n",
      "75/75 [==============================] - 0s 359us/step - loss: 0.0711 - accuracy: 0.9867 - val_loss: 0.1920 - val_accuracy: 0.9067\n",
      "Epoch 106/150\n",
      "75/75 [==============================] - 0s 386us/step - loss: 0.0699 - accuracy: 0.9867 - val_loss: 0.1907 - val_accuracy: 0.9067\n",
      "Epoch 107/150\n",
      "75/75 [==============================] - 0s 346us/step - loss: 0.0692 - accuracy: 0.9867 - val_loss: 0.1893 - val_accuracy: 0.9067\n",
      "Epoch 108/150\n",
      "75/75 [==============================] - 0s 426us/step - loss: 0.0679 - accuracy: 0.9867 - val_loss: 0.1880 - val_accuracy: 0.9067\n",
      "Epoch 109/150\n",
      "75/75 [==============================] - 0s 369us/step - loss: 0.0677 - accuracy: 0.9867 - val_loss: 0.1866 - val_accuracy: 0.9067\n",
      "Epoch 110/150\n",
      "75/75 [==============================] - 0s 426us/step - loss: 0.0666 - accuracy: 0.9867 - val_loss: 0.1851 - val_accuracy: 0.9067\n",
      "Epoch 111/150\n",
      "75/75 [==============================] - 0s 372us/step - loss: 0.0656 - accuracy: 0.9867 - val_loss: 0.1839 - val_accuracy: 0.9067\n",
      "Epoch 112/150\n",
      "75/75 [==============================] - 0s 452us/step - loss: 0.0647 - accuracy: 0.9867 - val_loss: 0.1825 - val_accuracy: 0.9067\n",
      "Epoch 113/150\n",
      "75/75 [==============================] - 0s 386us/step - loss: 0.0643 - accuracy: 0.9867 - val_loss: 0.1813 - val_accuracy: 0.9067\n",
      "Epoch 114/150\n",
      "75/75 [==============================] - 0s 492us/step - loss: 0.0633 - accuracy: 0.9867 - val_loss: 0.1801 - val_accuracy: 0.9067\n",
      "Epoch 115/150\n",
      "75/75 [==============================] - 0s 399us/step - loss: 0.0630 - accuracy: 0.9867 - val_loss: 0.1787 - val_accuracy: 0.9067\n",
      "Epoch 116/150\n",
      "75/75 [==============================] - 0s 452us/step - loss: 0.0620 - accuracy: 0.9867 - val_loss: 0.1778 - val_accuracy: 0.9067\n",
      "Epoch 117/150\n",
      "75/75 [==============================] - 0s 359us/step - loss: 0.0615 - accuracy: 0.9867 - val_loss: 0.1767 - val_accuracy: 0.9067\n",
      "Epoch 118/150\n",
      "75/75 [==============================] - 0s 505us/step - loss: 0.0606 - accuracy: 0.9867 - val_loss: 0.1755 - val_accuracy: 0.9067\n",
      "Epoch 119/150\n",
      "75/75 [==============================] - 0s 386us/step - loss: 0.0600 - accuracy: 0.9867 - val_loss: 0.1745 - val_accuracy: 0.9067\n",
      "Epoch 120/150\n",
      "75/75 [==============================] - 0s 565us/step - loss: 0.0592 - accuracy: 0.9867 - val_loss: 0.1734 - val_accuracy: 0.9067\n",
      "Epoch 121/150\n",
      "75/75 [==============================] - 0s 439us/step - loss: 0.0588 - accuracy: 0.9867 - val_loss: 0.1724 - val_accuracy: 0.9067\n",
      "Epoch 122/150\n",
      "75/75 [==============================] - 0s 831us/step - loss: 0.0579 - accuracy: 0.9867 - val_loss: 0.1715 - val_accuracy: 0.9067\n",
      "Epoch 123/150\n",
      "75/75 [==============================] - 0s 359us/step - loss: 0.0572 - accuracy: 0.9867 - val_loss: 0.1705 - val_accuracy: 0.9067\n",
      "Epoch 124/150\n",
      "75/75 [==============================] - 0s 386us/step - loss: 0.0566 - accuracy: 0.9867 - val_loss: 0.1696 - val_accuracy: 0.9067\n",
      "Epoch 125/150\n",
      "75/75 [==============================] - 0s 386us/step - loss: 0.0564 - accuracy: 0.9867 - val_loss: 0.1685 - val_accuracy: 0.9067\n",
      "Epoch 126/150\n",
      "75/75 [==============================] - 0s 426us/step - loss: 0.0556 - accuracy: 0.9867 - val_loss: 0.1675 - val_accuracy: 0.9067\n",
      "Epoch 127/150\n",
      "75/75 [==============================] - 0s 386us/step - loss: 0.0551 - accuracy: 0.9867 - val_loss: 0.1667 - val_accuracy: 0.9067\n",
      "Epoch 128/150\n",
      "75/75 [==============================] - 0s 346us/step - loss: 0.0545 - accuracy: 0.9867 - val_loss: 0.1658 - val_accuracy: 0.9067\n",
      "Epoch 129/150\n",
      "75/75 [==============================] - 0s 386us/step - loss: 0.0539 - accuracy: 0.9867 - val_loss: 0.1649 - val_accuracy: 0.9067\n",
      "Epoch 130/150\n",
      "75/75 [==============================] - 0s 399us/step - loss: 0.0536 - accuracy: 0.9867 - val_loss: 0.1640 - val_accuracy: 0.9200\n",
      "Epoch 131/150\n",
      "75/75 [==============================] - 0s 399us/step - loss: 0.0526 - accuracy: 0.9867 - val_loss: 0.1632 - val_accuracy: 0.9200\n",
      "Epoch 132/150\n",
      "75/75 [==============================] - 0s 372us/step - loss: 0.0523 - accuracy: 0.9867 - val_loss: 0.1625 - val_accuracy: 0.9200\n",
      "Epoch 133/150\n",
      "75/75 [==============================] - 0s 372us/step - loss: 0.0520 - accuracy: 0.9867 - val_loss: 0.1617 - val_accuracy: 0.9200\n",
      "Epoch 134/150\n",
      "75/75 [==============================] - 0s 372us/step - loss: 0.0514 - accuracy: 0.9867 - val_loss: 0.1610 - val_accuracy: 0.9200\n",
      "Epoch 135/150\n",
      "75/75 [==============================] - 0s 386us/step - loss: 0.0509 - accuracy: 0.9867 - val_loss: 0.1603 - val_accuracy: 0.9200\n",
      "Epoch 136/150\n",
      "75/75 [==============================] - 0s 386us/step - loss: 0.0504 - accuracy: 0.9867 - val_loss: 0.1596 - val_accuracy: 0.9200\n",
      "Epoch 137/150\n",
      "75/75 [==============================] - 0s 386us/step - loss: 0.0501 - accuracy: 0.9867 - val_loss: 0.1589 - val_accuracy: 0.9200\n",
      "Epoch 138/150\n",
      "75/75 [==============================] - 0s 359us/step - loss: 0.0496 - accuracy: 0.9867 - val_loss: 0.1582 - val_accuracy: 0.9200\n",
      "Epoch 139/150\n",
      "75/75 [==============================] - 0s 439us/step - loss: 0.0490 - accuracy: 0.9867 - val_loss: 0.1575 - val_accuracy: 0.9200\n",
      "Epoch 140/150\n",
      "75/75 [==============================] - 0s 372us/step - loss: 0.0487 - accuracy: 0.9867 - val_loss: 0.1568 - val_accuracy: 0.9200\n",
      "Epoch 141/150\n",
      "75/75 [==============================] - 0s 426us/step - loss: 0.0482 - accuracy: 0.9867 - val_loss: 0.1561 - val_accuracy: 0.9200\n",
      "Epoch 142/150\n",
      "75/75 [==============================] - 0s 346us/step - loss: 0.0474 - accuracy: 0.9867 - val_loss: 0.1555 - val_accuracy: 0.9200\n",
      "Epoch 143/150\n",
      "75/75 [==============================] - 0s 372us/step - loss: 0.0474 - accuracy: 0.9867 - val_loss: 0.1549 - val_accuracy: 0.9200\n",
      "Epoch 144/150\n",
      "75/75 [==============================] - 0s 372us/step - loss: 0.0469 - accuracy: 0.9867 - val_loss: 0.1543 - val_accuracy: 0.9200\n",
      "Epoch 145/150\n",
      "75/75 [==============================] - 0s 386us/step - loss: 0.0465 - accuracy: 0.9867 - val_loss: 0.1537 - val_accuracy: 0.9200\n",
      "Epoch 146/150\n",
      "75/75 [==============================] - 0s 412us/step - loss: 0.0462 - accuracy: 0.9867 - val_loss: 0.1531 - val_accuracy: 0.9200\n",
      "Epoch 147/150\n",
      "75/75 [==============================] - 0s 399us/step - loss: 0.0454 - accuracy: 0.9867 - val_loss: 0.1525 - val_accuracy: 0.9200\n",
      "Epoch 148/150\n",
      "75/75 [==============================] - 0s 372us/step - loss: 0.0454 - accuracy: 0.9867 - val_loss: 0.1520 - val_accuracy: 0.9200\n",
      "Epoch 149/150\n",
      "75/75 [==============================] - 0s 359us/step - loss: 0.0447 - accuracy: 0.9867 - val_loss: 0.1514 - val_accuracy: 0.9200\n",
      "Epoch 150/150\n",
      "75/75 [==============================] - 0s 372us/step - loss: 0.0444 - accuracy: 0.9867 - val_loss: 0.1508 - val_accuracy: 0.9200\n"
     ]
    },
    {
     "data": {
      "image/png": "[encoded data removed]",
      "text/plain": [
       "<Figure size 432x288 with 1 Axes>"
      ]
     },
     "metadata": {
      "needs_background": "light"
     },
     "output_type": "display_data"
    },
    {
     "data": {
      "image/png": "[encoded data removed]",
      "text/plain": [
       "<Figure size 432x288 with 1 Axes>"
      ]
     },
     "metadata": {
      "needs_background": "light"
     },
     "output_type": "display_data"
    }
   ],
   "source": [
    "model.compile(optimizer='sgd', loss='categorical_crossentropy', metrics=['accuracy'])\n",
    "model_history = model.fit(X_train, Y_train_bin, epochs=150, batch_size=5, verbose=1, validation_data=(X_test,Y_test_bin))\n",
    "\n",
    "# Plot training & validation accuracy values\n",
    "plt.plot(model_history.history['accuracy'])\n",
    "plt.plot(model_history.history['val_accuracy'])\n",
    "plt.title('Model accuracy')\n",
    "plt.ylabel('Accuracy')\n",
    "plt.xlabel('Epoch')\n",
    "plt.legend(['Train', 'Test'], loc='upper left')\n",
    "plt.show()\n",
    "\n",
    "# Plot training & validation loss values\n",
    "plt.plot(model_history.history['loss'])\n",
    "plt.plot(model_history.history['val_loss'])\n",
    "plt.title('Model loss')\n",
    "plt.ylabel('Loss')\n",
    "plt.xlabel('Epoch')\n",
    "plt.legend(['Train', 'Test'], loc='upper left')\n",
    "plt.show()"
   ]
  },
  {
   "cell_type": "code",
   "execution_count": 18,
   "metadata": {
    "collapsed": true,
    "jupyter": {
     "outputs_hidden": true
    }
   },
   "outputs": [
    {
     "name": "stdout",
     "output_type": "stream",
     "text": [
      "Train on 75 samples, validate on 75 samples\n",
      "Epoch 1/100\n",
      "75/75 [==============================] - 0s 5ms/step - loss: 0.6905 - accuracy: 0.7733 - val_loss: 0.5522 - val_accuracy: 0.8533\n",
      "Epoch 2/100\n",
      "75/75 [==============================] - 0s 2ms/step - loss: 0.4717 - accuracy: 0.9067 - val_loss: 0.4703 - val_accuracy: 0.8933\n",
      "Epoch 3/100\n",
      "75/75 [==============================] - 0s 2ms/step - loss: 0.3860 - accuracy: 0.9467 - val_loss: 0.4264 - val_accuracy: 0.8800\n",
      "Epoch 4/100\n",
      "75/75 [==============================] - 0s 2ms/step - loss: 0.3321 - accuracy: 0.9467 - val_loss: 0.4000 - val_accuracy: 0.8267\n",
      "Epoch 5/100\n",
      "75/75 [==============================] - 0s 2ms/step - loss: 0.2915 - accuracy: 0.9467 - val_loss: 0.3772 - val_accuracy: 0.8267\n",
      "Epoch 6/100\n",
      "75/75 [==============================] - 0s 2ms/step - loss: 0.2615 - accuracy: 0.9333 - val_loss: 0.3516 - val_accuracy: 0.8800\n",
      "Epoch 7/100\n",
      "75/75 [==============================] - 0s 2ms/step - loss: 0.2353 - accuracy: 0.9333 - val_loss: 0.3340 - val_accuracy: 0.8800\n",
      "Epoch 8/100\n",
      "75/75 [==============================] - 0s 2ms/step - loss: 0.2121 - accuracy: 0.9467 - val_loss: 0.3202 - val_accuracy: 0.8800\n",
      "Epoch 9/100\n",
      "75/75 [==============================] - 0s 2ms/step - loss: 0.1932 - accuracy: 0.9600 - val_loss: 0.3052 - val_accuracy: 0.8933\n",
      "Epoch 10/100\n",
      "75/75 [==============================] - 0s 2ms/step - loss: 0.1754 - accuracy: 0.9600 - val_loss: 0.2852 - val_accuracy: 0.9067\n",
      "Epoch 11/100\n",
      "75/75 [==============================] - 0s 2ms/step - loss: 0.1595 - accuracy: 0.9600 - val_loss: 0.2740 - val_accuracy: 0.9200\n",
      "Epoch 12/100\n",
      "75/75 [==============================] - 0s 2ms/step - loss: 0.1449 - accuracy: 0.9867 - val_loss: 0.2606 - val_accuracy: 0.9200\n",
      "Epoch 13/100\n",
      "75/75 [==============================] - 0s 2ms/step - loss: 0.1329 - accuracy: 0.9867 - val_loss: 0.2474 - val_accuracy: 0.9200\n",
      "Epoch 14/100\n",
      "75/75 [==============================] - 0s 2ms/step - loss: 0.1201 - accuracy: 0.9733 - val_loss: 0.2426 - val_accuracy: 0.9333\n",
      "Epoch 15/100\n",
      "75/75 [==============================] - 0s 2ms/step - loss: 0.1127 - accuracy: 0.9867 - val_loss: 0.2259 - val_accuracy: 0.9333\n",
      "Epoch 16/100\n",
      "75/75 [==============================] - 0s 2ms/step - loss: 0.1034 - accuracy: 0.9867 - val_loss: 0.2152 - val_accuracy: 0.9333\n",
      "Epoch 17/100\n",
      "75/75 [==============================] - 0s 2ms/step - loss: 0.0953 - accuracy: 0.9867 - val_loss: 0.2048 - val_accuracy: 0.9200\n",
      "Epoch 18/100\n",
      "75/75 [==============================] - 0s 2ms/step - loss: 0.0880 - accuracy: 0.9867 - val_loss: 0.2010 - val_accuracy: 0.9333\n",
      "Epoch 19/100\n",
      "75/75 [==============================] - 0s 2ms/step - loss: 0.0827 - accuracy: 0.9867 - val_loss: 0.1916 - val_accuracy: 0.9200\n",
      "Epoch 20/100\n",
      "75/75 [==============================] - 0s 2ms/step - loss: 0.0770 - accuracy: 0.9867 - val_loss: 0.1853 - val_accuracy: 0.9333\n",
      "Epoch 21/100\n",
      "75/75 [==============================] - 0s 2ms/step - loss: 0.0730 - accuracy: 0.9867 - val_loss: 0.1802 - val_accuracy: 0.9200\n",
      "Epoch 22/100\n",
      "75/75 [==============================] - 0s 2ms/step - loss: 0.0678 - accuracy: 0.9867 - val_loss: 0.1769 - val_accuracy: 0.9200\n",
      "Epoch 23/100\n",
      "75/75 [==============================] - 0s 2ms/step - loss: 0.0648 - accuracy: 0.9867 - val_loss: 0.1725 - val_accuracy: 0.9200\n",
      "Epoch 24/100\n",
      "75/75 [==============================] - 0s 2ms/step - loss: 0.0611 - accuracy: 0.9867 - val_loss: 0.1710 - val_accuracy: 0.9200\n",
      "Epoch 25/100\n",
      "75/75 [==============================] - 0s 2ms/step - loss: 0.0590 - accuracy: 0.9867 - val_loss: 0.1645 - val_accuracy: 0.9333\n",
      "Epoch 26/100\n",
      "75/75 [==============================] - 0s 2ms/step - loss: 0.0565 - accuracy: 0.9867 - val_loss: 0.1609 - val_accuracy: 0.9333\n",
      "Epoch 27/100\n",
      "75/75 [==============================] - 0s 2ms/step - loss: 0.0538 - accuracy: 0.9867 - val_loss: 0.1578 - val_accuracy: 0.9333\n",
      "Epoch 28/100\n",
      "75/75 [==============================] - 0s 2ms/step - loss: 0.0516 - accuracy: 0.9867 - val_loss: 0.1539 - val_accuracy: 0.9333\n",
      "Epoch 29/100\n",
      "75/75 [==============================] - 0s 2ms/step - loss: 0.0485 - accuracy: 1.0000 - val_loss: 0.1516 - val_accuracy: 0.9333\n",
      "Epoch 30/100\n",
      "75/75 [==============================] - 0s 2ms/step - loss: 0.0476 - accuracy: 0.9867 - val_loss: 0.1474 - val_accuracy: 0.9333\n",
      "Epoch 31/100\n",
      "75/75 [==============================] - 0s 2ms/step - loss: 0.0459 - accuracy: 0.9867 - val_loss: 0.1469 - val_accuracy: 0.9333\n",
      "Epoch 32/100\n",
      "75/75 [==============================] - 0s 2ms/step - loss: 0.0446 - accuracy: 0.9867 - val_loss: 0.1452 - val_accuracy: 0.9333\n",
      "Epoch 33/100\n",
      "75/75 [==============================] - 0s 2ms/step - loss: 0.0430 - accuracy: 0.9867 - val_loss: 0.1457 - val_accuracy: 0.9333\n",
      "Epoch 34/100\n",
      "75/75 [==============================] - 0s 2ms/step - loss: 0.0417 - accuracy: 0.9867 - val_loss: 0.1426 - val_accuracy: 0.9333\n",
      "Epoch 35/100\n",
      "75/75 [==============================] - 0s 2ms/step - loss: 0.0403 - accuracy: 0.9867 - val_loss: 0.1422 - val_accuracy: 0.9333\n",
      "Epoch 36/100\n",
      "75/75 [==============================] - 0s 2ms/step - loss: 0.0398 - accuracy: 0.9867 - val_loss: 0.1414 - val_accuracy: 0.9333\n",
      "Epoch 37/100\n",
      "75/75 [==============================] - 0s 2ms/step - loss: 0.0383 - accuracy: 0.9867 - val_loss: 0.1407 - val_accuracy: 0.9333\n",
      "Epoch 38/100\n",
      "75/75 [==============================] - 0s 2ms/step - loss: 0.0370 - accuracy: 0.9867 - val_loss: 0.1387 - val_accuracy: 0.9333\n",
      "Epoch 39/100\n",
      "75/75 [==============================] - 0s 2ms/step - loss: 0.0365 - accuracy: 0.9867 - val_loss: 0.1388 - val_accuracy: 0.9333\n",
      "Epoch 40/100\n",
      "75/75 [==============================] - 0s 2ms/step - loss: 0.0350 - accuracy: 0.9867 - val_loss: 0.1408 - val_accuracy: 0.9333\n",
      "Epoch 41/100\n",
      "75/75 [==============================] - 0s 2ms/step - loss: 0.0338 - accuracy: 1.0000 - val_loss: 0.1366 - val_accuracy: 0.9333\n",
      "Epoch 42/100\n",
      "75/75 [==============================] - 0s 2ms/step - loss: 0.0331 - accuracy: 0.9867 - val_loss: 0.1404 - val_accuracy: 0.9467\n",
      "Epoch 43/100\n",
      "75/75 [==============================] - 0s 2ms/step - loss: 0.0329 - accuracy: 1.0000 - val_loss: 0.1344 - val_accuracy: 0.9333\n",
      "Epoch 44/100\n",
      "75/75 [==============================] - 0s 2ms/step - loss: 0.0316 - accuracy: 0.9867 - val_loss: 0.1369 - val_accuracy: 0.9467\n",
      "Epoch 45/100\n",
      "75/75 [==============================] - 0s 2ms/step - loss: 0.0316 - accuracy: 0.9867 - val_loss: 0.1349 - val_accuracy: 0.9333\n",
      "Epoch 46/100\n",
      "75/75 [==============================] - 0s 1ms/step - loss: 0.0306 - accuracy: 0.9867 - val_loss: 0.1323 - val_accuracy: 0.9333\n",
      "Epoch 47/100\n",
      "75/75 [==============================] - 0s 2ms/step - loss: 0.0300 - accuracy: 0.9867 - val_loss: 0.1302 - val_accuracy: 0.9333\n",
      "Epoch 48/100\n",
      "75/75 [==============================] - 0s 2ms/step - loss: 0.0292 - accuracy: 0.9867 - val_loss: 0.1286 - val_accuracy: 0.9333\n",
      "Epoch 49/100\n",
      "75/75 [==============================] - 0s 2ms/step - loss: 0.0289 - accuracy: 0.9867 - val_loss: 0.1298 - val_accuracy: 0.9333\n",
      "Epoch 50/100\n",
      "75/75 [==============================] - 0s 2ms/step - loss: 0.0274 - accuracy: 1.0000 - val_loss: 0.1278 - val_accuracy: 0.9333\n",
      "Epoch 51/100\n",
      "75/75 [==============================] - 0s 2ms/step - loss: 0.0275 - accuracy: 0.9867 - val_loss: 0.1320 - val_accuracy: 0.9333\n",
      "Epoch 52/100\n",
      "75/75 [==============================] - 0s 2ms/step - loss: 0.0266 - accuracy: 1.0000 - val_loss: 0.1302 - val_accuracy: 0.9333\n",
      "Epoch 53/100\n",
      "75/75 [==============================] - 0s 3ms/step - loss: 0.0265 - accuracy: 0.9867 - val_loss: 0.1332 - val_accuracy: 0.9467\n",
      "Epoch 54/100\n",
      "75/75 [==============================] - 0s 2ms/step - loss: 0.0251 - accuracy: 1.0000 - val_loss: 0.1281 - val_accuracy: 0.9333\n",
      "Epoch 55/100\n",
      "75/75 [==============================] - 0s 2ms/step - loss: 0.0251 - accuracy: 0.9867 - val_loss: 0.1348 - val_accuracy: 0.9467\n",
      "Epoch 56/100\n",
      "75/75 [==============================] - 0s 2ms/step - loss: 0.0245 - accuracy: 1.0000 - val_loss: 0.1280 - val_accuracy: 0.9333\n",
      "Epoch 57/100\n",
      "75/75 [==============================] - 0s 2ms/step - loss: 0.0241 - accuracy: 0.9867 - val_loss: 0.1353 - val_accuracy: 0.9467\n",
      "Epoch 58/100\n",
      "75/75 [==============================] - 0s 2ms/step - loss: 0.0235 - accuracy: 1.0000 - val_loss: 0.1282 - val_accuracy: 0.9333\n",
      "Epoch 59/100\n",
      "75/75 [==============================] - 0s 2ms/step - loss: 0.0238 - accuracy: 1.0000 - val_loss: 0.1288 - val_accuracy: 0.9467\n",
      "Epoch 60/100\n",
      "75/75 [==============================] - 0s 2ms/step - loss: 0.0228 - accuracy: 0.9867 - val_loss: 0.1347 - val_accuracy: 0.9333\n",
      "Epoch 61/100\n",
      "75/75 [==============================] - 0s 2ms/step - loss: 0.0222 - accuracy: 1.0000 - val_loss: 0.1269 - val_accuracy: 0.9467\n",
      "Epoch 62/100\n",
      "75/75 [==============================] - 0s 2ms/step - loss: 0.0219 - accuracy: 1.0000 - val_loss: 0.1252 - val_accuracy: 0.9333\n",
      "Epoch 63/100\n",
      "75/75 [==============================] - 0s 2ms/step - loss: 0.0220 - accuracy: 1.0000 - val_loss: 0.1250 - val_accuracy: 0.9333\n",
      "Epoch 64/100\n",
      "75/75 [==============================] - 0s 2ms/step - loss: 0.0218 - accuracy: 1.0000 - val_loss: 0.1303 - val_accuracy: 0.9467\n",
      "Epoch 65/100\n",
      "75/75 [==============================] - 0s 2ms/step - loss: 0.0209 - accuracy: 1.0000 - val_loss: 0.1268 - val_accuracy: 0.9467\n",
      "Epoch 66/100\n",
      "75/75 [==============================] - 0s 2ms/step - loss: 0.0207 - accuracy: 0.9867 - val_loss: 0.1353 - val_accuracy: 0.9333\n",
      "Epoch 67/100\n",
      "75/75 [==============================] - 0s 2ms/step - loss: 0.0205 - accuracy: 1.0000 - val_loss: 0.1355 - val_accuracy: 0.9333\n",
      "Epoch 68/100\n",
      "75/75 [==============================] - 0s 2ms/step - loss: 0.0202 - accuracy: 1.0000 - val_loss: 0.1304 - val_accuracy: 0.9467\n",
      "Epoch 69/100\n",
      "75/75 [==============================] - 0s 2ms/step - loss: 0.0194 - accuracy: 1.0000 - val_loss: 0.1263 - val_accuracy: 0.9467\n",
      "Epoch 70/100\n",
      "75/75 [==============================] - 0s 2ms/step - loss: 0.0194 - accuracy: 1.0000 - val_loss: 0.1257 - val_accuracy: 0.9467\n",
      "Epoch 71/100\n",
      "75/75 [==============================] - 0s 2ms/step - loss: 0.0190 - accuracy: 1.0000 - val_loss: 0.1355 - val_accuracy: 0.9333\n",
      "Epoch 72/100\n",
      "75/75 [==============================] - 0s 2ms/step - loss: 0.0184 - accuracy: 1.0000 - val_loss: 0.1271 - val_accuracy: 0.9467\n",
      "Epoch 73/100\n",
      "75/75 [==============================] - 0s 2ms/step - loss: 0.0184 - accuracy: 1.0000 - val_loss: 0.1251 - val_accuracy: 0.9467\n",
      "Epoch 74/100\n",
      "75/75 [==============================] - 0s 2ms/step - loss: 0.0185 - accuracy: 1.0000 - val_loss: 0.1287 - val_accuracy: 0.9467\n",
      "Epoch 75/100\n",
      "75/75 [==============================] - 0s 2ms/step - loss: 0.0180 - accuracy: 1.0000 - val_loss: 0.1309 - val_accuracy: 0.9467\n",
      "Epoch 76/100\n",
      "75/75 [==============================] - 0s 2ms/step - loss: 0.0176 - accuracy: 1.0000 - val_loss: 0.1321 - val_accuracy: 0.9467\n",
      "Epoch 77/100\n",
      "75/75 [==============================] - 0s 2ms/step - loss: 0.0174 - accuracy: 1.0000 - val_loss: 0.1331 - val_accuracy: 0.9467\n",
      "Epoch 78/100\n",
      "75/75 [==============================] - 0s 2ms/step - loss: 0.0171 - accuracy: 1.0000 - val_loss: 0.1335 - val_accuracy: 0.9467\n",
      "Epoch 79/100\n",
      "75/75 [==============================] - 0s 2ms/step - loss: 0.0166 - accuracy: 1.0000 - val_loss: 0.1403 - val_accuracy: 0.9333\n",
      "Epoch 80/100\n",
      "75/75 [==============================] - 0s 2ms/step - loss: 0.0160 - accuracy: 1.0000 - val_loss: 0.1315 - val_accuracy: 0.9467\n",
      "Epoch 81/100\n",
      "75/75 [==============================] - 0s 2ms/step - loss: 0.0161 - accuracy: 1.0000 - val_loss: 0.1296 - val_accuracy: 0.9467\n",
      "Epoch 82/100\n",
      "75/75 [==============================] - 0s 2ms/step - loss: 0.0160 - accuracy: 1.0000 - val_loss: 0.1393 - val_accuracy: 0.9333\n",
      "Epoch 83/100\n",
      "75/75 [==============================] - 0s 2ms/step - loss: 0.0155 - accuracy: 1.0000 - val_loss: 0.1308 - val_accuracy: 0.9467\n",
      "Epoch 84/100\n",
      "75/75 [==============================] - 0s 2ms/step - loss: 0.0157 - accuracy: 1.0000 - val_loss: 0.1327 - val_accuracy: 0.9467\n",
      "Epoch 85/100\n",
      "75/75 [==============================] - 0s 2ms/step - loss: 0.0155 - accuracy: 1.0000 - val_loss: 0.1343 - val_accuracy: 0.9467\n",
      "Epoch 86/100\n",
      "75/75 [==============================] - 0s 2ms/step - loss: 0.0147 - accuracy: 1.0000 - val_loss: 0.1300 - val_accuracy: 0.9467\n",
      "Epoch 87/100\n",
      "75/75 [==============================] - 0s 2ms/step - loss: 0.0149 - accuracy: 1.0000 - val_loss: 0.1388 - val_accuracy: 0.9333\n",
      "Epoch 88/100\n",
      "75/75 [==============================] - 0s 2ms/step - loss: 0.0147 - accuracy: 1.0000 - val_loss: 0.1349 - val_accuracy: 0.9333\n",
      "Epoch 89/100\n",
      "75/75 [==============================] - 0s 2ms/step - loss: 0.0142 - accuracy: 1.0000 - val_loss: 0.1316 - val_accuracy: 0.9467\n",
      "Epoch 90/100\n",
      "75/75 [==============================] - 0s 2ms/step - loss: 0.0142 - accuracy: 1.0000 - val_loss: 0.1310 - val_accuracy: 0.9467\n",
      "Epoch 91/100\n",
      "75/75 [==============================] - 0s 2ms/step - loss: 0.0140 - accuracy: 1.0000 - val_loss: 0.1311 - val_accuracy: 0.9467\n",
      "Epoch 92/100\n",
      "75/75 [==============================] - 0s 2ms/step - loss: 0.0138 - accuracy: 1.0000 - val_loss: 0.1308 - val_accuracy: 0.9467\n",
      "Epoch 93/100\n",
      "75/75 [==============================] - 0s 2ms/step - loss: 0.0139 - accuracy: 1.0000 - val_loss: 0.1322 - val_accuracy: 0.9467\n",
      "Epoch 94/100\n",
      "75/75 [==============================] - 0s 2ms/step - loss: 0.0136 - accuracy: 1.0000 - val_loss: 0.1400 - val_accuracy: 0.9333\n",
      "Epoch 95/100\n",
      "75/75 [==============================] - 0s 2ms/step - loss: 0.0130 - accuracy: 1.0000 - val_loss: 0.1341 - val_accuracy: 0.9467\n",
      "Epoch 96/100\n",
      "75/75 [==============================] - 0s 2ms/step - loss: 0.0132 - accuracy: 1.0000 - val_loss: 0.1351 - val_accuracy: 0.9467\n",
      "Epoch 97/100\n",
      "75/75 [==============================] - 0s 2ms/step - loss: 0.0128 - accuracy: 1.0000 - val_loss: 0.1328 - val_accuracy: 0.9467\n",
      "Epoch 98/100\n",
      "75/75 [==============================] - 0s 2ms/step - loss: 0.0128 - accuracy: 1.0000 - val_loss: 0.1412 - val_accuracy: 0.9467\n",
      "Epoch 99/100\n",
      "75/75 [==============================] - 0s 2ms/step - loss: 0.0125 - accuracy: 1.0000 - val_loss: 0.1458 - val_accuracy: 0.9467\n",
      "Epoch 100/100\n",
      "75/75 [==============================] - 0s 2ms/step - loss: 0.0124 - accuracy: 1.0000 - val_loss: 0.1482 - val_accuracy: 0.9467\n"
     ]
    },
    {
     "data": {
      "image/png": "[encoded data removed]",
      "text/plain": [
       "<Figure size 432x288 with 1 Axes>"
      ]
     },
     "metadata": {
      "needs_background": "light"
     },
     "output_type": "display_data"
    },
    {
     "data": {
      "image/png": "[encoded data removed]",
      "text/plain": [
       "<Figure size 432x288 with 1 Axes>"
      ]
     },
     "metadata": {
      "needs_background": "light"
     },
     "output_type": "display_data"
    }
   ],
   "source": [
    "model.compile(optimizer='sgd', loss='categorical_crossentropy', metrics=['accuracy'])\n",
    "model_history = model.fit(X_train, Y_train_bin, epochs=100, batch_size=1, verbose=1, validation_data=(X_test,Y_test_bin))\n",
    "\n",
    "# Plot training & validation accuracy values\n",
    "plt.plot(model_history.history['accuracy'])\n",
    "plt.plot(model_history.history['val_accuracy'])\n",
    "plt.title('Model accuracy')\n",
    "plt.ylabel('Accuracy')\n",
    "plt.xlabel('Epoch')\n",
    "plt.legend(['Train', 'Test'], loc='upper left')\n",
    "plt.show()\n",
    "\n",
    "# Plot training & validation loss values\n",
    "plt.plot(model_history.history['loss'])\n",
    "plt.plot(model_history.history['val_loss'])\n",
    "plt.title('Model loss')\n",
    "plt.ylabel('Loss')\n",
    "plt.xlabel('Epoch')\n",
    "plt.legend(['Train', 'Test'], loc='upper left')\n",
    "plt.show()"
   ]
  },
  {
   "cell_type": "markdown",
   "metadata": {},
   "source": [
    "### 14) OK, one more time. This time, copy the same model, but use an SGD optimizer. Of course, you may have already chosen this by specifying the optimizer='sgd' parameter when you compiled your model. This time, you will instantiate your optimizer. \n",
    "\n",
    "### Copy one of your models above. (Remember, if you keep using the same model instance, you are continually improving the weights, and thus not evaluating your new model properly! When you experiment with new models, you need to instantiate a new model, or figure out how to reset your weights to random initial values. For now, it's just easy enough to reinstantiate a new model.)\n",
    "\n",
    "### Now, instantiate SGD. Look at the documentation, and choose a different learning rate (lr) and a momentum value of some value between 0.5-0.9. Compile and fit your model. Regenerate your accuracy and loss plots. Compare and contrast your findings.\n",
    "\n",
    "\n",
    "\n",
    "The results are very similar. The final validation accuracy is almost the same, and the training accuracy is identical. The loss values for this plot are slightler lower than the previous plot."
   ]
  },
  {
   "cell_type": "code",
   "execution_count": 30,
   "metadata": {
    "collapsed": true,
    "jupyter": {
     "outputs_hidden": true
    }
   },
   "outputs": [
    {
     "name": "stdout",
     "output_type": "stream",
     "text": [
      "Train on 75 samples, validate on 75 samples\n",
      "Epoch 1/100\n",
      "75/75 [==============================] - 0s 5ms/step - loss: 0.9978 - accuracy: 0.4933 - val_loss: 0.7842 - val_accuracy: 0.6800\n",
      "Epoch 2/100\n",
      "75/75 [==============================] - 0s 2ms/step - loss: 0.6035 - accuracy: 0.8533 - val_loss: 0.6034 - val_accuracy: 0.7867\n",
      "Epoch 3/100\n",
      "75/75 [==============================] - 0s 2ms/step - loss: 0.4501 - accuracy: 0.8533 - val_loss: 0.5166 - val_accuracy: 0.7733\n",
      "Epoch 4/100\n",
      "75/75 [==============================] - 0s 2ms/step - loss: 0.3714 - accuracy: 0.8667 - val_loss: 0.4808 - val_accuracy: 0.7867\n",
      "Epoch 5/100\n",
      "75/75 [==============================] - 0s 2ms/step - loss: 0.3229 - accuracy: 0.8667 - val_loss: 0.4568 - val_accuracy: 0.8000\n",
      "Epoch 6/100\n",
      "75/75 [==============================] - 0s 2ms/step - loss: 0.2886 - accuracy: 0.8800 - val_loss: 0.4443 - val_accuracy: 0.7867\n",
      "Epoch 7/100\n",
      "75/75 [==============================] - 0s 2ms/step - loss: 0.2651 - accuracy: 0.9200 - val_loss: 0.4249 - val_accuracy: 0.8000\n",
      "Epoch 8/100\n",
      "75/75 [==============================] - 0s 2ms/step - loss: 0.2442 - accuracy: 0.9067 - val_loss: 0.3869 - val_accuracy: 0.8000\n",
      "Epoch 9/100\n",
      "75/75 [==============================] - 0s 2ms/step - loss: 0.2237 - accuracy: 0.9200 - val_loss: 0.3639 - val_accuracy: 0.8267\n",
      "Epoch 10/100\n",
      "75/75 [==============================] - 0s 2ms/step - loss: 0.2036 - accuracy: 0.9200 - val_loss: 0.3766 - val_accuracy: 0.8000\n",
      "Epoch 11/100\n",
      "75/75 [==============================] - 0s 2ms/step - loss: 0.1942 - accuracy: 0.9333 - val_loss: 0.3512 - val_accuracy: 0.8133\n",
      "Epoch 12/100\n",
      "75/75 [==============================] - 0s 2ms/step - loss: 0.1782 - accuracy: 0.9467 - val_loss: 0.3206 - val_accuracy: 0.8400\n",
      "Epoch 13/100\n",
      "75/75 [==============================] - 0s 2ms/step - loss: 0.1646 - accuracy: 0.9467 - val_loss: 0.3071 - val_accuracy: 0.8667\n",
      "Epoch 14/100\n",
      "75/75 [==============================] - 0s 2ms/step - loss: 0.1506 - accuracy: 0.9467 - val_loss: 0.2985 - val_accuracy: 0.8667\n",
      "Epoch 15/100\n",
      "75/75 [==============================] - 0s 2ms/step - loss: 0.1372 - accuracy: 0.9867 - val_loss: 0.2872 - val_accuracy: 0.8800\n",
      "Epoch 16/100\n",
      "75/75 [==============================] - 0s 2ms/step - loss: 0.1245 - accuracy: 0.9867 - val_loss: 0.2626 - val_accuracy: 0.9333\n",
      "Epoch 17/100\n",
      "75/75 [==============================] - 0s 2ms/step - loss: 0.1171 - accuracy: 0.9733 - val_loss: 0.2505 - val_accuracy: 0.9333\n",
      "Epoch 18/100\n",
      "75/75 [==============================] - 0s 2ms/step - loss: 0.1044 - accuracy: 0.9733 - val_loss: 0.2459 - val_accuracy: 0.9333\n",
      "Epoch 19/100\n",
      "75/75 [==============================] - 0s 3ms/step - loss: 0.0964 - accuracy: 0.9867 - val_loss: 0.2238 - val_accuracy: 0.9333\n",
      "Epoch 20/100\n",
      "75/75 [==============================] - 0s 2ms/step - loss: 0.0912 - accuracy: 0.9867 - val_loss: 0.2145 - val_accuracy: 0.9333\n",
      "Epoch 21/100\n",
      "75/75 [==============================] - 0s 2ms/step - loss: 0.0843 - accuracy: 0.9733 - val_loss: 0.2084 - val_accuracy: 0.9467\n",
      "Epoch 22/100\n",
      "75/75 [==============================] - 0s 2ms/step - loss: 0.0776 - accuracy: 0.9867 - val_loss: 0.2051 - val_accuracy: 0.9467\n",
      "Epoch 23/100\n",
      "75/75 [==============================] - 0s 2ms/step - loss: 0.0724 - accuracy: 0.9867 - val_loss: 0.1996 - val_accuracy: 0.9467\n",
      "Epoch 24/100\n",
      "75/75 [==============================] - 0s 2ms/step - loss: 0.0688 - accuracy: 0.9867 - val_loss: 0.1880 - val_accuracy: 0.9333\n",
      "Epoch 25/100\n",
      "75/75 [==============================] - 0s 2ms/step - loss: 0.0629 - accuracy: 0.9867 - val_loss: 0.1802 - val_accuracy: 0.9333\n",
      "Epoch 26/100\n",
      "75/75 [==============================] - 0s 2ms/step - loss: 0.0593 - accuracy: 1.0000 - val_loss: 0.1798 - val_accuracy: 0.9333\n",
      "Epoch 27/100\n",
      "75/75 [==============================] - 0s 2ms/step - loss: 0.0583 - accuracy: 0.9867 - val_loss: 0.1702 - val_accuracy: 0.9333\n",
      "Epoch 28/100\n",
      "75/75 [==============================] - 0s 2ms/step - loss: 0.0548 - accuracy: 0.9867 - val_loss: 0.1660 - val_accuracy: 0.9333\n",
      "Epoch 29/100\n",
      "75/75 [==============================] - 0s 2ms/step - loss: 0.0527 - accuracy: 0.9867 - val_loss: 0.1635 - val_accuracy: 0.9333\n",
      "Epoch 30/100\n",
      "75/75 [==============================] - 0s 2ms/step - loss: 0.0504 - accuracy: 0.9867 - val_loss: 0.1592 - val_accuracy: 0.9333\n",
      "Epoch 31/100\n",
      "75/75 [==============================] - 0s 2ms/step - loss: 0.0485 - accuracy: 0.9867 - val_loss: 0.1550 - val_accuracy: 0.9333\n",
      "Epoch 32/100\n",
      "75/75 [==============================] - 0s 2ms/step - loss: 0.0459 - accuracy: 0.9867 - val_loss: 0.1541 - val_accuracy: 0.9333\n",
      "Epoch 33/100\n",
      "75/75 [==============================] - 0s 2ms/step - loss: 0.0444 - accuracy: 1.0000 - val_loss: 0.1505 - val_accuracy: 0.9333\n",
      "Epoch 34/100\n",
      "75/75 [==============================] - 0s 2ms/step - loss: 0.0428 - accuracy: 0.9867 - val_loss: 0.1486 - val_accuracy: 0.9333\n",
      "Epoch 35/100\n",
      "75/75 [==============================] - 0s 2ms/step - loss: 0.0411 - accuracy: 0.9867 - val_loss: 0.1467 - val_accuracy: 0.9333\n",
      "Epoch 36/100\n",
      "75/75 [==============================] - 0s 2ms/step - loss: 0.0392 - accuracy: 1.0000 - val_loss: 0.1443 - val_accuracy: 0.9333\n",
      "Epoch 37/100\n",
      "75/75 [==============================] - 0s 2ms/step - loss: 0.0387 - accuracy: 0.9867 - val_loss: 0.1415 - val_accuracy: 0.9333\n",
      "Epoch 38/100\n",
      "75/75 [==============================] - 0s 2ms/step - loss: 0.0375 - accuracy: 0.9867 - val_loss: 0.1389 - val_accuracy: 0.9333\n",
      "Epoch 39/100\n",
      "75/75 [==============================] - 0s 2ms/step - loss: 0.0363 - accuracy: 0.9867 - val_loss: 0.1372 - val_accuracy: 0.9333\n",
      "Epoch 40/100\n",
      "75/75 [==============================] - 0s 2ms/step - loss: 0.0349 - accuracy: 1.0000 - val_loss: 0.1345 - val_accuracy: 0.9333\n",
      "Epoch 41/100\n",
      "75/75 [==============================] - 0s 2ms/step - loss: 0.0334 - accuracy: 0.9867 - val_loss: 0.1375 - val_accuracy: 0.9333\n",
      "Epoch 42/100\n",
      "75/75 [==============================] - 0s 2ms/step - loss: 0.0324 - accuracy: 1.0000 - val_loss: 0.1321 - val_accuracy: 0.9333\n",
      "Epoch 43/100\n",
      "75/75 [==============================] - 0s 2ms/step - loss: 0.0322 - accuracy: 1.0000 - val_loss: 0.1322 - val_accuracy: 0.9333\n",
      "Epoch 44/100\n",
      "75/75 [==============================] - 0s 2ms/step - loss: 0.0314 - accuracy: 0.9867 - val_loss: 0.1342 - val_accuracy: 0.9333\n",
      "Epoch 45/100\n",
      "75/75 [==============================] - 0s 2ms/step - loss: 0.0302 - accuracy: 1.0000 - val_loss: 0.1313 - val_accuracy: 0.9333\n",
      "Epoch 46/100\n",
      "75/75 [==============================] - 0s 2ms/step - loss: 0.0295 - accuracy: 1.0000 - val_loss: 0.1307 - val_accuracy: 0.9333\n",
      "Epoch 47/100\n",
      "75/75 [==============================] - 0s 2ms/step - loss: 0.0290 - accuracy: 0.9867 - val_loss: 0.1301 - val_accuracy: 0.9333\n",
      "Epoch 48/100\n",
      "75/75 [==============================] - 0s 2ms/step - loss: 0.0279 - accuracy: 1.0000 - val_loss: 0.1290 - val_accuracy: 0.9333\n",
      "Epoch 49/100\n",
      "75/75 [==============================] - 0s 2ms/step - loss: 0.0276 - accuracy: 0.9867 - val_loss: 0.1329 - val_accuracy: 0.9467\n",
      "Epoch 50/100\n",
      "75/75 [==============================] - 0s 2ms/step - loss: 0.0266 - accuracy: 1.0000 - val_loss: 0.1344 - val_accuracy: 0.9333\n",
      "Epoch 51/100\n",
      "75/75 [==============================] - 0s 2ms/step - loss: 0.0263 - accuracy: 1.0000 - val_loss: 0.1309 - val_accuracy: 0.9467\n",
      "Epoch 52/100\n",
      "75/75 [==============================] - 0s 2ms/step - loss: 0.0251 - accuracy: 1.0000 - val_loss: 0.1285 - val_accuracy: 0.9333\n",
      "Epoch 53/100\n",
      "75/75 [==============================] - 0s 2ms/step - loss: 0.0245 - accuracy: 1.0000 - val_loss: 0.1268 - val_accuracy: 0.9333\n",
      "Epoch 54/100\n",
      "75/75 [==============================] - 0s 2ms/step - loss: 0.0243 - accuracy: 0.9867 - val_loss: 0.1330 - val_accuracy: 0.9333\n",
      "Epoch 55/100\n",
      "75/75 [==============================] - 0s 2ms/step - loss: 0.0235 - accuracy: 1.0000 - val_loss: 0.1357 - val_accuracy: 0.9333\n",
      "Epoch 56/100\n",
      "75/75 [==============================] - 0s 2ms/step - loss: 0.0235 - accuracy: 1.0000 - val_loss: 0.1320 - val_accuracy: 0.9333\n",
      "Epoch 57/100\n",
      "75/75 [==============================] - 0s 2ms/step - loss: 0.0225 - accuracy: 1.0000 - val_loss: 0.1326 - val_accuracy: 0.9333\n",
      "Epoch 58/100\n",
      "75/75 [==============================] - 0s 2ms/step - loss: 0.0221 - accuracy: 1.0000 - val_loss: 0.1343 - val_accuracy: 0.9333\n",
      "Epoch 59/100\n",
      "75/75 [==============================] - 0s 2ms/step - loss: 0.0210 - accuracy: 1.0000 - val_loss: 0.1265 - val_accuracy: 0.9333\n",
      "Epoch 60/100\n",
      "75/75 [==============================] - 0s 2ms/step - loss: 0.0213 - accuracy: 1.0000 - val_loss: 0.1320 - val_accuracy: 0.9333\n",
      "Epoch 61/100\n",
      "75/75 [==============================] - 0s 2ms/step - loss: 0.0210 - accuracy: 1.0000 - val_loss: 0.1287 - val_accuracy: 0.9333\n",
      "Epoch 62/100\n",
      "75/75 [==============================] - 0s 2ms/step - loss: 0.0202 - accuracy: 1.0000 - val_loss: 0.1256 - val_accuracy: 0.9467\n",
      "Epoch 63/100\n",
      "75/75 [==============================] - 0s 2ms/step - loss: 0.0202 - accuracy: 1.0000 - val_loss: 0.1280 - val_accuracy: 0.9467\n",
      "Epoch 64/100\n",
      "75/75 [==============================] - 0s 2ms/step - loss: 0.0195 - accuracy: 1.0000 - val_loss: 0.1249 - val_accuracy: 0.9333\n",
      "Epoch 65/100\n",
      "75/75 [==============================] - 0s 2ms/step - loss: 0.0190 - accuracy: 1.0000 - val_loss: 0.1331 - val_accuracy: 0.9333\n",
      "Epoch 66/100\n",
      "75/75 [==============================] - 0s 2ms/step - loss: 0.0190 - accuracy: 1.0000 - val_loss: 0.1300 - val_accuracy: 0.9333\n",
      "Epoch 67/100\n",
      "75/75 [==============================] - 0s 2ms/step - loss: 0.0182 - accuracy: 1.0000 - val_loss: 0.1254 - val_accuracy: 0.9467\n",
      "Epoch 68/100\n",
      "75/75 [==============================] - 0s 2ms/step - loss: 0.0182 - accuracy: 1.0000 - val_loss: 0.1309 - val_accuracy: 0.9333\n",
      "Epoch 69/100\n",
      "75/75 [==============================] - 0s 2ms/step - loss: 0.0174 - accuracy: 1.0000 - val_loss: 0.1264 - val_accuracy: 0.9467\n",
      "Epoch 70/100\n",
      "75/75 [==============================] - 0s 2ms/step - loss: 0.0176 - accuracy: 1.0000 - val_loss: 0.1271 - val_accuracy: 0.9467\n",
      "Epoch 71/100\n",
      "75/75 [==============================] - 0s 2ms/step - loss: 0.0172 - accuracy: 1.0000 - val_loss: 0.1278 - val_accuracy: 0.9467\n",
      "Epoch 72/100\n",
      "75/75 [==============================] - 0s 2ms/step - loss: 0.0168 - accuracy: 1.0000 - val_loss: 0.1340 - val_accuracy: 0.9333\n",
      "Epoch 73/100\n",
      "75/75 [==============================] - 0s 2ms/step - loss: 0.0166 - accuracy: 1.0000 - val_loss: 0.1321 - val_accuracy: 0.9333\n",
      "Epoch 74/100\n",
      "75/75 [==============================] - 0s 2ms/step - loss: 0.0159 - accuracy: 1.0000 - val_loss: 0.1267 - val_accuracy: 0.9467\n",
      "Epoch 75/100\n",
      "75/75 [==============================] - 0s 2ms/step - loss: 0.0161 - accuracy: 1.0000 - val_loss: 0.1282 - val_accuracy: 0.9333\n",
      "Epoch 76/100\n",
      "75/75 [==============================] - 0s 3ms/step - loss: 0.0155 - accuracy: 1.0000 - val_loss: 0.1259 - val_accuracy: 0.9467\n",
      "Epoch 77/100\n",
      "75/75 [==============================] - 0s 3ms/step - loss: 0.0156 - accuracy: 1.0000 - val_loss: 0.1306 - val_accuracy: 0.9333\n",
      "Epoch 78/100\n",
      "75/75 [==============================] - 0s 2ms/step - loss: 0.0150 - accuracy: 1.0000 - val_loss: 0.1364 - val_accuracy: 0.9333\n",
      "Epoch 79/100\n",
      "75/75 [==============================] - 0s 2ms/step - loss: 0.0145 - accuracy: 1.0000 - val_loss: 0.1286 - val_accuracy: 0.9467\n",
      "Epoch 80/100\n",
      "75/75 [==============================] - 0s 2ms/step - loss: 0.0147 - accuracy: 1.0000 - val_loss: 0.1333 - val_accuracy: 0.9333\n",
      "Epoch 81/100\n",
      "75/75 [==============================] - 0s 2ms/step - loss: 0.0145 - accuracy: 1.0000 - val_loss: 0.1308 - val_accuracy: 0.9333\n",
      "Epoch 82/100\n",
      "75/75 [==============================] - 0s 2ms/step - loss: 0.0141 - accuracy: 1.0000 - val_loss: 0.1357 - val_accuracy: 0.9333\n",
      "Epoch 83/100\n",
      "75/75 [==============================] - 0s 2ms/step - loss: 0.0138 - accuracy: 1.0000 - val_loss: 0.1297 - val_accuracy: 0.9333\n",
      "Epoch 84/100\n",
      "75/75 [==============================] - 0s 2ms/step - loss: 0.0138 - accuracy: 1.0000 - val_loss: 0.1291 - val_accuracy: 0.9333\n",
      "Epoch 85/100\n",
      "75/75 [==============================] - 0s 2ms/step - loss: 0.0136 - accuracy: 1.0000 - val_loss: 0.1324 - val_accuracy: 0.9333\n",
      "Epoch 86/100\n",
      "75/75 [==============================] - 0s 2ms/step - loss: 0.0133 - accuracy: 1.0000 - val_loss: 0.1310 - val_accuracy: 0.9333\n",
      "Epoch 87/100\n",
      "75/75 [==============================] - 0s 2ms/step - loss: 0.0130 - accuracy: 1.0000 - val_loss: 0.1379 - val_accuracy: 0.9333\n",
      "Epoch 88/100\n",
      "75/75 [==============================] - 0s 2ms/step - loss: 0.0129 - accuracy: 1.0000 - val_loss: 0.1360 - val_accuracy: 0.9333\n",
      "Epoch 89/100\n",
      "75/75 [==============================] - 0s 2ms/step - loss: 0.0123 - accuracy: 1.0000 - val_loss: 0.1298 - val_accuracy: 0.9333\n",
      "Epoch 90/100\n",
      "75/75 [==============================] - 0s 3ms/step - loss: 0.0123 - accuracy: 1.0000 - val_loss: 0.1382 - val_accuracy: 0.9333\n",
      "Epoch 91/100\n",
      "75/75 [==============================] - 0s 2ms/step - loss: 0.0120 - accuracy: 1.0000 - val_loss: 0.1304 - val_accuracy: 0.9333\n",
      "Epoch 92/100\n",
      "75/75 [==============================] - 0s 2ms/step - loss: 0.0120 - accuracy: 1.0000 - val_loss: 0.1289 - val_accuracy: 0.9333\n",
      "Epoch 93/100\n",
      "75/75 [==============================] - 0s 2ms/step - loss: 0.0121 - accuracy: 1.0000 - val_loss: 0.1302 - val_accuracy: 0.9333\n",
      "Epoch 94/100\n",
      "75/75 [==============================] - 0s 2ms/step - loss: 0.0116 - accuracy: 1.0000 - val_loss: 0.1282 - val_accuracy: 0.9333\n",
      "Epoch 95/100\n",
      "75/75 [==============================] - 0s 3ms/step - loss: 0.0117 - accuracy: 1.0000 - val_loss: 0.1281 - val_accuracy: 0.9333\n",
      "Epoch 96/100\n",
      "75/75 [==============================] - 0s 2ms/step - loss: 0.0116 - accuracy: 1.0000 - val_loss: 0.1306 - val_accuracy: 0.9333\n",
      "Epoch 97/100\n",
      "75/75 [==============================] - 0s 2ms/step - loss: 0.0112 - accuracy: 1.0000 - val_loss: 0.1294 - val_accuracy: 0.9333\n",
      "Epoch 98/100\n",
      "75/75 [==============================] - 0s 2ms/step - loss: 0.0112 - accuracy: 1.0000 - val_loss: 0.1333 - val_accuracy: 0.9333\n",
      "Epoch 99/100\n",
      "75/75 [==============================] - 0s 2ms/step - loss: 0.0108 - accuracy: 1.0000 - val_loss: 0.1312 - val_accuracy: 0.9333\n",
      "Epoch 100/100\n",
      "75/75 [==============================] - 0s 2ms/step - loss: 0.0109 - accuracy: 1.0000 - val_loss: 0.1362 - val_accuracy: 0.9333\n"
     ]
    }
   ],
   "source": [
    "from keras import optimizers\n",
    "\n",
    "model = Sequential([Dense(9, input_shape=(4,)), Activation('tanh'), Dense(15), Activation('tanh'), Dense(3), Activation('softmax')]) # use tanh activation function and an extra hidden layer\n",
    "\n",
    "sgd = optimizers.SGD(lr = 0.1, momentum = 0.5, decay = 0.0, nesterov=False)\n",
    "\n",
    "model.compile(optimizer='sgd', loss='categorical_crossentropy', metrics=['accuracy'])\n",
    "model_history = model.fit(X_train, Y_train_bin, epochs=100, batch_size=1, verbose=1, validation_data=(X_test,Y_test_bin))\n"
   ]
  },
  {
   "cell_type": "code",
   "execution_count": 31,
   "metadata": {},
   "outputs": [
    {
     "data": {
      "image/png": "[encoded data removed]",
      "text/plain": [
       "<Figure size 432x288 with 1 Axes>"
      ]
     },
     "metadata": {
      "needs_background": "light"
     },
     "output_type": "display_data"
    },
    {
     "data": {
      "image/png": "[encoded data removed]",
      "text/plain": [
       "<Figure size 432x288 with 1 Axes>"
      ]
     },
     "metadata": {
      "needs_background": "light"
     },
     "output_type": "display_data"
    }
   ],
   "source": [
    "# Plot training & validation accuracy values\n",
    "plt.plot(model_history.history['accuracy'])\n",
    "plt.plot(model_history.history['val_accuracy'])\n",
    "plt.title('Model accuracy')\n",
    "plt.ylabel('Accuracy')\n",
    "plt.xlabel('Epoch')\n",
    "plt.legend(['Train', 'Test'], loc='upper left')\n",
    "plt.show()\n",
    "\n",
    "# Plot training & validation loss values\n",
    "plt.plot(model_history.history['loss'])\n",
    "plt.plot(model_history.history['val_loss'])\n",
    "plt.title('Model loss')\n",
    "plt.ylabel('Loss')\n",
    "plt.xlabel('Epoch')\n",
    "plt.legend(['Train', 'Test'], loc='upper left')\n",
    "plt.show()"
   ]
  },
  {
   "cell_type": "markdown",
   "metadata": {},
   "source": [
    "### 15) Remember, this is a classification problem. Use your model to predict the classes for the test data (using the function predict_classes), and store the results as y_pred."
   ]
  },
  {
   "cell_type": "code",
   "execution_count": 96,
   "metadata": {},
   "outputs": [
    {
     "name": "stdout",
     "output_type": "stream",
     "text": [
      "75/75 [==============================] - 0s 426us/step\n"
     ]
    }
   ],
   "source": [
    "y_pred = model.predict_classes(X_test, batch_size=1, verbose=1)"
   ]
  },
  {
   "cell_type": "markdown",
   "metadata": {},
   "source": [
    "### 16) Finally, using your code from the lab on classification, output the confusion_matrix and the classification_report (from scikit-learn's metric package) to print out the complete performance results."
   ]
  },
  {
   "cell_type": "code",
   "execution_count": 100,
   "metadata": {},
   "outputs": [
    {
     "name": "stdout",
     "output_type": "stream",
     "text": [
      "[[23  0  0]\n",
      " [ 0 18  4]\n",
      " [ 0  1 29]]\n",
      "              precision    recall  f1-score   support\n",
      "\n",
      "      setosa       1.00      1.00      1.00        23\n",
      "  versicolor       0.95      0.82      0.88        22\n",
      "   virginica       0.88      0.97      0.92        30\n",
      "\n",
      "    accuracy                           0.93        75\n",
      "   macro avg       0.94      0.93      0.93        75\n",
      "weighted avg       0.94      0.93      0.93        75\n",
      "\n"
     ]
    },
    {
     "data": {
      "image/png": "[encoded data removed]",
      "text/plain": [
       "<Figure size 432x288 with 2 Axes>"
      ]
     },
     "metadata": {
      "needs_background": "light"
     },
     "output_type": "display_data"
    }
   ],
   "source": [
    "y_pred_cat = list(range(75)) # list will hold species names of predictions\n",
    "for i in range(len(y_pred)):\n",
    "    y_pred_cat[i] = enc.get_feature_names()[y_pred[i]].split(\"_\")[1] # returns 'x0_setosa' --> use split to remove 'x0_'\n",
    "\n",
    "# generate and print confusion matrix\n",
    "c_matrix = confusion_matrix(enc.inverse_transform(Y_test_bin), y_pred_cat)\n",
    "print(c_matrix)\n",
    "\n",
    "# generate and print classification report\n",
    "print(classification_report(Y_test.species, y_pred_cat))\n",
    "\n",
    "# output plot of confusion matrix\n",
    "df_c_matrix = pd.DataFrame(c_matrix, columns = [\"Setosa\", \"Versicolor\", \"Virginica\"], index=[\"Setosa\", \"Versicolor\", \"Virginica\"])\n",
    "\n",
    "\n",
    "new_axes = plt.axes()\n",
    "new_axes.set_title(\"Confusion Matrix\")\n",
    "new_axes.set_ylabel(\"True Label\")\n",
    "new_axes.set_xlabel(\"Predicted Label\")\n",
    "sns.heatmap(df_c_matrix, cmap=\"RdYlGn\", fmt=\"\", annot=df_c_matrix, ax=new_axes)\n",
    "plt.show()"
   ]
  },
  {
   "cell_type": "markdown",
   "metadata": {},
   "source": [
    "## Exercise 3: Wrapping keras in the scikit-learn framework"
   ]
  },
  {
   "cell_type": "markdown",
   "metadata": {},
   "source": [
    "### 17) Import the above class into your code. Then write a function called create_keras_model(). Copy all of your code that creates the Sequential instance, adds the layers, activation functions, and compiles it, into this function. For example, my function looks as follows:\n",
    "\n",
    "from keras.wrappers.scikit_learn import KerasClassifier\n",
    "\n",
    "def create_keras_model():  \n",
    "\n",
    "    model = Sequential()  \n",
    "    model.add(Dense(12, input_shape=(4,)))  \n",
    "    model.add(Activation('sigmoid'))  \n",
    "    model.add(Dense(3))  \n",
    "    model.add(Activation('softmax'))  \n",
    "    model.compile(optimizer='adam', loss=\"categorical_crossentropy\", metrics=[\"accuracy\"])  \n",
    "    \n",
    "    return model  \n",
    "/# Create a wrapped keras model  \n",
    "clf = KerasClassifier(build_fn=create_keras_model, verbose=1, epochs=100,\n",
    "batch_size=1)\n"
   ]
  },
  {
   "cell_type": "code",
   "execution_count": 104,
   "metadata": {},
   "outputs": [],
   "source": [
    "from keras.wrappers.scikit_learn import KerasClassifier\n",
    "\n",
    "def create_keras_model():\n",
    "    model = Sequential([Dense(9, input_shape=(4,)), Activation('relu'), Dense(15), Activation('relu'), Dense(3), Activation('softmax')]) # use an extra hidden layer\n",
    "    model.compile(optimizer='sgd', loss='categorical_crossentropy', metrics=['accuracy'])\n",
    "    return model\n",
    "\n",
    "# Create a wrapped keras model\n",
    "clf = KerasClassifier(build_fn=create_keras_model, verbose=1, epochs=100, batch_size=1)"
   ]
  },
  {
   "cell_type": "markdown",
   "metadata": {},
   "source": [
    "### 18) At this point, you now have a classifier model that behaves like any other scikit-learn classifier! Cool, right?  \n",
    "### So, using the clf classifier above, use it just like you would any other classifier. Run the fit method on your classifier, just like you did in lab10. Use X_train and the one hot encoded y_train data. Then, use the predict() method to generate class predictions on X_test. Store the results in y_pred."
   ]
  },
  {
   "cell_type": "code",
   "execution_count": 105,
   "metadata": {
    "collapsed": true,
    "jupyter": {
     "outputs_hidden": true
    }
   },
   "outputs": [
    {
     "name": "stdout",
     "output_type": "stream",
     "text": [
      "Epoch 1/100\n",
      "75/75 [==============================] - 0s 3ms/step - loss: 0.9868 - accuracy: 0.5733\n",
      "Epoch 2/100\n",
      "75/75 [==============================] - 0s 1ms/step - loss: 0.6882 - accuracy: 0.7333\n",
      "Epoch 3/100\n",
      "75/75 [==============================] - 0s 1ms/step - loss: 0.5594 - accuracy: 0.8533\n",
      "Epoch 4/100\n",
      "75/75 [==============================] - 0s 971us/step - loss: 0.4657 - accuracy: 0.8933\n",
      "Epoch 5/100\n",
      "75/75 [==============================] - 0s 931us/step - loss: 0.3916 - accuracy: 0.8667\n",
      "Epoch 6/100\n",
      "75/75 [==============================] - 0s 1ms/step - loss: 0.3343 - accuracy: 0.8933\n",
      "Epoch 7/100\n",
      "75/75 [==============================] - 0s 991us/step - loss: 0.2894 - accuracy: 0.8933\n",
      "Epoch 8/100\n",
      "75/75 [==============================] - 0s 971us/step - loss: 0.2551 - accuracy: 0.9067\n",
      "Epoch 9/100\n",
      "75/75 [==============================] - 0s 1ms/step - loss: 0.2272 - accuracy: 0.9333\n",
      "Epoch 10/100\n",
      "75/75 [==============================] - 0s 971us/step - loss: 0.2033 - accuracy: 0.9333\n",
      "Epoch 11/100\n",
      "75/75 [==============================] - 0s 964us/step - loss: 0.1844 - accuracy: 0.9333\n",
      "Epoch 12/100\n",
      "75/75 [==============================] - 0s 971us/step - loss: 0.1673 - accuracy: 0.9600\n",
      "Epoch 13/100\n",
      "75/75 [==============================] - 0s 972us/step - loss: 0.1523 - accuracy: 0.9467\n",
      "Epoch 14/100\n",
      "75/75 [==============================] - 0s 1ms/step - loss: 0.1382 - accuracy: 0.9600\n",
      "Epoch 15/100\n",
      "75/75 [==============================] - 0s 1ms/step - loss: 0.1261 - accuracy: 0.9867\n",
      "Epoch 16/100\n",
      "75/75 [==============================] - 0s 971us/step - loss: 0.1144 - accuracy: 0.9867\n",
      "Epoch 17/100\n",
      "75/75 [==============================] - 0s 984us/step - loss: 0.1044 - accuracy: 0.9733\n",
      "Epoch 18/100\n",
      "75/75 [==============================] - 0s 957us/step - loss: 0.0956 - accuracy: 0.9867\n",
      "Epoch 19/100\n",
      "75/75 [==============================] - 0s 984us/step - loss: 0.0878 - accuracy: 0.9867\n",
      "Epoch 20/100\n",
      "75/75 [==============================] - 0s 1ms/step - loss: 0.0793 - accuracy: 1.0000\n",
      "Epoch 21/100\n",
      "75/75 [==============================] - 0s 944us/step - loss: 0.0739 - accuracy: 0.9867\n",
      "Epoch 22/100\n",
      "75/75 [==============================] - 0s 1ms/step - loss: 0.0688 - accuracy: 0.9867\n",
      "Epoch 23/100\n",
      "75/75 [==============================] - 0s 971us/step - loss: 0.0632 - accuracy: 1.0000\n",
      "Epoch 24/100\n",
      "75/75 [==============================] - 0s 1ms/step - loss: 0.0586 - accuracy: 1.0000\n",
      "Epoch 25/100\n",
      "75/75 [==============================] - 0s 1ms/step - loss: 0.0554 - accuracy: 0.9867\n",
      "Epoch 26/100\n",
      "75/75 [==============================] - 0s 1ms/step - loss: 0.0516 - accuracy: 0.9867\n",
      "Epoch 27/100\n",
      "75/75 [==============================] - 0s 1ms/step - loss: 0.0481 - accuracy: 1.0000\n",
      "Epoch 28/100\n",
      "75/75 [==============================] - 0s 1ms/step - loss: 0.0455 - accuracy: 1.0000\n",
      "Epoch 29/100\n",
      "75/75 [==============================] - 0s 1ms/step - loss: 0.0427 - accuracy: 1.0000\n",
      "Epoch 30/100\n",
      "75/75 [==============================] - 0s 1ms/step - loss: 0.0401 - accuracy: 0.9867\n",
      "Epoch 31/100\n",
      "75/75 [==============================] - 0s 1ms/step - loss: 0.0376 - accuracy: 1.0000\n",
      "Epoch 32/100\n",
      "75/75 [==============================] - 0s 1ms/step - loss: 0.0360 - accuracy: 1.0000\n",
      "Epoch 33/100\n",
      "75/75 [==============================] - 0s 1ms/step - loss: 0.0344 - accuracy: 1.0000\n",
      "Epoch 34/100\n",
      "75/75 [==============================] - 0s 997us/step - loss: 0.0326 - accuracy: 1.0000\n",
      "Epoch 35/100\n",
      "75/75 [==============================] - 0s 1ms/step - loss: 0.0310 - accuracy: 1.0000\n",
      "Epoch 36/100\n",
      "75/75 [==============================] - 0s 1ms/step - loss: 0.0298 - accuracy: 1.0000\n",
      "Epoch 37/100\n",
      "75/75 [==============================] - 0s 1ms/step - loss: 0.0281 - accuracy: 1.0000\n",
      "Epoch 38/100\n",
      "75/75 [==============================] - 0s 997us/step - loss: 0.0269 - accuracy: 1.0000\n",
      "Epoch 39/100\n",
      "75/75 [==============================] - 0s 1ms/step - loss: 0.0258 - accuracy: 1.0000\n",
      "Epoch 40/100\n",
      "75/75 [==============================] - 0s 1ms/step - loss: 0.0246 - accuracy: 1.0000\n",
      "Epoch 41/100\n",
      "75/75 [==============================] - 0s 1ms/step - loss: 0.0240 - accuracy: 1.0000\n",
      "Epoch 42/100\n",
      "75/75 [==============================] - 0s 1ms/step - loss: 0.0229 - accuracy: 1.0000\n",
      "Epoch 43/100\n",
      "75/75 [==============================] - 0s 1ms/step - loss: 0.0221 - accuracy: 1.0000\n",
      "Epoch 44/100\n",
      "75/75 [==============================] - 0s 1ms/step - loss: 0.0210 - accuracy: 1.0000\n",
      "Epoch 45/100\n",
      "75/75 [==============================] - 0s 1ms/step - loss: 0.0207 - accuracy: 1.0000\n",
      "Epoch 46/100\n",
      "75/75 [==============================] - 0s 1ms/step - loss: 0.0198 - accuracy: 1.0000\n",
      "Epoch 47/100\n",
      "75/75 [==============================] - 0s 1ms/step - loss: 0.0190 - accuracy: 1.0000\n",
      "Epoch 48/100\n",
      "75/75 [==============================] - 0s 1ms/step - loss: 0.0184 - accuracy: 1.0000\n",
      "Epoch 49/100\n",
      "75/75 [==============================] - 0s 1ms/step - loss: 0.0182 - accuracy: 1.0000\n",
      "Epoch 50/100\n",
      "75/75 [==============================] - 0s 1ms/step - loss: 0.0175 - accuracy: 1.0000\n",
      "Epoch 51/100\n",
      "75/75 [==============================] - 0s 1ms/step - loss: 0.0169 - accuracy: 1.0000\n",
      "Epoch 52/100\n",
      "75/75 [==============================] - 0s 1ms/step - loss: 0.0164 - accuracy: 1.0000\n",
      "Epoch 53/100\n",
      "75/75 [==============================] - 0s 1ms/step - loss: 0.0159 - accuracy: 1.0000\n",
      "Epoch 54/100\n",
      "75/75 [==============================] - 0s 1ms/step - loss: 0.0156 - accuracy: 1.0000\n",
      "Epoch 55/100\n",
      "75/75 [==============================] - 0s 971us/step - loss: 0.0151 - accuracy: 1.0000\n",
      "Epoch 56/100\n",
      "75/75 [==============================] - 0s 864us/step - loss: 0.0146 - accuracy: 1.0000\n",
      "Epoch 57/100\n",
      "75/75 [==============================] - 0s 864us/step - loss: 0.0142 - accuracy: 1.0000\n",
      "Epoch 58/100\n",
      "75/75 [==============================] - 0s 851us/step - loss: 0.0139 - accuracy: 1.0000\n",
      "Epoch 59/100\n",
      "75/75 [==============================] - 0s 838us/step - loss: 0.0134 - accuracy: 1.0000\n",
      "Epoch 60/100\n",
      "75/75 [==============================] - 0s 918us/step - loss: 0.0132 - accuracy: 1.0000\n",
      "Epoch 61/100\n",
      "75/75 [==============================] - 0s 904us/step - loss: 0.0128 - accuracy: 1.0000\n",
      "Epoch 62/100\n",
      "75/75 [==============================] - 0s 971us/step - loss: 0.0124 - accuracy: 1.0000\n",
      "Epoch 63/100\n",
      "75/75 [==============================] - 0s 904us/step - loss: 0.0122 - accuracy: 1.0000\n",
      "Epoch 64/100\n",
      "75/75 [==============================] - 0s 904us/step - loss: 0.0120 - accuracy: 1.0000\n",
      "Epoch 65/100\n",
      "75/75 [==============================] - 0s 918us/step - loss: 0.0117 - accuracy: 1.0000\n",
      "Epoch 66/100\n",
      "75/75 [==============================] - 0s 944us/step - loss: 0.0114 - accuracy: 1.0000\n",
      "Epoch 67/100\n",
      "75/75 [==============================] - 0s 944us/step - loss: 0.0110 - accuracy: 1.0000\n",
      "Epoch 68/100\n",
      "75/75 [==============================] - 0s 972us/step - loss: 0.0110 - accuracy: 1.0000\n",
      "Epoch 69/100\n",
      "75/75 [==============================] - 0s 1ms/step - loss: 0.0108 - accuracy: 1.0000\n",
      "Epoch 70/100\n",
      "75/75 [==============================] - 0s 931us/step - loss: 0.0103 - accuracy: 1.0000\n",
      "Epoch 71/100\n",
      "75/75 [==============================] - 0s 870us/step - loss: 0.0102 - accuracy: 1.0000\n",
      "Epoch 72/100\n",
      "75/75 [==============================] - 0s 858us/step - loss: 0.0101 - accuracy: 1.0000\n",
      "Epoch 73/100\n",
      "75/75 [==============================] - 0s 824us/step - loss: 0.0098 - accuracy: 1.0000\n",
      "Epoch 74/100\n",
      "75/75 [==============================] - 0s 1ms/step - loss: 0.0095 - accuracy: 1.0000\n",
      "Epoch 75/100\n",
      "75/75 [==============================] - 0s 997us/step - loss: 0.0095 - accuracy: 1.0000\n",
      "Epoch 76/100\n",
      "75/75 [==============================] - 0s 838us/step - loss: 0.0093 - accuracy: 1.0000\n",
      "Epoch 77/100\n",
      "75/75 [==============================] - 0s 853us/step - loss: 0.0088 - accuracy: 1.0000\n",
      "Epoch 78/100\n",
      "75/75 [==============================] - 0s 867us/step - loss: 0.0089 - accuracy: 1.0000\n",
      "Epoch 79/100\n",
      "75/75 [==============================] - 0s 891us/step - loss: 0.0088 - accuracy: 1.0000\n",
      "Epoch 80/100\n",
      "75/75 [==============================] - 0s 851us/step - loss: 0.0083 - accuracy: 1.0000\n",
      "Epoch 81/100\n",
      "75/75 [==============================] - 0s 851us/step - loss: 0.0085 - accuracy: 1.0000\n",
      "Epoch 82/100\n",
      "75/75 [==============================] - 0s 945us/step - loss: 0.0083 - accuracy: 1.0000\n",
      "Epoch 83/100\n",
      "75/75 [==============================] - 0s 1ms/step - loss: 0.0081 - accuracy: 1.0000\n",
      "Epoch 84/100\n",
      "75/75 [==============================] - 0s 851us/step - loss: 0.0079 - accuracy: 1.0000\n",
      "Epoch 85/100\n",
      "75/75 [==============================] - 0s 851us/step - loss: 0.0078 - accuracy: 1.0000\n",
      "Epoch 86/100\n",
      "75/75 [==============================] - 0s 825us/step - loss: 0.0077 - accuracy: 1.0000\n",
      "Epoch 87/100\n",
      "75/75 [==============================] - 0s 957us/step - loss: 0.0075 - accuracy: 1.0000\n",
      "Epoch 88/100\n",
      "75/75 [==============================] - 0s 864us/step - loss: 0.0074 - accuracy: 1.0000\n",
      "Epoch 89/100\n",
      "75/75 [==============================] - 0s 851us/step - loss: 0.0073 - accuracy: 1.0000\n",
      "Epoch 90/100\n",
      "75/75 [==============================] - 0s 931us/step - loss: 0.0071 - accuracy: 1.0000\n",
      "Epoch 91/100\n",
      "75/75 [==============================] - 0s 957us/step - loss: 0.0070 - accuracy: 1.0000\n",
      "Epoch 92/100\n",
      "75/75 [==============================] - 0s 931us/step - loss: 0.0070 - accuracy: 1.0000\n",
      "Epoch 93/100\n",
      "75/75 [==============================] - 0s 957us/step - loss: 0.0068 - accuracy: 1.0000\n",
      "Epoch 94/100\n",
      "75/75 [==============================] - 0s 957us/step - loss: 0.0066 - accuracy: 1.0000\n",
      "Epoch 95/100\n",
      "75/75 [==============================] - 0s 971us/step - loss: 0.0066 - accuracy: 1.0000\n",
      "Epoch 96/100\n",
      "75/75 [==============================] - 0s 957us/step - loss: 0.0065 - accuracy: 1.0000\n",
      "Epoch 97/100\n",
      "75/75 [==============================] - 0s 1ms/step - loss: 0.0064 - accuracy: 1.0000\n",
      "Epoch 98/100\n",
      "75/75 [==============================] - 0s 931us/step - loss: 0.0062 - accuracy: 1.0000\n",
      "Epoch 99/100\n",
      "75/75 [==============================] - 0s 891us/step - loss: 0.0062 - accuracy: 1.0000\n",
      "Epoch 100/100\n",
      "75/75 [==============================] - 0s 1ms/step - loss: 0.0060 - accuracy: 1.0000\n",
      "75/75 [==============================] - 0s 519us/step\n"
     ]
    }
   ],
   "source": [
    "clf.fit(X_train, Y_train_bin)\n",
    "y_pred = clf.predict(X_test)"
   ]
  },
  {
   "cell_type": "markdown",
   "metadata": {},
   "source": [
    "### 19) Use the predictions to generate a confusion matrix."
   ]
  },
  {
   "cell_type": "code",
   "execution_count": 107,
   "metadata": {},
   "outputs": [
    {
     "name": "stdout",
     "output_type": "stream",
     "text": [
      "[[22  1  0]\n",
      " [ 0 19  3]\n",
      " [ 0  2 28]]\n"
     ]
    }
   ],
   "source": [
    "y_pred_cat = list(range(75)) # list will hold species names of predictions\n",
    "for i in range(len(y_pred)):\n",
    "    y_pred_cat[i] = enc.get_feature_names()[y_pred[i]].split(\"_\")[1] # returns 'x0_setosa' --> use split to remove 'x0_'\n",
    "\n",
    "# generate and print confusion matrix\n",
    "c_matrix = confusion_matrix(enc.inverse_transform(Y_test_bin), y_pred_cat)\n",
    "print(c_matrix)"
   ]
  },
  {
   "cell_type": "markdown",
   "metadata": {},
   "source": [
    "### 20) Generate a performance report with the classification_report function."
   ]
  },
  {
   "cell_type": "code",
   "execution_count": 108,
   "metadata": {},
   "outputs": [
    {
     "name": "stdout",
     "output_type": "stream",
     "text": [
      "              precision    recall  f1-score   support\n",
      "\n",
      "      setosa       1.00      0.96      0.98        23\n",
      "  versicolor       0.86      0.86      0.86        22\n",
      "   virginica       0.90      0.93      0.92        30\n",
      "\n",
      "    accuracy                           0.92        75\n",
      "   macro avg       0.92      0.92      0.92        75\n",
      "weighted avg       0.92      0.92      0.92        75\n",
      "\n"
     ]
    }
   ],
   "source": [
    "# generate and print classification report\n",
    "print(classification_report(Y_test.species, y_pred_cat))"
   ]
  },
  {
   "cell_type": "markdown",
   "metadata": {},
   "source": [
    "### 21) Now, harness the power of wrapping this class. Use your code from lab10 that performed a full cross validation. For sake of your time, you may set K to 5. Also, you will likely want to disable verbose mode for this, otherwise you'll have a LOT of output. AND, because deep learning models can take a while to train each model, it is a good idea to generate some output in your loop to show that the cross validation is progressing."
   ]
  },
  {
   "cell_type": "code",
   "execution_count": 129,
   "metadata": {},
   "outputs": [],
   "source": [
    "df_iris_y_bin = pd.DataFrame(enc.transform(df_iris_y).toarray(), columns = enc.categories_, index = df_iris_y.index)"
   ]
  },
  {
   "cell_type": "code",
   "execution_count": 162,
   "metadata": {},
   "outputs": [
    {
     "name": "stdout",
     "output_type": "stream",
     "text": [
      "Starting fold\n",
      "Starting fold\n",
      "Starting fold\n",
      "Starting fold\n",
      "Starting fold\n"
     ]
    }
   ],
   "source": [
    "kfold = KFold(n_splits=5, shuffle=True, random_state=100) # create an instance of KFold with 10 splits\n",
    "\n",
    "\n",
    "# Assuming that dt_default is the predicted data\n",
    "# Create new dataframe to store results. Create dummy list for predicted_label so replace() works correctly\n",
    "df_results = pd.DataFrame({\"true_label\":df_iris.species, \"predicted_label\":list(range(150))}, index=df_iris.index)\n",
    "\n",
    "clf = clf = KerasClassifier(build_fn=create_keras_model, verbose=1, epochs=100, batch_size=1)\n",
    "\n",
    "for train, test in kfold.split(df_iris_x, df_iris_y_bin):\n",
    "    print(\"Starting fold\")\n",
    "    clf.fit(df_iris_x.loc[train], df_iris_y_bin.loc[train], verbose=0) # train tree\n",
    "    y_pred = clf.predict(df_iris_x.loc[test], verbose=0) # generate predictions\n",
    "    append_dict = dict(zip(test, y_pred)) # create dictionary for appending to dataframe --> key: index, value: prediction at index\n",
    "    df_results = df_results.replace(append_dict) # update df_results with current predictions\n"
   ]
  },
  {
   "cell_type": "markdown",
   "metadata": {},
   "source": [
    "### 22) Generate a full confusion matrix and final classification report based on your 5-fold cross validation of the keras model."
   ]
  },
  {
   "cell_type": "code",
   "execution_count": 163,
   "metadata": {},
   "outputs": [
    {
     "name": "stdout",
     "output_type": "stream",
     "text": [
      "[[49  1  0]\n",
      " [ 3 46  1]\n",
      " [30  2 18]]\n",
      "              precision    recall  f1-score   support\n",
      "\n",
      "      setosa       0.60      0.98      0.74        50\n",
      "  versicolor       0.94      0.92      0.93        50\n",
      "   virginica       0.95      0.36      0.52        50\n",
      "\n",
      "    accuracy                           0.75       150\n",
      "   macro avg       0.83      0.75      0.73       150\n",
      "weighted avg       0.83      0.75      0.73       150\n",
      "\n"
     ]
    },
    {
     "data": {
      "image/png": "[encoded data removed]",
      "text/plain": [
       "<Figure size 432x288 with 2 Axes>"
      ]
     },
     "metadata": {
      "needs_background": "light"
     },
     "output_type": "display_data"
    }
   ],
   "source": [
    "df_results.predicted_label = df_results.apply(lambda row: enc.get_feature_names()[row.predicted_label].split(\"_\")[1], axis=1)\n",
    "\n",
    "# generate and print confusion matrix\n",
    "c_matrix = confusion_matrix(df_results.true_label, df_results.predicted_label)\n",
    "print(c_matrix)\n",
    "\n",
    "# generate and print classification report\n",
    "print(classification_report(df_results.true_label, df_results.predicted_label))\n",
    "\n",
    "# output plot of confusion matrix\n",
    "df_c_matrix = pd.DataFrame(c_matrix, columns = [\"Setosa\", \"Versicolor\", \"Virginica\"], index=[\"Setosa\", \"Versicolor\", \"Virginica\"])\n",
    "\n",
    "\n",
    "new_axes = plt.axes()\n",
    "new_axes.set_title(\"Confusion Matrix\")\n",
    "new_axes.set_ylabel(\"True Label\")\n",
    "new_axes.set_xlabel(\"Predicted Label\")\n",
    "sns.heatmap(df_c_matrix, cmap=\"RdYlGn\", fmt=\"\", annot=df_c_matrix, ax=new_axes)\n",
    "plt.show()"
   ]
  },
  {
   "cell_type": "code",
   "execution_count": null,
   "metadata": {},
   "outputs": [],
   "source": []
  }
 ],
 "metadata": {
  "kernelspec": {
   "display_name": "Python 3",
   "language": "python",
   "name": "python3"
  },
  "language_info": {
   "codemirror_mode": {
    "name": "ipython",
    "version": 3
   },
   "file_extension": ".py",
   "mimetype": "text/x-python",
   "name": "python",
   "nbconvert_exporter": "python",
   "pygments_lexer": "ipython3",
   "version": "3.7.6"
  }
 },
 "nbformat": 4,
 "nbformat_minor": 4
}
